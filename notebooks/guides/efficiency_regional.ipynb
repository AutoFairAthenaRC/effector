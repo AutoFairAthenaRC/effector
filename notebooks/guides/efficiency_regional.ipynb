{
 "cells": [
  {
   "cell_type": "markdown",
   "id": "b1b93cbd-a16e-4571-a6d5-0b28068e6634",
   "metadata": {},
   "source": [
    "# Measuring Runtime of Regional Effect Plots  \n",
    "\n",
    "This notebook analyzes the runtime $T(\\cdot)$ of Regional Effect plots, which depends on:  \n",
    "\n",
    "- **$t_f$**: Time to evaluate the black-box function $f$.  \n",
    "- **$N$**: Number of instances in $X$.  \n",
    "- **$D$**: Number of features in $X$.  \n",
    "- **$K$**: Number of points for centering the feature effect plot.  \n",
    "- **$M$**: Number of evaluation points.  \n",
    "\n",
    "The main factors affecting runtime are $t_f$, $N$, and $D$.  \n",
    "\n",
    "### Runtime Breakdown  \n",
    "\n",
    "1. **Global heterogeneity computation** ($T_{global}$):  \n",
    "   - Done once for the entire dataset.  \n",
    "   - Stores intermediate values for reuse.  \n",
    "   - Runtime:  \n",
    "     - $T_{global} = \\mathcal{O}(N) + \\mathcal{O}(t_f)$ for PDP and d-PDP.  \n",
    "     - $T_{global} = \\mathcal{O}(t_f)$ for RHALE.  \n",
    "\n",
    "2. **Cart-based subregion heterogeneity** ($T_{cart}$):  \n",
    "   - Iterates over $D-1$ features.  \n",
    "   - Evaluates $P$ possible conditioning positions.  \n",
    "   - Recursively splits the dataset up to depth $L$.  \n",
    "   - Heterogeneity is computed without re-evaluating $f$, only splitting and indexing instances.  \n",
    "\n",
    "   $$ T_{cart} = (D-1)PL \\cdot T(N) $$  \n",
    "\n",
    "### Total Runtime  \n",
    "\n",
    "$$\n",
    "T(t_f, N, D) \\approx T_{global} + T_{cart} \\approx \\mathcal{O}(N) + \\mathcal{O}(t_f) + \\mathcal{O}(DPLN)\n",
    "$$  \n",
    "\n",
    "Runtime is **linear in all key variables**. When computing for all features, it scales as $D^2$.  \n",
    "\n",
    "Now, let's test this in practice!"
   ]
  },
  {
   "cell_type": "code",
   "execution_count": 1,
   "id": "604af401-a655-4ac1-9c52-7cf1a32223c1",
   "metadata": {},
   "outputs": [],
   "source": [
    "import effector\n",
    "import numpy as np\n",
    "import timeit\n",
    "import time\n",
    "import matplotlib.pyplot as plt\n",
    "np.random.seed(21)"
   ]
  },
  {
   "cell_type": "code",
   "execution_count": 2,
   "id": "11014b26-f577-4d4b-a100-9d7a498d1fec",
   "metadata": {},
   "outputs": [],
   "source": [
    "def return_predict(t):\n",
    "    def predict(x):\n",
    "        time.sleep(t)\n",
    "        model = effector.models.DoubleConditionalInteraction()\n",
    "        return model.predict(x)\n",
    "    return predict\n",
    "\n",
    "def return_jacobian(t):\n",
    "    def jacobian(x):\n",
    "        time.sleep(t)\n",
    "        model = effector.models.DoubleConditionalInteraction()\n",
    "        return model.jacobian(x)\n",
    "    return jacobian"
   ]
  },
  {
   "cell_type": "code",
   "execution_count": 3,
   "id": "7acba9b6-6429-4817-9953-c66636c38c47",
   "metadata": {},
   "outputs": [],
   "source": [
    "def measure_time(method_name, features):\n",
    "    fit_time_list, eval_time_list = [], []\n",
    "    X = np.random.uniform(-1, 1, (N, D))\n",
    "    xx = np.linspace(-1, 1, M)\n",
    "    axis_limits = np.array([[-1] * D, [1] * D])\n",
    "\n",
    "    method_map = {\n",
    "        \"pdp\": effector.RegionalPDP,\n",
    "        \"d_pdp\": effector.RegionalDerPDP,\n",
    "        \"ale\": effector.RegionalALE,\n",
    "        \"rhale\": effector.RegionalRHALE,\n",
    "        \"shap_dp\": effector.RegionalShapDP\n",
    "    }\n",
    "\n",
    "    for _ in range(repetitions):\n",
    "        # general kwargs\n",
    "        method_kwargs = {\"data\": X, \"model\": model, \"axis_limits\": axis_limits, \"nof_instances\":\"all\"}\n",
    "        fit_kwargs = {\"features\": features, \"centering\": True, \"points_for_centering\": K, \"max_depth\": 2}\n",
    "\n",
    "        # specialize kwargs per method\n",
    "        if method_name in [\"d_pdp\", \"rhale\"]:\n",
    "            method_kwargs[\"model_jac\"] = model_jac\n",
    "        if method_name in [\"rhale\", \"ale\"]:\n",
    "            fit_kwargs[\"binning_method\"] = effector.axis_partitioning.Fixed(nof_bins=20, min_points_per_bin=0.)\n",
    "            fit_kwargs.pop(\"centering\")\n",
    "            fit_kwargs.pop(\"points_for_centering\")\n",
    "\n",
    "        # init\n",
    "        method = method_map[method_name](**method_kwargs)\n",
    "\n",
    "        # fit\n",
    "        tic = time.time()\n",
    "        method.fit(**fit_kwargs)\n",
    "        fit_time_list.append(time.time() - tic)\n",
    "\n",
    "        # eval\n",
    "        tic = time.time()\n",
    "        for feat in features:\n",
    "            eval_kwargs = {\"feature\": feat, \"node_idx\": 0, \"xs\": xx, \"centering\": True, \"heterogeneity\": True}\n",
    "            method.eval(**eval_kwargs)\n",
    "        eval_time_list.append(time.time() - tic)\n",
    "\n",
    "    return {\"fit\": np.mean(fit_time_list), \"eval\": np.mean(eval_time_list), \"total\": (np.mean(fit_time_list) + np.mean(eval_time_list))}"
   ]
  },
  {
   "cell_type": "code",
   "execution_count": 4,
   "id": "40426c45-8511-4476-b23f-cf43873b9e39",
   "metadata": {},
   "outputs": [],
   "source": [
    "import matplotlib.pyplot as plt\n",
    "\n",
    "def bar_plot(xs, time_dict, methods, metric, title, xlabel, ylabel, bar_width=0.02):\n",
    "\n",
    "    bar_width = (np.max(xs) - np.min(xs)) / 40\n",
    "    method_to_label = {\"ale\": \"ALE\", \"rhale\": \"RHALE\", \"pdp\": \"PDP\", \"d_pdp\": \"d-pdp\", \"shap_dp\": \"SHAP DP\"}\n",
    "    plt.figure()\n",
    "    \n",
    "    # Calculate the offsets for each bar group\n",
    "    offsets = np.linspace(-2*bar_width, 2*bar_width, len(methods))\n",
    "    \n",
    "    for i, method in enumerate(methods):\n",
    "        label = method_to_label[method]\n",
    "        plt.bar(\n",
    "            xs + offsets[i],\n",
    "            [tt[metric] for tt in time_dict[method]],\n",
    "            label=label,\n",
    "            width=bar_width\n",
    "        )\n",
    "    \n",
    "    plt.title(title)\n",
    "    plt.xlabel(xlabel)\n",
    "    plt.ylabel(ylabel)\n",
    "    plt.legend()\n",
    "    plt.show()"
   ]
  },
  {
   "cell_type": "markdown",
   "id": "5387c3ad-7662-4a89-9a3f-6f78ad63e95d",
   "metadata": {},
   "source": [
    "## Runtime vs $t_f$"
   ]
  },
  {
   "cell_type": "code",
   "execution_count": 5,
   "id": "4ae47d89-aedf-4c27-b0bc-b99361b1d1b4",
   "metadata": {},
   "outputs": [],
   "source": [
    "t = 0.001\n",
    "N = 10_000\n",
    "D = 5\n",
    "K = 100\n",
    "M = 100\n",
    "repetitions = 2\n",
    "features=[0]"
   ]
  },
  {
   "cell_type": "code",
   "execution_count": 6,
   "id": "7feba3cf-4629-4501-bc9c-6982718ea2f0",
   "metadata": {},
   "outputs": [
    {
     "name": "stderr",
     "output_type": "stream",
     "text": [
      "100%|█████████████████████████████████████████████████████████████████████████████████████████████████████████████████████████████████████████████████████████████████████████| 1/1 [00:00<00:00,  2.13it/s]\n",
      "100%|█████████████████████████████████████████████████████████████████████████████████████████████████████████████████████████████████████████████████████████████████████████| 1/1 [00:00<00:00,  2.17it/s]\n",
      "100%|█████████████████████████████████████████████████████████████████████████████████████████████████████████████████████████████████████████████████████████████████████████| 1/1 [00:00<00:00,  1.17it/s]\n",
      "100%|█████████████████████████████████████████████████████████████████████████████████████████████████████████████████████████████████████████████████████████████████████████| 1/1 [00:00<00:00,  1.55it/s]\n",
      "100%|█████████████████████████████████████████████████████████████████████████████████████████████████████████████████████████████████████████████████████████████████████████| 1/1 [00:00<00:00,  1.33it/s]\n",
      "100%|█████████████████████████████████████████████████████████████████████████████████████████████████████████████████████████████████████████████████████████████████████████| 1/1 [00:00<00:00,  1.23it/s]\n",
      "100%|█████████████████████████████████████████████████████████████████████████████████████████████████████████████████████████████████████████████████████████████████████████| 1/1 [00:01<00:00,  1.22s/it]\n",
      "100%|█████████████████████████████████████████████████████████████████████████████████████████████████████████████████████████████████████████████████████████████████████████| 1/1 [00:01<00:00,  1.26s/it]\n",
      "100%|█████████████████████████████████████████████████████████████████████████████████████████████████████████████████████████████████████████████████████████████████████████| 1/1 [00:01<00:00,  1.28s/it]\n",
      "100%|█████████████████████████████████████████████████████████████████████████████████████████████████████████████████████████████████████████████████████████████████████████| 1/1 [00:01<00:00,  1.35s/it]\n",
      "100%|█████████████████████████████████████████████████████████████████████████████████████████████████████████████████████████████████████████████████████████████████████████| 1/1 [00:00<00:00,  1.44it/s]\n",
      "100%|█████████████████████████████████████████████████████████████████████████████████████████████████████████████████████████████████████████████████████████████████████████| 1/1 [00:00<00:00,  1.47it/s]\n",
      "100%|█████████████████████████████████████████████████████████████████████████████████████████████████████████████████████████████████████████████████████████████████████████| 1/1 [00:01<00:00,  1.55s/it]\n",
      "100%|█████████████████████████████████████████████████████████████████████████████████████████████████████████████████████████████████████████████████████████████████████████| 1/1 [00:01<00:00,  1.52s/it]\n",
      "100%|█████████████████████████████████████████████████████████████████████████████████████████████████████████████████████████████████████████████████████████████████████████| 1/1 [00:02<00:00,  2.05s/it]\n",
      "100%|█████████████████████████████████████████████████████████████████████████████████████████████████████████████████████████████████████████████████████████████████████████| 1/1 [00:02<00:00,  2.07s/it]\n",
      "100%|█████████████████████████████████████████████████████████████████████████████████████████████████████████████████████████████████████████████████████████████████████████| 1/1 [00:02<00:00,  2.26s/it]\n",
      "100%|█████████████████████████████████████████████████████████████████████████████████████████████████████████████████████████████████████████████████████████████████████████| 1/1 [00:02<00:00,  2.27s/it]\n",
      "100%|█████████████████████████████████████████████████████████████████████████████████████████████████████████████████████████████████████████████████████████████████████████| 1/1 [00:00<00:00,  1.44it/s]\n",
      "100%|█████████████████████████████████████████████████████████████████████████████████████████████████████████████████████████████████████████████████████████████████████████| 1/1 [00:00<00:00,  1.47it/s]\n",
      "100%|█████████████████████████████████████████████████████████████████████████████████████████████████████████████████████████████████████████████████████████████████████████| 1/1 [00:02<00:00,  2.52s/it]\n",
      "100%|█████████████████████████████████████████████████████████████████████████████████████████████████████████████████████████████████████████████████████████████████████████| 1/1 [00:02<00:00,  2.54s/it]\n",
      "100%|█████████████████████████████████████████████████████████████████████████████████████████████████████████████████████████████████████████████████████████████████████████| 1/1 [00:03<00:00,  3.05s/it]\n",
      "100%|█████████████████████████████████████████████████████████████████████████████████████████████████████████████████████████████████████████████████████████████████████████| 1/1 [00:03<00:00,  3.07s/it]\n"
     ]
    }
   ],
   "source": [
    "method_names = [\"ale\", \"rhale\", \"pdp\", \"d_pdp\"]\n",
    "vec = np.array([.1, .5, 1.])\n",
    "time_dict = {method_name: [] for method_name in method_names}\n",
    "for t in vec:\n",
    "    model = return_predict(t)\n",
    "    model_jac = return_jacobian(t)\n",
    "    for method_name in method_names:\n",
    "        time_dict[method_name].append(measure_time(method_name, features))"
   ]
  },
  {
   "cell_type": "code",
   "execution_count": 7,
   "id": "79a6b824-875d-4f80-99a4-5b3be9e3055a",
   "metadata": {},
   "outputs": [
    {
     "data": {
      "image/png": "[encoded data removed]",
      "text/plain": [
       "<Figure size 640x480 with 1 Axes>"
      ]
     },
     "metadata": {},
     "output_type": "display_data"
    }
   ],
   "source": [
    "for metric in [\"total\"]:\n",
    "    if metric in [\"fit\", \"eval\"]:\n",
    "        title = \"Runtime: .\" + metric + \"() -- single feature\"\n",
    "    else:\n",
    "        title = \"Runtime: .fit() + .eval() -- single feature\"\n",
    "    \n",
    "    bar_plot(\n",
    "        vec, \n",
    "        time_dict, \n",
    "        method_names,\n",
    "        metric=metric,\n",
    "        title=title,\n",
    "        xlabel=\"time (sec) to execute f(dataset)\",\n",
    "        ylabel=\"time (sec)\"\n",
    ")"
   ]
  },
  {
   "cell_type": "markdown",
   "id": "8651866b-0ed0-46ca-bd99-3f2d8b2fe70c",
   "metadata": {},
   "source": [
    "## Runtime vs. D"
   ]
  },
  {
   "cell_type": "code",
   "execution_count": 8,
   "id": "416998a2-53f9-4e2f-8d01-dfb3f61ca131",
   "metadata": {},
   "outputs": [],
   "source": [
    "t = 0.001\n",
    "N = 10_000\n",
    "D = 5\n",
    "K = 100\n",
    "M = 100\n",
    "repetitions = 2\n",
    "features=[0]"
   ]
  },
  {
   "cell_type": "code",
   "execution_count": 9,
   "id": "c1867595-1f6b-4538-bae3-0391895ca1a2",
   "metadata": {},
   "outputs": [
    {
     "name": "stderr",
     "output_type": "stream",
     "text": [
      "100%|█████████████████████████████████████████████████████████████████████████████████████████████████████████████████████████████████████████████████████████████████████████| 1/1 [00:00<00:00,  7.50it/s]\n",
      "100%|█████████████████████████████████████████████████████████████████████████████████████████████████████████████████████████████████████████████████████████████████████████| 1/1 [00:00<00:00,  7.69it/s]\n",
      "100%|█████████████████████████████████████████████████████████████████████████████████████████████████████████████████████████████████████████████████████████████████████████| 1/1 [00:00<00:00,  3.14it/s]\n",
      "100%|█████████████████████████████████████████████████████████████████████████████████████████████████████████████████████████████████████████████████████████████████████████| 1/1 [00:00<00:00,  3.15it/s]\n",
      "100%|█████████████████████████████████████████████████████████████████████████████████████████████████████████████████████████████████████████████████████████████████████████| 1/1 [00:00<00:00,  3.61it/s]\n",
      "100%|█████████████████████████████████████████████████████████████████████████████████████████████████████████████████████████████████████████████████████████████████████████| 1/1 [00:00<00:00,  3.69it/s]\n",
      "100%|█████████████████████████████████████████████████████████████████████████████████████████████████████████████████████████████████████████████████████████████████████████| 1/1 [00:00<00:00,  2.11it/s]\n",
      "100%|█████████████████████████████████████████████████████████████████████████████████████████████████████████████████████████████████████████████████████████████████████████| 1/1 [00:00<00:00,  2.23it/s]\n",
      "100%|█████████████████████████████████████████████████████████████████████████████████████████████████████████████████████████████████████████████████████████████████████████| 1/1 [00:00<00:00,  5.43it/s]\n",
      "100%|█████████████████████████████████████████████████████████████████████████████████████████████████████████████████████████████████████████████████████████████████████████| 1/1 [00:00<00:00,  5.39it/s]\n",
      "100%|█████████████████████████████████████████████████████████████████████████████████████████████████████████████████████████████████████████████████████████████████████████| 1/1 [00:00<00:00,  2.13it/s]\n",
      "100%|█████████████████████████████████████████████████████████████████████████████████████████████████████████████████████████████████████████████████████████████████████████| 1/1 [00:00<00:00,  2.18it/s]\n",
      "100%|█████████████████████████████████████████████████████████████████████████████████████████████████████████████████████████████████████████████████████████████████████████| 1/1 [00:00<00:00,  1.88it/s]\n",
      "100%|█████████████████████████████████████████████████████████████████████████████████████████████████████████████████████████████████████████████████████████████████████████| 1/1 [00:00<00:00,  2.62it/s]\n",
      "100%|█████████████████████████████████████████████████████████████████████████████████████████████████████████████████████████████████████████████████████████████████████████| 1/1 [00:00<00:00,  1.40it/s]\n",
      "100%|█████████████████████████████████████████████████████████████████████████████████████████████████████████████████████████████████████████████████████████████████████████| 1/1 [00:00<00:00,  1.46it/s]\n",
      "100%|█████████████████████████████████████████████████████████████████████████████████████████████████████████████████████████████████████████████████████████████████████████| 1/1 [00:00<00:00,  4.10it/s]\n",
      "100%|█████████████████████████████████████████████████████████████████████████████████████████████████████████████████████████████████████████████████████████████████████████| 1/1 [00:00<00:00,  4.00it/s]\n",
      "100%|█████████████████████████████████████████████████████████████████████████████████████████████████████████████████████████████████████████████████████████████████████████| 1/1 [00:00<00:00,  1.49it/s]\n",
      "100%|█████████████████████████████████████████████████████████████████████████████████████████████████████████████████████████████████████████████████████████████████████████| 1/1 [00:00<00:00,  1.59it/s]\n",
      "100%|█████████████████████████████████████████████████████████████████████████████████████████████████████████████████████████████████████████████████████████████████████████| 1/1 [00:00<00:00,  2.11it/s]\n",
      "100%|█████████████████████████████████████████████████████████████████████████████████████████████████████████████████████████████████████████████████████████████████████████| 1/1 [00:00<00:00,  1.81it/s]\n",
      "100%|█████████████████████████████████████████████████████████████████████████████████████████████████████████████████████████████████████████████████████████████████████████| 1/1 [00:01<00:00,  1.08s/it]\n",
      "100%|█████████████████████████████████████████████████████████████████████████████████████████████████████████████████████████████████████████████████████████████████████████| 1/1 [00:01<00:00,  1.04s/it]\n",
      "100%|█████████████████████████████████████████████████████████████████████████████████████████████████████████████████████████████████████████████████████████████████████████| 1/1 [00:00<00:00,  3.39it/s]\n",
      "100%|█████████████████████████████████████████████████████████████████████████████████████████████████████████████████████████████████████████████████████████████████████████| 1/1 [00:00<00:00,  3.36it/s]\n",
      "100%|█████████████████████████████████████████████████████████████████████████████████████████████████████████████████████████████████████████████████████████████████████████| 1/1 [00:00<00:00,  1.23it/s]\n",
      "100%|█████████████████████████████████████████████████████████████████████████████████████████████████████████████████████████████████████████████████████████████████████████| 1/1 [00:00<00:00,  1.23it/s]\n",
      "100%|█████████████████████████████████████████████████████████████████████████████████████████████████████████████████████████████████████████████████████████████████████████| 1/1 [00:00<00:00,  1.76it/s]\n",
      "100%|█████████████████████████████████████████████████████████████████████████████████████████████████████████████████████████████████████████████████████████████████████████| 1/1 [00:00<00:00,  1.83it/s]\n",
      "100%|█████████████████████████████████████████████████████████████████████████████████████████████████████████████████████████████████████████████████████████████████████████| 1/1 [00:01<00:00,  1.26s/it]\n",
      "100%|█████████████████████████████████████████████████████████████████████████████████████████████████████████████████████████████████████████████████████████████████████████| 1/1 [00:01<00:00,  1.30s/it]\n"
     ]
    }
   ],
   "source": [
    "method_names = [\"ale\", \"rhale\", \"pdp\", \"d_pdp\"]\n",
    "vec = np.array([3, 4, 5, 6])\n",
    "time_dict = {method_name: [] for method_name in method_names}\n",
    "for D in vec:\n",
    "    model = return_predict(t)\n",
    "    model_jac = return_jacobian(t)\n",
    "    for method_name in method_names:\n",
    "        time_dict[method_name].append(measure_time(method_name, features))"
   ]
  },
  {
   "cell_type": "code",
   "execution_count": 10,
   "id": "640cf511-822d-4411-9970-6d58e6d67eaf",
   "metadata": {},
   "outputs": [
    {
     "data": {
      "image/png": "[encoded data removed]",
      "text/plain": [
       "<Figure size 640x480 with 1 Axes>"
      ]
     },
     "metadata": {},
     "output_type": "display_data"
    }
   ],
   "source": [
    "for metric in [\"total\"]:\n",
    "    if metric in [\"fit\", \"eval\"]:\n",
    "        title = \"Runtime: .\" + metric + \"() -- single feature\"\n",
    "    else:\n",
    "        title = \"Runtime: .fit() + .eval() -- single feature\"\n",
    "    \n",
    "    bar_plot(\n",
    "        vec, \n",
    "        time_dict, \n",
    "        method_names,\n",
    "        metric=metric,\n",
    "        title=title,\n",
    "        xlabel=\"D: number of features\",\n",
    "        ylabel=\"time (sec)\"\n",
    ")"
   ]
  },
  {
   "cell_type": "markdown",
   "id": "38ccef4b-a151-4cb6-916b-10c434f21245",
   "metadata": {},
   "source": [
    "## Time vs N (number of features)"
   ]
  },
  {
   "cell_type": "code",
   "execution_count": 11,
   "id": "6433149b-f351-4906-ad2e-293ee5a77820",
   "metadata": {},
   "outputs": [],
   "source": [
    "t = 0.001\n",
    "N = 100_000\n",
    "D = 5\n",
    "T = 100\n",
    "K = 100\n",
    "repetitions = 2\n",
    "features=[0]"
   ]
  },
  {
   "cell_type": "code",
   "execution_count": null,
   "id": "f5c67862-7d11-4802-86bd-a8a0fd5f373d",
   "metadata": {},
   "outputs": [
    {
     "name": "stderr",
     "output_type": "stream",
     "text": [
      "100%|█████████████████████████████████████████████████████████████████████████████████████████████████████████████████████████████████████████████████████████████████████████| 1/1 [00:00<00:00,  4.29it/s]\n",
      "100%|█████████████████████████████████████████████████████████████████████████████████████████████████████████████████████████████████████████████████████████████████████████| 1/1 [00:00<00:00,  4.77it/s]\n",
      "100%|█████████████████████████████████████████████████████████████████████████████████████████████████████████████████████████████████████████████████████████████████████████| 1/1 [00:00<00:00,  1.84it/s]\n",
      "100%|█████████████████████████████████████████████████████████████████████████████████████████████████████████████████████████████████████████████████████████████████████████| 1/1 [00:00<00:00,  1.82it/s]\n",
      "100%|█████████████████████████████████████████████████████████████████████████████████████████████████████████████████████████████████████████████████████████████████████████| 1/1 [00:00<00:00,  1.95it/s]\n",
      "100%|█████████████████████████████████████████████████████████████████████████████████████████████████████████████████████████████████████████████████████████████████████████| 1/1 [00:00<00:00,  1.78it/s]\n",
      "100%|█████████████████████████████████████████████████████████████████████████████████████████████████████████████████████████████████████████████████████████████████████████| 1/1 [00:00<00:00,  1.05it/s]\n",
      "100%|█████████████████████████████████████████████████████████████████████████████████████████████████████████████████████████████████████████████████████████████████████████| 1/1 [00:00<00:00,  1.03it/s]\n",
      "100%|█████████████████████████████████████████████████████████████████████████████████████████████████████████████████████████████████████████████████████████████████████████| 1/1 [00:00<00:00,  2.61it/s]\n",
      "100%|█████████████████████████████████████████████████████████████████████████████████████████████████████████████████████████████████████████████████████████████████████████| 1/1 [00:00<00:00,  2.53it/s]\n",
      "100%|█████████████████████████████████████████████████████████████████████████████████████████████████████████████████████████████████████████████████████████████████████████| 1/1 [00:01<00:00,  1.10s/it]\n",
      "100%|█████████████████████████████████████████████████████████████████████████████████████████████████████████████████████████████████████████████████████████████████████████| 1/1 [00:01<00:00,  1.08s/it]\n",
      "100%|█████████████████████████████████████████████████████████████████████████████████████████████████████████████████████████████████████████████████████████████████████████| 1/1 [00:01<00:00,  1.09s/it]\n",
      "  0%|                                                                                                                                                                                 | 0/1 [00:00<?, ?it/s]"
     ]
    }
   ],
   "source": [
    "method_names = [\"ale\", \"rhale\", \"pdp\", \"d_pdp\"]\n",
    "vec = np.array([10_000, 20_000, 30_000])\n",
    "time_dict = {method_name: [] for method_name in method_names}\n",
    "for N in vec:\n",
    "    model = return_predict(t)\n",
    "    model_jac = return_jacobian(t)\n",
    "    for method_name in method_names:\n",
    "        time_dict[method_name].append(measure_time(method_name, features))"
   ]
  },
  {
   "cell_type": "code",
   "execution_count": null,
   "id": "baee10d4-cb61-4715-97f9-f637884f1c5b",
   "metadata": {},
   "outputs": [],
   "source": [
    "for metric in [\"total\"]:\n",
    "    if metric in [\"fit\", \"eval\"]:\n",
    "        title = \"Runtime: .\" + metric + \"() -- single feature\"\n",
    "    else:\n",
    "        title = \"Runtime: .fit() + .eval() -- single feature\"\n",
    "    \n",
    "    bar_plot(\n",
    "        vec, \n",
    "        time_dict, \n",
    "        method_names,\n",
    "        metric=metric,\n",
    "        title=title,\n",
    "        xlabel=\"N: nof instances\",\n",
    "        ylabel=\"time (sec)\"\n",
    ")"
   ]
  },
  {
   "cell_type": "markdown",
   "id": "12af7507-d1f8-4bb4-a688-01285d5cb2f1",
   "metadata": {},
   "source": [
    "## A demanding example"
   ]
  },
  {
   "cell_type": "code",
   "execution_count": null,
   "id": "d2ee467c-e008-46e9-b0ad-7e1c2776fd69",
   "metadata": {},
   "outputs": [],
   "source": [
    "t = 0.1\n",
    "N = 50_000\n",
    "D = 15\n",
    "T = 100\n",
    "K = 100\n",
    "repetitions = 2\n",
    "features=[0]"
   ]
  },
  {
   "cell_type": "code",
   "execution_count": null,
   "id": "6a29d944-1453-4c45-93d1-4728874e4e9d",
   "metadata": {},
   "outputs": [],
   "source": [
    "method_names = [\"ale\", \"rhale\", \"pdp\", \"d_pdp\"]\n",
    "time_dict = {method_name: [] for method_name in method_names}\n",
    "model = return_predict(t)\n",
    "model_jac = return_jacobian(t)\n",
    "for method_name in method_names:\n",
    "    time_dict[method_name].append(measure_time(method_name, features))"
   ]
  },
  {
   "cell_type": "code",
   "execution_count": null,
   "id": "809ad014-d3b4-4847-b0e1-c861532b9a0f",
   "metadata": {},
   "outputs": [],
   "source": [
    "time_dict"
   ]
  },
  {
   "cell_type": "code",
   "execution_count": null,
   "id": "f90b74ca-d408-4b70-87b2-4806d0fb1c77",
   "metadata": {},
   "outputs": [],
   "source": [
    "bar_plot(np.array([1, 2]), time_dict, method_names, metric=\"total\", \n",
    "         title=\"a\",\n",
    "         xlabel=\"A difficult case\",\n",
    "         ylabel=\"time (sec)\",\n",
    "        )"
   ]
  },
  {
   "cell_type": "code",
   "execution_count": null,
   "id": "a55fbba9-9b54-45c4-9524-81a7d4aa9bdc",
   "metadata": {},
   "outputs": [],
   "source": []
  }
 ],
 "metadata": {
  "kernelspec": {
   "display_name": "Python 3 (ipykernel)",
   "language": "python",
   "name": "python3"
  },
  "language_info": {
   "codemirror_mode": {
    "name": "ipython",
    "version": 3
   },
   "file_extension": ".py",
   "mimetype": "text/x-python",
   "name": "python",
   "nbconvert_exporter": "python",
   "pygments_lexer": "ipython3",
   "version": "3.10.15"
  }
 },
 "nbformat": 4,
 "nbformat_minor": 5
}
