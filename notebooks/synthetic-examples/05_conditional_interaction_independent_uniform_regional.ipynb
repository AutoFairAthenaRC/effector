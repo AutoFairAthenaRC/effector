{
 "cells": [
  {
   "cell_type": "markdown",
   "id": "f36c40a7-ffc2-4e01-87a8-5b5459eea3df",
   "metadata": {},
   "source": [
    "# Model with conditional interaction\n",
    "\n",
    "In this example, we show regional effects of a model with conditional interactions using PDP, ALE, and RHALE.\n",
    "In particular, we:\n",
    "\n",
    "1. show how to use `effector` to estimate the regional effects using PDP, ALE, and RHALE\n",
    "2. provide the analytical formulas for the regional effects\n",
    "3. test that (1) and (2) match"
   ]
  },
  {
   "cell_type": "markdown",
   "id": "1a197c76-8f0d-4e48-bf8f-06f25327db69",
   "metadata": {},
   "source": [
    "We will use the following model: \n",
    "\n",
    "$$ \n",
    "f(x_1, x_2, x_3) = -x_1^2 \\mathbb{1}_{x_2 <0} + x_1^2 \\mathbb{1}_{x_2 \\geq 0} + e^{x_3} \n",
    "$$\n",
    "\n",
    "where the features $x_1, x_2, x_3$ are independent and uniformly distributed in the interval $[-1, 1]$.\n",
    "\n",
    "\n",
    "The model has an _interaction_ between $x_1$ and $x_2$ caused by the terms: \n",
    "$f_{1,2}(x_1, x_2) = -x_1^2 \\mathbb{1}_{x_2 <0} + x_1^2 \\mathbb{1}_{x_2 \\geq 0}$.\n",
    "This means that the effect of $x_1$ on the output $y$ depends on the value of $x_2$ and vice versa.\n",
    "Therefore, there is no golden standard on how to split the effect of $f_{1,2}$ to two parts, one that corresponds to $x_1$ and one to $x_2$.\n",
    "Each global effect method has a different strategy to handle this issue.\n",
    "Below we will see how PDP, ALE, and RHALE handle this interaction.\n",
    "\n",
    "In contrast, $x_3$ does not interact with any other feature, so its effect can be easily computed as $e^{x_3}$."
   ]
  },
  {
   "cell_type": "code",
   "execution_count": null,
   "id": "e79522e7-a05c-48f3-9e10-acf166387398",
   "metadata": {},
   "outputs": [],
   "source": []
  }
 ],
 "metadata": {
  "kernelspec": {
   "display_name": "Python 3 (ipykernel)",
   "language": "python",
   "name": "python3"
  },
  "language_info": {
   "codemirror_mode": {
    "name": "ipython",
    "version": 3
   },
   "file_extension": ".py",
   "mimetype": "text/x-python",
   "name": "python",
   "nbconvert_exporter": "python",
   "pygments_lexer": "ipython3",
   "version": "3.9.20"
  }
 },
 "nbformat": 4,
 "nbformat_minor": 5
}
