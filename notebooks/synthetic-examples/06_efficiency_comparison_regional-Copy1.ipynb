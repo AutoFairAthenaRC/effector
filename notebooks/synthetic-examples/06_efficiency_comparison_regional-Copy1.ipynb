{
 "cells": [
  {
   "cell_type": "markdown",
   "id": "82407672-37cb-43ac-b77e-bd08b7e104a0",
   "metadata": {},
   "source": [
    "This tutorial measures the runtime of Global PDP plots, which are influenced by several factors:\n",
    "\n",
    "- $t_f$: How heavy the ML model is, i.e., how fast a single evaluation of the model is.\n",
    "- $N$: The number of instances.\n",
    "- $D$: The number of features.\n",
    "- $T$: Number of points used for centering the PDP plot, if needed.\n",
    "- $T$: The number of points we ask to evaluate on.\n",
    "\n",
    "We refer to both the points used for centering and the points to evaluate as $T$, because in practice, centering a PDP plot requires evaluating $T$ points.\n",
    "\n",
    "In this tutorial, we'll focus on $t$, $N$, and $D$ to measure how each influences the runtime of Global PDP.\n",
    "\n",
    "In Effector, we have two PDP implementations:\n",
    "- A vectorized version (faster but with higher memory demands)\n",
    "- A non-vectorized version (slower but uses less memory)\n",
    "\n",
    "The vectorized version internally creates a matrix of size $(T \\times N, D)$, which can challenge memory capacity. We aim to show that, when memory allows, the vectorized option is the better choice."
   ]
  },
  {
   "cell_type": "code",
   "id": "604af401-a655-4ac1-9c52-7cf1a32223c1",
   "metadata": {
    "ExecuteTime": {
     "end_time": "2025-01-28T14:56:24.846516Z",
     "start_time": "2025-01-28T14:56:23.594391Z"
    }
   },
   "source": [
    "import effector\n",
    "import numpy as np\n",
    "import timeit\n",
    "import time\n",
    "import matplotlib.pyplot as plt\n",
    "np.random.seed(21)"
   ],
   "outputs": [],
   "execution_count": 1
  },
  {
   "cell_type": "code",
   "id": "11014b26-f577-4d4b-a100-9d7a498d1fec",
   "metadata": {
    "ExecuteTime": {
     "end_time": "2025-01-28T14:56:24.872624Z",
     "start_time": "2025-01-28T14:56:24.868957Z"
    }
   },
   "source": [
    "def return_predict(t):\n",
    "    def predict(x):\n",
    "        time.sleep(t)\n",
    "        model = effector.models.DoubleConditionalInteraction()\n",
    "        return model.predict(x)\n",
    "    return predict\n",
    "\n",
    "def return_jacobian(t):\n",
    "    def jacobian(x):\n",
    "        time.sleep(t)\n",
    "        model = effector.models.DoubleConditionalInteraction()\n",
    "        return model.jacobian(x)\n",
    "    return jacobian"
   ],
   "outputs": [],
   "execution_count": 2
  },
  {
   "cell_type": "code",
   "id": "7acba9b6-6429-4817-9953-c66636c38c47",
   "metadata": {
    "ExecuteTime": {
     "end_time": "2025-01-28T14:56:25.048805Z",
     "start_time": "2025-01-28T14:56:25.042957Z"
    }
   },
   "source": [
    "def measure_time(method_name, repetitions):\n",
    "    pdp_times = []\n",
    "    for _ in range(repetitions):\n",
    "        X = np.random.uniform(-1, 1, (N, D))\n",
    "        xx = np.linspace(-1, 1, T)\n",
    "\n",
    "        axis_limits = np.zeros((2,D))\n",
    "        axis_limits[0, :] = -1\n",
    "        axis_limits[1, :] = 1\n",
    "        \n",
    "        start_time = time.time()\n",
    "\n",
    "        if method_name == \"pdp_vectorized\":\n",
    "            pdp = effector.RegionalPDP(data=X, model=model, axis_limits=axis_limits)\n",
    "            pdp.fit(0, centering=True, points_for_centering=T, use_vectorized=True)\n",
    "            pdp.eval(feature=0, node_idx=0, xs=xx, centering=True, heterogeneity=True)\n",
    "        elif method_name == \"ale\":\n",
    "            ale = effector.RegionalALE(data=X, model=model, axis_limits=axis_limits)\n",
    "            ale.fit(0)\n",
    "            ale.eval(feature=0, node_idx=0, xs=xx, centering=True, heterogeneity=True)\n",
    "        elif method_name == \"rhale\":\n",
    "            data_effect = model_jac(X)\n",
    "            rhale = effector.RegionalRHALE(data=X, model=model, model_jac=model_jac, instance_effects=data_effect, axis_limits=axis_limits)\n",
    "            binning_method = effector.binning_methods.Fixed(nof_bins=20)\n",
    "            rhale.fit(0, binning_method=binning_method)\n",
    "            rhale.eval(feature=0, node_idx=0, xs=xx, centering=True, heterogeneity=True)\n",
    "            \n",
    "    \n",
    "        pdp_times.append(time.time() - start_time)\n",
    "    return np.mean(pdp_times)/repetitions"
   ],
   "outputs": [],
   "execution_count": 3
  },
  {
   "cell_type": "markdown",
   "id": "5387c3ad-7662-4a89-9a3f-6f78ad63e95d",
   "metadata": {},
   "source": [
    "## PDP time vs t (time for a single evaluation of f)"
   ]
  },
  {
   "cell_type": "code",
   "id": "4ae47d89-aedf-4c27-b0bc-b99361b1d1b4",
   "metadata": {
    "ExecuteTime": {
     "end_time": "2025-01-28T14:58:57.573318Z",
     "start_time": "2025-01-28T14:58:57.569315Z"
    }
   },
   "source": [
    "t = 0.001\n",
    "N = 10_000\n",
    "D = 40\n",
    "T = 100"
   ],
   "outputs": [],
   "execution_count": 8
  },
  {
   "cell_type": "code",
   "id": "7feba3cf-4629-4501-bc9c-6982718ea2f0",
   "metadata": {
    "ExecuteTime": {
     "end_time": "2025-01-28T15:01:10.620441Z",
     "start_time": "2025-01-28T14:58:58.110925Z"
    }
   },
   "source": [
    "vec = [10**-5, 10**-4, 10**-3, 10**-2, 10**-1, 10**0] # , 10**-1]# , 1]\n",
    "time_dict = {\"ale\": [], \"rhale\": [], \"pdp_vectorized\":[]}\n",
    "for t in vec:\n",
    "    print(\"t:\", t)\n",
    "    model = return_predict(t)\n",
    "    model_jac = return_jacobian(t)\n",
    "    print(\"ALE\")\n",
    "    # time_dict[\"ale\"].append(measure_time(\"ale\", 3))\n",
    "    print(\"RHALE\")\n",
    "    # time_dict[\"rhale\"].append(measure_time(\"rhale\", 3))\n",
    "    print(\"PDP\")\n",
    "    time_dict[\"pdp_vectorized\"].append(measure_time(\"pdp_vectorized\", 3))"
   ],
   "outputs": [
    {
     "name": "stdout",
     "output_type": "stream",
     "text": [
      "t: 1e-05\n",
      "ALE\n",
      "RHALE\n",
      "PDP\n"
     ]
    },
    {
     "name": "stderr",
     "output_type": "stream",
     "text": [
      "100%|██████████| 1/1 [00:06<00:00,  6.09s/it]\n",
      "100%|██████████| 1/1 [00:06<00:00,  6.10s/it]\n",
      "100%|██████████| 1/1 [00:05<00:00,  5.87s/it]\n"
     ]
    },
    {
     "name": "stdout",
     "output_type": "stream",
     "text": [
      "t: 0.0001\n",
      "ALE\n",
      "RHALE\n",
      "PDP\n"
     ]
    },
    {
     "name": "stderr",
     "output_type": "stream",
     "text": [
      "100%|██████████| 1/1 [00:05<00:00,  5.82s/it]\n",
      "100%|██████████| 1/1 [00:06<00:00,  6.42s/it]\n",
      "100%|██████████| 1/1 [00:06<00:00,  6.03s/it]\n"
     ]
    },
    {
     "name": "stdout",
     "output_type": "stream",
     "text": [
      "t: 0.001\n",
      "ALE\n",
      "RHALE\n",
      "PDP\n"
     ]
    },
    {
     "name": "stderr",
     "output_type": "stream",
     "text": [
      "100%|██████████| 1/1 [00:06<00:00,  6.63s/it]\n",
      "100%|██████████| 1/1 [00:06<00:00,  6.23s/it]\n",
      "100%|██████████| 1/1 [00:05<00:00,  5.84s/it]\n"
     ]
    },
    {
     "name": "stdout",
     "output_type": "stream",
     "text": [
      "t: 0.01\n",
      "ALE\n",
      "RHALE\n",
      "PDP\n"
     ]
    },
    {
     "name": "stderr",
     "output_type": "stream",
     "text": [
      "100%|██████████| 1/1 [00:06<00:00,  6.05s/it]\n",
      "100%|██████████| 1/1 [00:05<00:00,  5.82s/it]\n",
      "100%|██████████| 1/1 [00:06<00:00,  6.52s/it]\n"
     ]
    },
    {
     "name": "stdout",
     "output_type": "stream",
     "text": [
      "t: 0.1\n",
      "ALE\n",
      "RHALE\n",
      "PDP\n"
     ]
    },
    {
     "name": "stderr",
     "output_type": "stream",
     "text": [
      "100%|██████████| 1/1 [00:06<00:00,  6.22s/it]\n",
      "100%|██████████| 1/1 [00:06<00:00,  6.60s/it]\n",
      "100%|██████████| 1/1 [00:06<00:00,  6.44s/it]\n"
     ]
    },
    {
     "name": "stdout",
     "output_type": "stream",
     "text": [
      "t: 1\n",
      "ALE\n",
      "RHALE\n",
      "PDP\n"
     ]
    },
    {
     "name": "stderr",
     "output_type": "stream",
     "text": [
      "100%|██████████| 1/1 [00:09<00:00,  9.29s/it]\n",
      "100%|██████████| 1/1 [00:09<00:00,  9.98s/it]\n",
      "100%|██████████| 1/1 [00:10<00:00, 10.10s/it]\n"
     ]
    }
   ],
   "execution_count": 9
  },
  {
   "cell_type": "code",
   "id": "c1946cd7-db4d-48f0-a8a0-33e5b3a5aa79",
   "metadata": {
    "ExecuteTime": {
     "end_time": "2025-01-28T15:01:24.730667Z",
     "start_time": "2025-01-28T15:01:23.903037Z"
    }
   },
   "source": [
    "import matplotlib.pyplot as plt\n",
    "plt.figure()\n",
    "# plt.plot(vec, time_dict[\"ale\"], \"x--\", label=\"ALE\")\n",
    "# plt.plot(vec, time_dict[\"rhale\"], \"x--\", label=\"RHALE\")\n",
    "plt.plot(vec, time_dict[\"pdp_vectorized\"], \"x--\", label=\"PDP (vectorized)\")\n",
    "plt.title(\"Execution time vs ML model complexity\")\n",
    "plt.xlabel(\"time (s) for single f execution\")\n",
    "plt.ylabel(\"time (s) for FE execution\")\n",
    "plt.xscale(\"log\")\n",
    "plt.legend()\n",
    "plt.show()"
   ],
   "outputs": [
    {
     "ename": "ValueError",
     "evalue": "x and y must have same first dimension, but have shapes (4,) and (0,)",
     "output_type": "error",
     "traceback": [
      "\u001B[0;31m---------------------------------------------------------------------------\u001B[0m",
      "\u001B[0;31mValueError\u001B[0m                                Traceback (most recent call last)",
      "Cell \u001B[0;32mIn[12], line 5\u001B[0m\n\u001B[1;32m      2\u001B[0m plt\u001B[38;5;241m.\u001B[39mfigure()\n\u001B[1;32m      3\u001B[0m \u001B[38;5;66;03m# plt.plot(vec, time_dict[\"ale\"], \"x--\", label=\"ALE\")\u001B[39;00m\n\u001B[1;32m      4\u001B[0m \u001B[38;5;66;03m# plt.plot(vec, time_dict[\"rhale\"], \"x--\", label=\"RHALE\")\u001B[39;00m\n\u001B[0;32m----> 5\u001B[0m \u001B[43mplt\u001B[49m\u001B[38;5;241;43m.\u001B[39;49m\u001B[43mplot\u001B[49m\u001B[43m(\u001B[49m\u001B[43mvec\u001B[49m\u001B[43m,\u001B[49m\u001B[43m \u001B[49m\u001B[43mtime_dict\u001B[49m\u001B[43m[\u001B[49m\u001B[38;5;124;43m\"\u001B[39;49m\u001B[38;5;124;43mpdp_vectorized\u001B[39;49m\u001B[38;5;124;43m\"\u001B[39;49m\u001B[43m]\u001B[49m\u001B[43m,\u001B[49m\u001B[43m \u001B[49m\u001B[38;5;124;43m\"\u001B[39;49m\u001B[38;5;124;43mx--\u001B[39;49m\u001B[38;5;124;43m\"\u001B[39;49m\u001B[43m,\u001B[49m\u001B[43m \u001B[49m\u001B[43mlabel\u001B[49m\u001B[38;5;241;43m=\u001B[39;49m\u001B[38;5;124;43m\"\u001B[39;49m\u001B[38;5;124;43mPDP (vectorized)\u001B[39;49m\u001B[38;5;124;43m\"\u001B[39;49m\u001B[43m)\u001B[49m\n\u001B[1;32m      6\u001B[0m plt\u001B[38;5;241m.\u001B[39mtitle(\u001B[38;5;124m\"\u001B[39m\u001B[38;5;124mExecution time vs ML model complexity\u001B[39m\u001B[38;5;124m\"\u001B[39m)\n\u001B[1;32m      7\u001B[0m plt\u001B[38;5;241m.\u001B[39mxlabel(\u001B[38;5;124m\"\u001B[39m\u001B[38;5;124mtime (s) for single f execution\u001B[39m\u001B[38;5;124m\"\u001B[39m)\n",
      "File \u001B[0;32m~/miniconda3/envs/effector-dev/lib/python3.10/site-packages/matplotlib/pyplot.py:3794\u001B[0m, in \u001B[0;36mplot\u001B[0;34m(scalex, scaley, data, *args, **kwargs)\u001B[0m\n\u001B[1;32m   3786\u001B[0m \u001B[38;5;129m@_copy_docstring_and_deprecators\u001B[39m(Axes\u001B[38;5;241m.\u001B[39mplot)\n\u001B[1;32m   3787\u001B[0m \u001B[38;5;28;01mdef\u001B[39;00m \u001B[38;5;21mplot\u001B[39m(\n\u001B[1;32m   3788\u001B[0m     \u001B[38;5;241m*\u001B[39margs: \u001B[38;5;28mfloat\u001B[39m \u001B[38;5;241m|\u001B[39m ArrayLike \u001B[38;5;241m|\u001B[39m \u001B[38;5;28mstr\u001B[39m,\n\u001B[0;32m   (...)\u001B[0m\n\u001B[1;32m   3792\u001B[0m     \u001B[38;5;241m*\u001B[39m\u001B[38;5;241m*\u001B[39mkwargs,\n\u001B[1;32m   3793\u001B[0m ) \u001B[38;5;241m-\u001B[39m\u001B[38;5;241m>\u001B[39m \u001B[38;5;28mlist\u001B[39m[Line2D]:\n\u001B[0;32m-> 3794\u001B[0m     \u001B[38;5;28;01mreturn\u001B[39;00m \u001B[43mgca\u001B[49m\u001B[43m(\u001B[49m\u001B[43m)\u001B[49m\u001B[38;5;241;43m.\u001B[39;49m\u001B[43mplot\u001B[49m\u001B[43m(\u001B[49m\n\u001B[1;32m   3795\u001B[0m \u001B[43m        \u001B[49m\u001B[38;5;241;43m*\u001B[39;49m\u001B[43margs\u001B[49m\u001B[43m,\u001B[49m\n\u001B[1;32m   3796\u001B[0m \u001B[43m        \u001B[49m\u001B[43mscalex\u001B[49m\u001B[38;5;241;43m=\u001B[39;49m\u001B[43mscalex\u001B[49m\u001B[43m,\u001B[49m\n\u001B[1;32m   3797\u001B[0m \u001B[43m        \u001B[49m\u001B[43mscaley\u001B[49m\u001B[38;5;241;43m=\u001B[39;49m\u001B[43mscaley\u001B[49m\u001B[43m,\u001B[49m\n\u001B[1;32m   3798\u001B[0m \u001B[43m        \u001B[49m\u001B[38;5;241;43m*\u001B[39;49m\u001B[38;5;241;43m*\u001B[39;49m\u001B[43m(\u001B[49m\u001B[43m{\u001B[49m\u001B[38;5;124;43m\"\u001B[39;49m\u001B[38;5;124;43mdata\u001B[39;49m\u001B[38;5;124;43m\"\u001B[39;49m\u001B[43m:\u001B[49m\u001B[43m \u001B[49m\u001B[43mdata\u001B[49m\u001B[43m}\u001B[49m\u001B[43m \u001B[49m\u001B[38;5;28;43;01mif\u001B[39;49;00m\u001B[43m \u001B[49m\u001B[43mdata\u001B[49m\u001B[43m \u001B[49m\u001B[38;5;129;43;01mis\u001B[39;49;00m\u001B[43m \u001B[49m\u001B[38;5;129;43;01mnot\u001B[39;49;00m\u001B[43m \u001B[49m\u001B[38;5;28;43;01mNone\u001B[39;49;00m\u001B[43m \u001B[49m\u001B[38;5;28;43;01melse\u001B[39;49;00m\u001B[43m \u001B[49m\u001B[43m{\u001B[49m\u001B[43m}\u001B[49m\u001B[43m)\u001B[49m\u001B[43m,\u001B[49m\n\u001B[1;32m   3799\u001B[0m \u001B[43m        \u001B[49m\u001B[38;5;241;43m*\u001B[39;49m\u001B[38;5;241;43m*\u001B[39;49m\u001B[43mkwargs\u001B[49m\u001B[43m,\u001B[49m\n\u001B[1;32m   3800\u001B[0m \u001B[43m    \u001B[49m\u001B[43m)\u001B[49m\n",
      "File \u001B[0;32m~/miniconda3/envs/effector-dev/lib/python3.10/site-packages/matplotlib/axes/_axes.py:1779\u001B[0m, in \u001B[0;36mAxes.plot\u001B[0;34m(self, scalex, scaley, data, *args, **kwargs)\u001B[0m\n\u001B[1;32m   1536\u001B[0m \u001B[38;5;250m\u001B[39m\u001B[38;5;124;03m\"\"\"\u001B[39;00m\n\u001B[1;32m   1537\u001B[0m \u001B[38;5;124;03mPlot y versus x as lines and/or markers.\u001B[39;00m\n\u001B[1;32m   1538\u001B[0m \n\u001B[0;32m   (...)\u001B[0m\n\u001B[1;32m   1776\u001B[0m \u001B[38;5;124;03m(``'green'``) or hex strings (``'#008000'``).\u001B[39;00m\n\u001B[1;32m   1777\u001B[0m \u001B[38;5;124;03m\"\"\"\u001B[39;00m\n\u001B[1;32m   1778\u001B[0m kwargs \u001B[38;5;241m=\u001B[39m cbook\u001B[38;5;241m.\u001B[39mnormalize_kwargs(kwargs, mlines\u001B[38;5;241m.\u001B[39mLine2D)\n\u001B[0;32m-> 1779\u001B[0m lines \u001B[38;5;241m=\u001B[39m [\u001B[38;5;241m*\u001B[39m\u001B[38;5;28mself\u001B[39m\u001B[38;5;241m.\u001B[39m_get_lines(\u001B[38;5;28mself\u001B[39m, \u001B[38;5;241m*\u001B[39margs, data\u001B[38;5;241m=\u001B[39mdata, \u001B[38;5;241m*\u001B[39m\u001B[38;5;241m*\u001B[39mkwargs)]\n\u001B[1;32m   1780\u001B[0m \u001B[38;5;28;01mfor\u001B[39;00m line \u001B[38;5;129;01min\u001B[39;00m lines:\n\u001B[1;32m   1781\u001B[0m     \u001B[38;5;28mself\u001B[39m\u001B[38;5;241m.\u001B[39madd_line(line)\n",
      "File \u001B[0;32m~/miniconda3/envs/effector-dev/lib/python3.10/site-packages/matplotlib/axes/_base.py:296\u001B[0m, in \u001B[0;36m_process_plot_var_args.__call__\u001B[0;34m(self, axes, data, *args, **kwargs)\u001B[0m\n\u001B[1;32m    294\u001B[0m     this \u001B[38;5;241m+\u001B[39m\u001B[38;5;241m=\u001B[39m args[\u001B[38;5;241m0\u001B[39m],\n\u001B[1;32m    295\u001B[0m     args \u001B[38;5;241m=\u001B[39m args[\u001B[38;5;241m1\u001B[39m:]\n\u001B[0;32m--> 296\u001B[0m \u001B[38;5;28;01myield from\u001B[39;00m \u001B[38;5;28;43mself\u001B[39;49m\u001B[38;5;241;43m.\u001B[39;49m\u001B[43m_plot_args\u001B[49m\u001B[43m(\u001B[49m\n\u001B[1;32m    297\u001B[0m \u001B[43m    \u001B[49m\u001B[43maxes\u001B[49m\u001B[43m,\u001B[49m\u001B[43m \u001B[49m\u001B[43mthis\u001B[49m\u001B[43m,\u001B[49m\u001B[43m \u001B[49m\u001B[43mkwargs\u001B[49m\u001B[43m,\u001B[49m\u001B[43m \u001B[49m\u001B[43mambiguous_fmt_datakey\u001B[49m\u001B[38;5;241;43m=\u001B[39;49m\u001B[43mambiguous_fmt_datakey\u001B[49m\u001B[43m)\u001B[49m\n",
      "File \u001B[0;32m~/miniconda3/envs/effector-dev/lib/python3.10/site-packages/matplotlib/axes/_base.py:486\u001B[0m, in \u001B[0;36m_process_plot_var_args._plot_args\u001B[0;34m(self, axes, tup, kwargs, return_kwargs, ambiguous_fmt_datakey)\u001B[0m\n\u001B[1;32m    483\u001B[0m     axes\u001B[38;5;241m.\u001B[39myaxis\u001B[38;5;241m.\u001B[39mupdate_units(y)\n\u001B[1;32m    485\u001B[0m \u001B[38;5;28;01mif\u001B[39;00m x\u001B[38;5;241m.\u001B[39mshape[\u001B[38;5;241m0\u001B[39m] \u001B[38;5;241m!=\u001B[39m y\u001B[38;5;241m.\u001B[39mshape[\u001B[38;5;241m0\u001B[39m]:\n\u001B[0;32m--> 486\u001B[0m     \u001B[38;5;28;01mraise\u001B[39;00m \u001B[38;5;167;01mValueError\u001B[39;00m(\u001B[38;5;124mf\u001B[39m\u001B[38;5;124m\"\u001B[39m\u001B[38;5;124mx and y must have same first dimension, but \u001B[39m\u001B[38;5;124m\"\u001B[39m\n\u001B[1;32m    487\u001B[0m                      \u001B[38;5;124mf\u001B[39m\u001B[38;5;124m\"\u001B[39m\u001B[38;5;124mhave shapes \u001B[39m\u001B[38;5;132;01m{\u001B[39;00mx\u001B[38;5;241m.\u001B[39mshape\u001B[38;5;132;01m}\u001B[39;00m\u001B[38;5;124m and \u001B[39m\u001B[38;5;132;01m{\u001B[39;00my\u001B[38;5;241m.\u001B[39mshape\u001B[38;5;132;01m}\u001B[39;00m\u001B[38;5;124m\"\u001B[39m)\n\u001B[1;32m    488\u001B[0m \u001B[38;5;28;01mif\u001B[39;00m x\u001B[38;5;241m.\u001B[39mndim \u001B[38;5;241m>\u001B[39m \u001B[38;5;241m2\u001B[39m \u001B[38;5;129;01mor\u001B[39;00m y\u001B[38;5;241m.\u001B[39mndim \u001B[38;5;241m>\u001B[39m \u001B[38;5;241m2\u001B[39m:\n\u001B[1;32m    489\u001B[0m     \u001B[38;5;28;01mraise\u001B[39;00m \u001B[38;5;167;01mValueError\u001B[39;00m(\u001B[38;5;124mf\u001B[39m\u001B[38;5;124m\"\u001B[39m\u001B[38;5;124mx and y can be no greater than 2D, but have \u001B[39m\u001B[38;5;124m\"\u001B[39m\n\u001B[1;32m    490\u001B[0m                      \u001B[38;5;124mf\u001B[39m\u001B[38;5;124m\"\u001B[39m\u001B[38;5;124mshapes \u001B[39m\u001B[38;5;132;01m{\u001B[39;00mx\u001B[38;5;241m.\u001B[39mshape\u001B[38;5;132;01m}\u001B[39;00m\u001B[38;5;124m and \u001B[39m\u001B[38;5;132;01m{\u001B[39;00my\u001B[38;5;241m.\u001B[39mshape\u001B[38;5;132;01m}\u001B[39;00m\u001B[38;5;124m\"\u001B[39m)\n",
      "\u001B[0;31mValueError\u001B[0m: x and y must have same first dimension, but have shapes (4,) and (0,)"
     ]
    },
    {
     "data": {
      "text/plain": [
       "<Figure size 640x480 with 1 Axes>"
      ],
      "image/png": "[encoded data removed]"
     },
     "metadata": {},
     "output_type": "display_data"
    }
   ],
   "execution_count": 12
  },
  {
   "cell_type": "markdown",
   "id": "98065e99-93ea-4155-bcc6-284b526e8a76",
   "metadata": {},
   "source": [
    "## PDP time vs N (nof instances)"
   ]
  },
  {
   "cell_type": "code",
   "execution_count": 7,
   "id": "1ee7fbf8-2dda-4441-bf37-853b5b6f55d1",
   "metadata": {},
   "outputs": [],
   "source": [
    "t = 0.001\n",
    "N = 10_000\n",
    "D = 10\n",
    "T = 100"
   ]
  },
  {
   "cell_type": "code",
   "execution_count": 8,
   "id": "f06bf91d-27ef-4e38-a2bd-bfb4c8d853c3",
   "metadata": {},
   "outputs": [
    {
     "name": "stdout",
     "output_type": "stream",
     "text": [
      "ALE\n"
     ]
    },
    {
     "name": "stderr",
     "output_type": "stream",
     "text": [
      "100%|████████████████████████████████████████████████████████████████████████████████████████████████████████████████████████████████████████████████████████████████████████████████████████████████████████████████████████████████████████████████| 1/1 [00:02<00:00,  2.15s/it]\n",
      "100%|████████████████████████████████████████████████████████████████████████████████████████████████████████████████████████████████████████████████████████████████████████████████████████████████████████████████████████████████████████████████| 1/1 [00:01<00:00,  1.88s/it]\n",
      "100%|████████████████████████████████████████████████████████████████████████████████████████████████████████████████████████████████████████████████████████████████████████████████████████████████████████████████████████████████████████████████| 1/1 [00:01<00:00,  1.87s/it]\n"
     ]
    },
    {
     "name": "stdout",
     "output_type": "stream",
     "text": [
      "RHALE\n"
     ]
    },
    {
     "name": "stderr",
     "output_type": "stream",
     "text": [
      "100%|████████████████████████████████████████████████████████████████████████████████████████████████████████████████████████████████████████████████████████████████████████████████████████████████████████████████████████████████████████████████| 1/1 [00:00<00:00,  1.32it/s]\n",
      "100%|████████████████████████████████████████████████████████████████████████████████████████████████████████████████████████████████████████████████████████████████████████████████████████████████████████████████████████████████████████████████| 1/1 [00:00<00:00,  1.28it/s]\n",
      "100%|████████████████████████████████████████████████████████████████████████████████████████████████████████████████████████████████████████████████████████████████████████████████████████████████████████████████████████████████████████████████| 1/1 [00:00<00:00,  1.32it/s]\n"
     ]
    },
    {
     "name": "stdout",
     "output_type": "stream",
     "text": [
      "PDP\n"
     ]
    },
    {
     "name": "stderr",
     "output_type": "stream",
     "text": [
      "100%|████████████████████████████████████████████████████████████████████████████████████████████████████████████████████████████████████████████████████████████████████████████████████████████████████████████████████████████████████████████████| 1/1 [00:00<00:00,  6.85it/s]\n",
      "100%|████████████████████████████████████████████████████████████████████████████████████████████████████████████████████████████████████████████████████████████████████████████████████████████████████████████████████████████████████████████████| 1/1 [00:00<00:00,  6.19it/s]\n",
      "100%|████████████████████████████████████████████████████████████████████████████████████████████████████████████████████████████████████████████████████████████████████████████████████████████████████████████████████████████████████████████████| 1/1 [00:00<00:00,  6.87it/s]\n"
     ]
    },
    {
     "name": "stdout",
     "output_type": "stream",
     "text": [
      "ALE\n"
     ]
    },
    {
     "name": "stderr",
     "output_type": "stream",
     "text": [
      "100%|████████████████████████████████████████████████████████████████████████████████████████████████████████████████████████████████████████████████████████████████████████████████████████████████████████████████████████████████████████████████| 1/1 [00:02<00:00,  2.76s/it]\n",
      "100%|████████████████████████████████████████████████████████████████████████████████████████████████████████████████████████████████████████████████████████████████████████████████████████████████████████████████████████████████████████████████| 1/1 [00:02<00:00,  2.76s/it]\n",
      "100%|████████████████████████████████████████████████████████████████████████████████████████████████████████████████████████████████████████████████████████████████████████████████████████████████████████████████████████████████████████████████| 1/1 [00:02<00:00,  2.81s/it]\n"
     ]
    },
    {
     "name": "stdout",
     "output_type": "stream",
     "text": [
      "RHALE\n"
     ]
    },
    {
     "name": "stderr",
     "output_type": "stream",
     "text": [
      "100%|████████████████████████████████████████████████████████████████████████████████████████████████████████████████████████████████████████████████████████████████████████████████████████████████████████████████████████████████████████████████| 1/1 [00:01<00:00,  1.73s/it]\n",
      "100%|████████████████████████████████████████████████████████████████████████████████████████████████████████████████████████████████████████████████████████████████████████████████████████████████████████████████████████████████████████████████| 1/1 [00:01<00:00,  1.74s/it]\n",
      "100%|████████████████████████████████████████████████████████████████████████████████████████████████████████████████████████████████████████████████████████████████████████████████████████████████████████████████████████████████████████████████| 1/1 [00:01<00:00,  1.69s/it]\n"
     ]
    },
    {
     "name": "stdout",
     "output_type": "stream",
     "text": [
      "PDP\n"
     ]
    },
    {
     "name": "stderr",
     "output_type": "stream",
     "text": [
      "100%|████████████████████████████████████████████████████████████████████████████████████████████████████████████████████████████████████████████████████████████████████████████████████████████████████████████████████████████████████████████████| 1/1 [00:00<00:00,  7.00it/s]\n",
      "100%|████████████████████████████████████████████████████████████████████████████████████████████████████████████████████████████████████████████████████████████████████████████████████████████████████████████████████████████████████████████████| 1/1 [00:00<00:00,  6.54it/s]\n",
      "100%|████████████████████████████████████████████████████████████████████████████████████████████████████████████████████████████████████████████████████████████████████████████████████████████████████████████████████████████████████████████████| 1/1 [00:00<00:00,  7.02it/s]\n"
     ]
    },
    {
     "name": "stdout",
     "output_type": "stream",
     "text": [
      "ALE\n"
     ]
    },
    {
     "name": "stderr",
     "output_type": "stream",
     "text": [
      "100%|████████████████████████████████████████████████████████████████████████████████████████████████████████████████████████████████████████████████████████████████████████████████████████████████████████████████████████████████████████████████| 1/1 [00:07<00:00,  7.48s/it]\n",
      "100%|████████████████████████████████████████████████████████████████████████████████████████████████████████████████████████████████████████████████████████████████████████████████████████████████████████████████████████████████████████████████| 1/1 [00:07<00:00,  7.37s/it]\n",
      "100%|████████████████████████████████████████████████████████████████████████████████████████████████████████████████████████████████████████████████████████████████████████████████████████████████████████████████████████████████████████████████| 1/1 [00:07<00:00,  7.19s/it]\n"
     ]
    },
    {
     "name": "stdout",
     "output_type": "stream",
     "text": [
      "RHALE\n"
     ]
    },
    {
     "name": "stderr",
     "output_type": "stream",
     "text": [
      "100%|████████████████████████████████████████████████████████████████████████████████████████████████████████████████████████████████████████████████████████████████████████████████████████████████████████████████████████████████████████████████| 1/1 [00:06<00:00,  6.07s/it]\n",
      "100%|████████████████████████████████████████████████████████████████████████████████████████████████████████████████████████████████████████████████████████████████████████████████████████████████████████████████████████████████████████████████| 1/1 [00:06<00:00,  6.30s/it]\n",
      "100%|████████████████████████████████████████████████████████████████████████████████████████████████████████████████████████████████████████████████████████████████████████████████████████████████████████████████████████████████████████████████| 1/1 [00:06<00:00,  6.07s/it]\n"
     ]
    },
    {
     "name": "stdout",
     "output_type": "stream",
     "text": [
      "PDP\n"
     ]
    },
    {
     "name": "stderr",
     "output_type": "stream",
     "text": [
      "100%|████████████████████████████████████████████████████████████████████████████████████████████████████████████████████████████████████████████████████████████████████████████████████████████████████████████████████████████████████████████████| 1/1 [00:00<00:00,  6.88it/s]\n",
      "100%|████████████████████████████████████████████████████████████████████████████████████████████████████████████████████████████████████████████████████████████████████████████████████████████████████████████████████████████████████████████████| 1/1 [00:00<00:00,  6.80it/s]\n",
      "100%|████████████████████████████████████████████████████████████████████████████████████████████████████████████████████████████████████████████████████████████████████████████████████████████████████████████████████████████████████████████████| 1/1 [00:00<00:00,  6.97it/s]\n"
     ]
    },
    {
     "name": "stdout",
     "output_type": "stream",
     "text": [
      "ALE\n"
     ]
    },
    {
     "name": "stderr",
     "output_type": "stream",
     "text": [
      "100%|████████████████████████████████████████████████████████████████████████████████████████████████████████████████████████████████████████████████████████████████████████████████████████████████████████████████████████████████████████████████| 1/1 [00:11<00:00, 11.83s/it]\n",
      "100%|████████████████████████████████████████████████████████████████████████████████████████████████████████████████████████████████████████████████████████████████████████████████████████████████████████████████████████████████████████████████| 1/1 [00:12<00:00, 12.79s/it]\n",
      "100%|████████████████████████████████████████████████████████████████████████████████████████████████████████████████████████████████████████████████████████████████████████████████████████████████████████████████████████████████████████████████| 1/1 [00:12<00:00, 12.83s/it]\n"
     ]
    },
    {
     "name": "stdout",
     "output_type": "stream",
     "text": [
      "RHALE\n"
     ]
    },
    {
     "name": "stderr",
     "output_type": "stream",
     "text": [
      "100%|████████████████████████████████████████████████████████████████████████████████████████████████████████████████████████████████████████████████████████████████████████████████████████████████████████████████████████████████████████████████| 1/1 [00:11<00:00, 11.43s/it]\n",
      "100%|████████████████████████████████████████████████████████████████████████████████████████████████████████████████████████████████████████████████████████████████████████████████████████████████████████████████████████████████████████████████| 1/1 [00:11<00:00, 11.75s/it]\n",
      "100%|████████████████████████████████████████████████████████████████████████████████████████████████████████████████████████████████████████████████████████████████████████████████████████████████████████████████████████████████████████████████| 1/1 [00:11<00:00, 11.65s/it]\n"
     ]
    },
    {
     "name": "stdout",
     "output_type": "stream",
     "text": [
      "PDP\n"
     ]
    },
    {
     "name": "stderr",
     "output_type": "stream",
     "text": [
      "100%|████████████████████████████████████████████████████████████████████████████████████████████████████████████████████████████████████████████████████████████████████████████████████████████████████████████████████████████████████████████████| 1/1 [00:00<00:00,  6.70it/s]\n",
      "100%|████████████████████████████████████████████████████████████████████████████████████████████████████████████████████████████████████████████████████████████████████████████████████████████████████████████████████████████████████████████████| 1/1 [00:00<00:00,  6.60it/s]\n",
      "100%|████████████████████████████████████████████████████████████████████████████████████████████████████████████████████████████████████████████████████████████████████████████████████████████████████████████████████████████████████████████████| 1/1 [00:00<00:00,  6.82it/s]\n"
     ]
    }
   ],
   "source": [
    "vec = [1_000, 10_000, 50_000, 100_000] # 1_000_000]\n",
    "time_dict = {\"ale\": [], \"rhale\": [], \"pdp_vectorized\":[]}\n",
    "for N in vec:\n",
    "    model = return_predict(t)\n",
    "    model_jac = return_jacobian(t)\n",
    "    print(\"ALE\")\n",
    "    time_dict[\"ale\"].append(measure_time(\"ale\", 3))\n",
    "    print(\"RHALE\")\n",
    "    time_dict[\"rhale\"].append(measure_time(\"rhale\", 3))\n",
    "    print(\"PDP\")\n",
    "    time_dict[\"pdp_vectorized\"].append(measure_time(\"pdp_vectorized\", 3))"
   ]
  },
  {
   "cell_type": "code",
   "execution_count": 9,
   "id": "401c3872-b168-4d38-bbaf-5b452da3b47a",
   "metadata": {},
   "outputs": [
    {
     "data": {
      "image/png": "[encoded data removed]",
      "text/plain": [
       "<Figure size 640x480 with 1 Axes>"
      ]
     },
     "metadata": {},
     "output_type": "display_data"
    }
   ],
   "source": [
    "plt.figure()\n",
    "plt.plot(vec, time_dict[\"ale\"], \"x--\", label=\"ALE\")\n",
    "plt.plot(vec, time_dict[\"rhale\"], \"x--\", label=\"RHALE\")\n",
    "plt.plot(vec, time_dict[\"pdp_vectorized\"], \"x--\", label=\"pdp (vectorized)\")\n",
    "plt.title(\"Execution time vs nof instances (N)\")\n",
    "plt.xlabel(\"number of instances (N)\")\n",
    "plt.ylabel(\"time (s) for FE execution\")\n",
    "plt.xscale(\"log\")\n",
    "plt.legend()\n",
    "plt.show()"
   ]
  },
  {
   "cell_type": "markdown",
   "id": "38ccef4b-a151-4cb6-916b-10c434f21245",
   "metadata": {},
   "source": [
    "## PDP time vs D (nof features)"
   ]
  },
  {
   "cell_type": "code",
   "id": "41f42c00-9c69-4512-86b7-249367233a6c",
   "metadata": {
    "ExecuteTime": {
     "end_time": "2025-01-28T15:01:10.645929Z",
     "start_time": "2025-01-28T15:01:10.643134Z"
    }
   },
   "source": [
    "t = 0.001\n",
    "N = 10_000\n",
    "T = 100"
   ],
   "outputs": [],
   "execution_count": 10
  },
  {
   "cell_type": "code",
   "id": "e11c8675-606a-4c40-b398-ac2b25f8a22e",
   "metadata": {
    "ExecuteTime": {
     "end_time": "2025-01-28T15:02:29.920724Z",
     "start_time": "2025-01-28T15:02:03.294768Z"
    }
   },
   "source": [
    "vec = [5, 10, 20, 30] # 50, 100, 200, 300]\n",
    "time_dict = {\"ale\": [], \"rhale\": [], \"pdp_vectorized\":[]}\n",
    "for D in vec:\n",
    "    model = return_predict(t)\n",
    "    model_jac = return_jacobian(t)\n",
    "    # print(\"ALE\")\n",
    "    # time_dict[\"ale\"].append(measure_time(\"ale\", 3))\n",
    "    # print(\"RHALE\")\n",
    "    # time_dict[\"rhale\"].append(measure_time(\"rhale\", 3))\n",
    "    print(\"PDP\")\n",
    "    time_dict[\"pdp_vectorized\"].append(measure_time(\"pdp_vectorized\", 3))"
   ],
   "outputs": [
    {
     "name": "stdout",
     "output_type": "stream",
     "text": [
      "PDP\n"
     ]
    },
    {
     "name": "stderr",
     "output_type": "stream",
     "text": [
      "100%|██████████| 1/1 [00:00<00:00,  1.42it/s]\n",
      "100%|██████████| 1/1 [00:00<00:00,  1.62it/s]\n",
      "100%|██████████| 1/1 [00:00<00:00,  1.64it/s]\n"
     ]
    },
    {
     "name": "stdout",
     "output_type": "stream",
     "text": [
      "PDP\n"
     ]
    },
    {
     "name": "stderr",
     "output_type": "stream",
     "text": [
      "100%|██████████| 1/1 [00:01<00:00,  1.25s/it]\n",
      "100%|██████████| 1/1 [00:01<00:00,  1.23s/it]\n",
      "100%|██████████| 1/1 [00:01<00:00,  1.20s/it]\n"
     ]
    },
    {
     "name": "stdout",
     "output_type": "stream",
     "text": [
      "PDP\n"
     ]
    },
    {
     "name": "stderr",
     "output_type": "stream",
     "text": [
      "100%|██████████| 1/1 [00:02<00:00,  2.58s/it]\n",
      "100%|██████████| 1/1 [00:03<00:00,  3.20s/it]\n",
      "100%|██████████| 1/1 [00:02<00:00,  2.65s/it]\n"
     ]
    },
    {
     "name": "stdout",
     "output_type": "stream",
     "text": [
      "PDP\n"
     ]
    },
    {
     "name": "stderr",
     "output_type": "stream",
     "text": [
      "100%|██████████| 1/1 [00:04<00:00,  4.14s/it]\n",
      "100%|██████████| 1/1 [00:04<00:00,  4.20s/it]\n",
      "100%|██████████| 1/1 [00:04<00:00,  4.07s/it]\n"
     ]
    }
   ],
   "execution_count": 13
  },
  {
   "cell_type": "code",
   "id": "1b0f59db-3093-45ea-a245-c367fa363503",
   "metadata": {
    "ExecuteTime": {
     "end_time": "2025-01-28T15:02:51.451754Z",
     "start_time": "2025-01-28T15:02:51.320981Z"
    }
   },
   "source": [
    "plt.figure()\n",
    "# plt.plot(vec, time_dict[\"ale\"], \"x--\", label=\"ALE\")\n",
    "# plt.plot(vec, time_dict[\"rhale\"], \"x--\", label=\"RHALE\")\n",
    "plt.plot(vec, time_dict[\"pdp_vectorized\"], \"x--\", label=\"pdp (vectorized)\")\n",
    "plt.title(\"Execution time vs nof features (D)\")\n",
    "plt.xlabel(\"number of features (D)\")\n",
    "plt.ylabel(\"time (s) for FE execution\")\n",
    "# plt.xscale(\"log\")\n",
    "plt.legend()\n",
    "plt.show()"
   ],
   "outputs": [
    {
     "data": {
      "text/plain": [
       "<Figure size 640x480 with 1 Axes>"
      ],
      "image/png": "[encoded data removed]"
     },
     "metadata": {},
     "output_type": "display_data"
    }
   ],
   "execution_count": 14
  },
  {
   "cell_type": "markdown",
   "id": "f58c1998-7564-43ae-b8d6-73a2d2b1379e",
   "metadata": {},
   "source": [
    "## Conclusion\n",
    "\n",
    "In practice, the vectorized version outperforms the non-vectorized version in all cases:\n",
    "\n",
    "- The runtime of the black-box model is the key factor. As the model size increases, the non-vectorized implementation shows a linear increase in runtime, while the vectorized implementation remains unaffected.\n",
    "- The number of instances does not significantly impact the runtime for either version, as long as \\( y \\) can be obtained in a single pass of \\( f(x) \\).\n",
    "- Both versions scale linearly with the number of features, but the vectorized version is consistently faster by a constant margin."
   ]
  },
  {
   "cell_type": "code",
   "execution_count": null,
   "id": "c9d0ddf8-003c-4558-bc20-c1c27a89b030",
   "metadata": {},
   "outputs": [],
   "source": []
  }
 ],
 "metadata": {
  "kernelspec": {
   "display_name": "Python 3 (ipykernel)",
   "language": "python",
   "name": "python3"
  },
  "language_info": {
   "codemirror_mode": {
    "name": "ipython",
    "version": 3
   },
   "file_extension": ".py",
   "mimetype": "text/x-python",
   "name": "python",
   "nbconvert_exporter": "python",
   "pygments_lexer": "ipython3",
   "version": "3.10.15"
  }
 },
 "nbformat": 4,
 "nbformat_minor": 5
}
