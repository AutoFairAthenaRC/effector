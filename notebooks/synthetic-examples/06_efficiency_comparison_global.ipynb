{
 "cells": [
  {
   "cell_type": "markdown",
   "id": "82407672-37cb-43ac-b77e-bd08b7e104a0",
   "metadata": {},
   "source": [
    "This tutorial measures the runtime of Global Effect plots, which is mainly influenced by the following factors:\n",
    "\n",
    "- $t_f$: The runtime of the underlying black-box function, i.e., how fast is to execute $f$ on a batch of data (or, possibly, on the whole dataset).\n",
    "- $N$: The number of instances.\n",
    "- $D$: The number of features.\n",
    "- $T$: The number of points used for centering the feature effect plot.\n",
    "\n",
    "In this tutorial, we'll focus on $t_f$, $N$, and $D$ to measure how each influences the runtime of Global PDP."
   ]
  },
  {
   "cell_type": "code",
   "execution_count": null,
   "id": "604af401-a655-4ac1-9c52-7cf1a32223c1",
   "metadata": {},
   "outputs": [],
   "source": [
    "import effector\n",
    "import numpy as np\n",
    "import timeit\n",
    "import time\n",
    "import matplotlib.pyplot as plt\n",
    "np.random.seed(21)"
   ]
  },
  {
   "cell_type": "code",
   "execution_count": null,
   "id": "11014b26-f577-4d4b-a100-9d7a498d1fec",
   "metadata": {},
   "outputs": [],
   "source": [
    "def return_predict(t):\n",
    "    def predict(x):\n",
    "        time.sleep(t)\n",
    "        model = effector.models.DoubleConditionalInteraction()\n",
    "        return model.predict(x)\n",
    "    return predict\n",
    "\n",
    "def return_jacobian(t):\n",
    "    def jacobian(x):\n",
    "        time.sleep(t)\n",
    "        model = effector.models.DoubleConditionalInteraction()\n",
    "        return model.jacobian(x)\n",
    "    return jacobian"
   ]
  },
  {
   "cell_type": "code",
   "execution_count": null,
   "id": "7acba9b6-6429-4817-9953-c66636c38c47",
   "metadata": {},
   "outputs": [],
   "source": [
    "def measure_time(method_name, repetitions):\n",
    "    time_list = []\n",
    "    for _ in range(repetitions):\n",
    "        X = np.random.uniform(-1, 1, (N, D))\n",
    "        xx = np.linspace(-1, 1, T)\n",
    "\n",
    "        axis_limits = np.zeros((2,D))\n",
    "        axis_limits[0, :] = -1\n",
    "        axis_limits[1, :] = 1\n",
    "        \n",
    "        start_time = time.time()\n",
    "        if method_name == \"pdp_vectorized\":\n",
    "            tic = time.time()\n",
    "            pdp = effector.PDP(data=X, model=model, axis_limits=axis_limits)\n",
    "            toc = time.time()\n",
    "            print(f\"Time for int: {toc - tic}\")\n",
    "            tic = time.time()\n",
    "            pdp.fit(0, centering=True, points_for_centering=T, use_vectorized=True)\n",
    "            toc = time.time()\n",
    "            print(f\"Time for int: {toc - tic}\")\n",
    "            tic = time.time()\n",
    "            pdp.eval(feature=0, xs=xx, centering=True, heterogeneity=True)\n",
    "            toc = time.time()\n",
    "            print(f\"Time for int: {toc - tic}\")\n",
    "        elif method_name == \"d_pdp_vectorized\":\n",
    "            d_pdp = effector.DerPDP(data=X, model=model, model_jac=model_jac, axis_limits=axis_limits)\n",
    "            d_pdp.fit(0, centering=True, points_for_centering=T, use_vectorized=True)\n",
    "            d_pdp.eval(feature=0, xs=xx, centering=True, heterogeneity=True)\n",
    "        elif method_name == \"ale\":\n",
    "            tic = time.time()\n",
    "            ale = effector.ALE(data=X, model=model, axis_limits=axis_limits)\n",
    "            toc = time.time()\n",
    "            print(f\"Time for int: {toc - tic}\")\n",
    "            tic = time.time()\n",
    "            ale.fit(0, centering=True, points_for_centering=T)\n",
    "            toc = time.time()\n",
    "            print(f\"Time for fit: {toc - tic}\")\n",
    "            ale.eval(feature=0, xs=xx, centering=True, heterogeneity=True)\n",
    "        elif method_name == \"rhale\":\n",
    "            # data_effect = model_jac(X)\n",
    "            rhale = effector.RHALE(data=X, model=model, model_jac=model_jac, axis_limits=axis_limits)\n",
    "            binning_method = effector.binning_methods.Fixed(nof_bins=20)\n",
    "            rhale.fit(0, centering=True, points_for_centering=T, binning_method=binning_method)\n",
    "            rhale.eval(feature=0, xs=xx, centering=True, heterogeneity=True)\n",
    "        stop_time = time.time()\n",
    "    \n",
    "        time_list.append(stop_time - start_time)\n",
    "    return np.mean(time_list)"
   ]
  },
  {
   "cell_type": "markdown",
   "id": "5387c3ad-7662-4a89-9a3f-6f78ad63e95d",
   "metadata": {},
   "source": [
    "## Global effect time (sec) vs $t_f$--time for a single evaluation of f (sec)"
   ]
  },
  {
   "cell_type": "code",
   "execution_count": null,
   "id": "4ae47d89-aedf-4c27-b0bc-b99361b1d1b4",
   "metadata": {},
   "outputs": [],
   "source": [
    "t = 0.001\n",
    "N = 100_000\n",
    "D = 30\n",
    "T = 100"
   ]
  },
  {
   "cell_type": "code",
   "execution_count": null,
   "id": "7feba3cf-4629-4501-bc9c-6982718ea2f0",
   "metadata": {},
   "outputs": [],
   "source": [
    "vec = [.1, .5] # , 1., 2.]\n",
    "time_dict = {\"ale\": [], \"rhale\": [], \"pdp\":[], \"d_pdp\":[]}\n",
    "for t in vec:\n",
    "    print(\"t:\", t)\n",
    "    model = return_predict(t)\n",
    "    model_jac = return_jacobian(t)\n",
    "    time_dict[\"ale\"].append(measure_time(\"ale\", 3))\n",
    "    time_dict[\"rhale\"].append(measure_time(\"rhale\", 3))\n",
    "    time_dict[\"pdp\"].append(measure_time(\"pdp_vectorized\", 3))\n",
    "    time_dict[\"d_pdp\"].append(measure_time(\"d_pdp_vectorized\", 3))"
   ]
  },
  {
   "cell_type": "code",
   "execution_count": null,
   "id": "c1946cd7-db4d-48f0-a8a0-33e5b3a5aa79",
   "metadata": {},
   "outputs": [],
   "source": [
    "import matplotlib.pyplot as plt\n",
    "plt.figure()\n",
    "plt.plot(vec, time_dict[\"ale\"], \"x--\", label=\"ALE\")\n",
    "plt.plot(vec, time_dict[\"rhale\"], \"x--\", label=\"RHALE\")\n",
    "plt.plot(vec, time_dict[\"pdp\"], \"x--\", label=\"PDP\")\n",
    "plt.plot(vec, time_dict[\"d_pdp\"], \"x--\", label=\"d-PDP\")\n",
    "plt.title(\"Execution time: FE method vs. f execution\")\n",
    "plt.xlabel(\"f(x) execution: (sec)\")\n",
    "plt.ylabel(\"Global Effect method execution (sec)\")\n",
    "plt.legend()\n",
    "plt.show()"
   ]
  },
  {
   "cell_type": "markdown",
   "id": "98065e99-93ea-4155-bcc6-284b526e8a76",
   "metadata": {},
   "source": [
    "## PDP time vs N (nof instances)"
   ]
  },
  {
   "cell_type": "code",
   "execution_count": null,
   "id": "1ee7fbf8-2dda-4441-bf37-853b5b6f55d1",
   "metadata": {},
   "outputs": [],
   "source": [
    "t = 0.001\n",
    "N = 10_000\n",
    "D = 10\n",
    "T = 100"
   ]
  },
  {
   "cell_type": "code",
   "execution_count": null,
   "id": "f06bf91d-27ef-4e38-a2bd-bfb4c8d853c3",
   "metadata": {},
   "outputs": [],
   "source": [
    "vec = [1_000, 10_000, 50_000, 100_000, 1_000_000]\n",
    "time_dict = {\"ale\": [], \"rhale\": [], \"pdp_vectorized\":[]}\n",
    "for N in vec:\n",
    "    model = return_predict(t)\n",
    "    model_jac = return_jacobian(t)\n",
    "    print(\"ALE\")\n",
    "    time_dict[\"ale\"].append(measure_time(\"ale\", 3))\n",
    "    print(\"RHALE\")\n",
    "    time_dict[\"rhale\"].append(measure_time(\"rhale\", 3))\n",
    "    print(\"PDP\")\n",
    "    time_dict[\"pdp_vectorized\"].append(measure_time(\"pdp_vectorized\", 3))"
   ]
  },
  {
   "cell_type": "code",
   "execution_count": null,
   "id": "401c3872-b168-4d38-bbaf-5b452da3b47a",
   "metadata": {},
   "outputs": [],
   "source": [
    "plt.figure()\n",
    "plt.plot(vec, time_dict[\"ale\"], \"x--\", label=\"ALE\")\n",
    "plt.plot(vec, time_dict[\"rhale\"], \"x--\", label=\"RHALE\")\n",
    "plt.plot(vec, time_dict[\"pdp_vectorized\"], \"x--\", label=\"pdp (vectorized)\")\n",
    "plt.title(\"Execution time vs nof instances (N)\")\n",
    "plt.xlabel(\"number of instances (N)\")\n",
    "plt.ylabel(\"time (s) for FE execution\")\n",
    "plt.xscale(\"log\")\n",
    "plt.legend()\n",
    "plt.show()"
   ]
  },
  {
   "cell_type": "markdown",
   "id": "38ccef4b-a151-4cb6-916b-10c434f21245",
   "metadata": {},
   "source": [
    "## PDP time vs D (nof features)"
   ]
  },
  {
   "cell_type": "code",
   "execution_count": null,
   "id": "41f42c00-9c69-4512-86b7-249367233a6c",
   "metadata": {},
   "outputs": [],
   "source": [
    "t = 0.001\n",
    "N = 10_000\n",
    "T = 100"
   ]
  },
  {
   "cell_type": "code",
   "execution_count": null,
   "id": "e11c8675-606a-4c40-b398-ac2b25f8a22e",
   "metadata": {},
   "outputs": [],
   "source": [
    "vec = [5, 10, 50, 100, 200, 300]\n",
    "time_dict = {\"ale\": [], \"rhale\": [], \"pdp_vectorized\":[]}\n",
    "for D in vec:\n",
    "    model = return_predict(t)\n",
    "    model_jac = return_jacobian(t)\n",
    "    print(\"ALE\")\n",
    "    time_dict[\"ale\"].append(measure_time(\"ale\", 3))\n",
    "    print(\"RHALE\")\n",
    "    time_dict[\"rhale\"].append(measure_time(\"rhale\", 3))\n",
    "    print(\"PDP\")\n",
    "    time_dict[\"pdp_vectorized\"].append(measure_time(\"pdp_vectorized\", 3))"
   ]
  },
  {
   "cell_type": "code",
   "execution_count": null,
   "id": "1b0f59db-3093-45ea-a245-c367fa363503",
   "metadata": {},
   "outputs": [],
   "source": [
    "plt.figure()\n",
    "plt.plot(vec, time_dict[\"ale\"], \"x--\", label=\"ALE\")\n",
    "plt.plot(vec, time_dict[\"rhale\"], \"x--\", label=\"RHALE\")\n",
    "plt.plot(vec, time_dict[\"pdp_vectorized\"], \"x--\", label=\"pdp (vectorized)\")\n",
    "plt.title(\"Execution time vs nof features (D)\")\n",
    "plt.xlabel(\"number of features (D)\")\n",
    "plt.ylabel(\"time (s) for FE execution\")\n",
    "# plt.xscale(\"log\")\n",
    "plt.legend()\n",
    "plt.show()"
   ]
  },
  {
   "cell_type": "markdown",
   "id": "f58c1998-7564-43ae-b8d6-73a2d2b1379e",
   "metadata": {},
   "source": [
    "## Conclusion\n",
    "\n",
    "In practice, the vectorized version outperforms the non-vectorized version in all cases:\n",
    "\n",
    "- The runtime of the black-box model is the key factor. As the model size increases, the non-vectorized implementation shows a linear increase in runtime, while the vectorized implementation remains unaffected.\n",
    "- The number of instances does not significantly impact the runtime for either version, as long as \\( y \\) can be obtained in a single pass of \\( f(x) \\).\n",
    "- Both versions scale linearly with the number of features, but the vectorized version is consistently faster by a constant margin."
   ]
  }
 ],
 "metadata": {
  "kernelspec": {
   "display_name": "Python 3 (ipykernel)",
   "language": "python",
   "name": "python3"
  },
  "language_info": {
   "codemirror_mode": {
    "name": "ipython",
    "version": 3
   },
   "file_extension": ".py",
   "mimetype": "text/x-python",
   "name": "python",
   "nbconvert_exporter": "python",
   "pygments_lexer": "ipython3",
   "version": "3.10.15"
  }
 },
 "nbformat": 4,
 "nbformat_minor": 5
}
