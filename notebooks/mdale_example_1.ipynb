{
 "cells": [
  {
   "cell_type": "code",
   "execution_count": 1,
   "metadata": {
    "pycharm": {
     "name": "#%%\n"
    }
   },
   "outputs": [],
   "source": [
    "%matplotlib inline\n",
    "import sys\n",
    "import os\n",
    "sys.path.insert(0, os.path.abspath('..'))\n",
    "import feature_effect as fe\n",
    "import numpy as np\n",
    "import matplotlib.pyplot as plt\n",
    "import ipywidgets as widgets\n"
   ]
  },
  {
   "cell_type": "code",
   "execution_count": 2,
   "metadata": {
    "pycharm": {
     "name": "#%%\n"
    }
   },
   "outputs": [],
   "source": [
    "def generate_samples(N, seed):\n",
    "    if seed is not None:\n",
    "        np.random.seed(seed)\n",
    "\n",
    "    x1 = np.random.uniform(size=N)\n",
    "    x2 = x1 + np.random.normal(size=N)*.1\n",
    "    return np.stack([x1, x2]).T\n",
    "\n",
    "\n",
    "def f(x):\n",
    "    return x[:,0]**2 + x[:,0]**2 * x[:,1]\n",
    "\n",
    "\n",
    "def f_der(x):\n",
    "    return np.stack([2*x[:,0]*(1 + x[:,0]), x[:,0]**2], axis=-1)"
   ]
  },
  {
   "cell_type": "code",
   "execution_count": 3,
   "metadata": {
    "pycharm": {
     "name": "#%%\n"
    }
   },
   "outputs": [
    {
     "data": {
      "image/png": "[encoded data removed]",
      "text/plain": [
       "<Figure size 432x288 with 1 Axes>"
      ]
     },
     "metadata": {
      "needs_background": "light"
     },
     "output_type": "display_data"
    }
   ],
   "source": [
    "seed = 1\n",
    "N = 50\n",
    "X = generate_samples(N, seed)\n",
    "y = f(X)\n",
    "dy = f_der(X)\n",
    "\n",
    "\n",
    "plt.figure()\n",
    "plt.plot(X[:,0], X[:,1], \"ro\")\n",
    "plt.show(block=False)\n"
   ]
  },
  {
   "cell_type": "code",
   "execution_count": 4,
   "metadata": {
    "pycharm": {
     "name": "#%%\n"
    }
   },
   "outputs": [
    {
     "data": {
      "application/vnd.jupyter.widget-view+json": {
       "model_id": "8ceb7b0dc7f44e8da2c6ffe9201e6404",
       "version_major": 2,
       "version_minor": 0
      },
      "text/plain": [
       "interactive(children=(IntSlider(value=50, description='bins', min=1), Output(layout=Layout(height='350px'))), …"
      ]
     },
     "metadata": {},
     "output_type": "display_data"
    }
   ],
   "source": [
    "# ALE\n",
    "ale = fe.ALE(data=X, model=f)\n",
    "\n",
    "def plot(bins):\n",
    "    ale.fit(features=[0, 1], k=bins)\n",
    "    ale.plot(s=0, block=False)\n",
    "    plt.show()\n",
    "    \n",
    "interactive_plot = widgets.interactive(plot, bins=(1, 100, 1))\n",
    "output = interactive_plot.children[-1]\n",
    "output.layout.height = '350px'\n",
    "interactive_plot"
   ]
  },
  {
   "cell_type": "code",
   "execution_count": 5,
   "metadata": {
    "pycharm": {
     "name": "#%%\n"
    }
   },
   "outputs": [
    {
     "data": {
      "application/vnd.jupyter.widget-view+json": {
       "model_id": "89ebd379594d441095ce13e1a4b6d0e1",
       "version_major": 2,
       "version_minor": 0
      },
      "text/plain": [
       "interactive(children=(IntSlider(value=50, description='bins', min=1), Output(layout=Layout(height='350px'))), …"
      ]
     },
     "metadata": {},
     "output_type": "display_data"
    }
   ],
   "source": [
    "dale = fe.DALE(data=X, model=f, model_jac=f_der)\n",
    "def plot(bins):\n",
    "    dale.fit(features=[0, 1], k=bins)\n",
    "    dale.plot(s=0, block=False)\n",
    "    plt.show()\n",
    "\n",
    "interactive_plot = widgets.interactive(plot, bins=(1, 100, 1))\n",
    "output = interactive_plot.children[-1]\n",
    "output.layout.height = '350px'\n",
    "interactive_plot"
   ]
  },
  {
   "cell_type": "code",
   "execution_count": null,
   "metadata": {},
   "outputs": [],
   "source": []
  }
 ],
 "metadata": {
  "kernelspec": {
   "display_name": "Python 3 (ipykernel)",
   "language": "python",
   "name": "python3"
  },
  "language_info": {
   "codemirror_mode": {
    "name": "ipython",
    "version": 3
   },
   "file_extension": ".py",
   "mimetype": "text/x-python",
   "name": "python",
   "nbconvert_exporter": "python",
   "pygments_lexer": "ipython3",
   "version": "3.9.5"
  }
 },
 "nbformat": 4,
 "nbformat_minor": 1
}
