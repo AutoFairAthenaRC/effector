{
 "cells": [
  {
   "cell_type": "code",
   "execution_count": 1,
   "metadata": {
    "pycharm": {
     "name": "#%%\n"
    }
   },
   "outputs": [],
   "source": [
    "%matplotlib inline\n",
    "import sys\n",
    "import os\n",
    "sys.path.insert(0, os.path.abspath('..'))\n",
    "import feature_effect as fe\n",
    "import numpy as np\n",
    "import matplotlib.pyplot as plt\n",
    "import ipywidgets as widgets\n",
    "plt.rcParams[\"figure.figsize\"] = (15,10)"
   ]
  },
  {
   "cell_type": "markdown",
   "metadata": {
    "pycharm": {
     "name": "#%% md\n"
    }
   },
   "source": [
    "### Example\n",
    "\n",
    "- $f(x_1, x_2) = x_1^2 + x_1^2x_2$\n",
    "- $p(x_1, x_2) = \\mathcal{U}(x_1; 0,1)\\mathcal{N}(x_2; 0,1)$\n",
    "- $\\frac{\\partial f}{\\partial x_1} = 2x_1(1 + x_2)$\n",
    "- $\\frac{\\partial f}{\\partial x_2} = x_1^2$"
   ]
  },
  {
   "cell_type": "code",
   "execution_count": 2,
   "metadata": {
    "pycharm": {
     "name": "#%%\n"
    }
   },
   "outputs": [],
   "source": [
    "def generate_samples(N, seed):\n",
    "    if seed is not None:\n",
    "        np.random.seed(seed)\n",
    "\n",
    "    x1 = np.random.uniform(size=N)\n",
    "    x2 = np.random.normal(size=N)\n",
    "    return np.stack([x1, x2]).T\n",
    "\n",
    "\n",
    "def f(x):\n",
    "    return x[:,0]**2 + x[:,0]**2 * x[:,1]\n",
    "\n",
    "\n",
    "def f_der(x):\n",
    "    return np.stack([2*x[:,0]*(1 + x[:,1]), x[:,0]**2], axis=-1)"
   ]
  },
  {
   "cell_type": "markdown",
   "metadata": {
    "pycharm": {
     "name": "#%% md\n"
    }
   },
   "source": [
    "### Feature effects\n",
    "- $f_{ALE}(x_1) = x_1^2$\n",
    "- $f_{ALE}(x_2) = \\frac{x_2}{3}$\n",
    "\n",
    "##### Proofs\n",
    "\n",
    "- $f_{ALE}(x_1) = \\int_{0}^{x_1} \\mathbb{E}_{x_2|x_1=z} [\\frac{\\partial f}{\\partial x_1}] \\partial z = \\int_{0}^{x_1} \\mathbb{E}_{x_2} [2z(1 + x_2)] \\partial z = \\int_{0}^{x_1} 2z (1 + \\mathbb{E}_{x_2}[x_2]) \\partial z = 2 \\int_{0}^{x_1} z \\partial z = x_1^2$\n",
    "- $f_{ALE}(x_2) = \\int_{0}^{x_2} \\mathbb{E}_{x_1|x_2=z} [\\frac{\\partial f}{\\partial x_2}] \\partial z = \\int_{0}^{x_2} \\mathbb{E}_{x_1} [x_1^2] \\partial z = \\frac{1}{3}\\int_{0}^{x_2}  \\partial z = \\frac{x_2}{3}$"
   ]
  },
  {
   "cell_type": "code",
   "execution_count": 3,
   "metadata": {
    "pycharm": {
     "name": "#%%\n"
    }
   },
   "outputs": [],
   "source": [
    "def f_ale_x1(x1):\n",
    "    z = 1/3\n",
    "    return x1**2 - z\n",
    "\n",
    "def f_ale_x2(x2):\n",
    "    z = 0\n",
    "    return x2/3 - z"
   ]
  },
  {
   "cell_type": "markdown",
   "metadata": {
    "pycharm": {
     "name": "#%% md\n"
    }
   },
   "source": [
    "#### Generate samples"
   ]
  },
  {
   "cell_type": "code",
   "execution_count": 4,
   "metadata": {
    "pycharm": {
     "name": "#%%\n"
    }
   },
   "outputs": [],
   "source": [
    "seed = 21\n",
    "N = 100\n",
    "X = generate_samples(N, seed)\n",
    "y = f(X)\n",
    "dy = f_der(X)\n",
    "\n",
    "# plt.figure()\n",
    "# plt.plot(X[:,0], X[:,1], \"ro\")\n",
    "# plt.show(block=False)"
   ]
  },
  {
   "cell_type": "code",
   "execution_count": 5,
   "metadata": {
    "pycharm": {
     "name": "#%%\n"
    }
   },
   "outputs": [],
   "source": [
    "#### Define feature effect methods"
   ]
  },
  {
   "cell_type": "code",
   "execution_count": 6,
   "metadata": {
    "pycharm": {
     "name": "#%%\n"
    }
   },
   "outputs": [],
   "source": [
    "ale = fe.ALE(data=X, model=f)\n",
    "dale = fe.DALE(data=X, model=f, model_jac=f_der)"
   ]
  },
  {
   "cell_type": "markdown",
   "metadata": {
    "pycharm": {
     "name": "#%% md\n"
    }
   },
   "source": [
    "#### Feature 1"
   ]
  },
  {
   "cell_type": "code",
   "execution_count": 7,
   "metadata": {
    "pycharm": {
     "name": "#%%\n"
    }
   },
   "outputs": [
    {
     "data": {
      "application/vnd.jupyter.widget-view+json": {
       "model_id": "afcadcb11ff34c91a1cfe9b2499f83a5",
       "version_major": 2,
       "version_minor": 0
      },
      "text/plain": [
       "interactive(children=(IntSlider(value=50, description='bins', min=1), Output(layout=Layout(height='700px'))), …"
      ]
     },
     "metadata": {},
     "output_type": "display_data"
    }
   ],
   "source": [
    "def plot(bins):\n",
    "    ale.fit(features=[0, 1], k=bins)\n",
    "    ale.plot(s=0, block=False, gt=f_ale_x1)\n",
    "    plt.show()\n",
    "    \n",
    "interactive_plot = widgets.interactive(plot, bins=(1, 100, 1))\n",
    "output = interactive_plot.children[-1]\n",
    "output.layout.height = '700px'\n",
    "interactive_plot"
   ]
  },
  {
   "cell_type": "code",
   "execution_count": 8,
   "metadata": {
    "pycharm": {
     "name": "#%%\n"
    }
   },
   "outputs": [
    {
     "data": {
      "application/vnd.jupyter.widget-view+json": {
       "model_id": "0686ade65afc4955a8cf008897159d42",
       "version_major": 2,
       "version_minor": 0
      },
      "text/plain": [
       "interactive(children=(IntSlider(value=50, description='bins', min=1), Output()), _dom_classes=('widget-interac…"
      ]
     },
     "metadata": {},
     "output_type": "display_data"
    }
   ],
   "source": [
    "def plot(bins):\n",
    "    dale.fit(features=[0, 1], k=bins)\n",
    "    dale.plot(s=0, block=False, gt=f_ale_x1)\n",
    "    plt.show()\n",
    "\n",
    "dale_plot = widgets.interactive(plot, bins=(1, 100, 1))\n",
    "dale_output = interactive_plot.children[-1]\n",
    "dale_output.layout.height = '350px'\n",
    "dale_plot"
   ]
  },
  {
   "cell_type": "markdown",
   "metadata": {
    "pycharm": {
     "name": "#%% md\n"
    }
   },
   "source": [
    "#### Feature 2"
   ]
  },
  {
   "cell_type": "code",
   "execution_count": 9,
   "metadata": {
    "pycharm": {
     "name": "#%%\n"
    }
   },
   "outputs": [
    {
     "data": {
      "application/vnd.jupyter.widget-view+json": {
       "model_id": "dedec77b577e492c801426b737359fdc",
       "version_major": 2,
       "version_minor": 0
      },
      "text/plain": [
       "interactive(children=(IntSlider(value=50, description='bins', min=1), Output(layout=Layout(height='350px'))), …"
      ]
     },
     "metadata": {},
     "output_type": "display_data"
    }
   ],
   "source": [
    "def plot(bins):\n",
    "    ale.fit(features=[0, 1], k=bins)\n",
    "    ale.plot(s=1, block=False, gt=f_ale_x2)\n",
    "    plt.show()\n",
    "    \n",
    "interactive_plot = widgets.interactive(plot, bins=(1, 100, 1))\n",
    "output = interactive_plot.children[-1]\n",
    "output.layout.height = '350px'\n",
    "interactive_plot"
   ]
  },
  {
   "cell_type": "code",
   "execution_count": 10,
   "metadata": {
    "pycharm": {
     "name": "#%%\n"
    }
   },
   "outputs": [
    {
     "data": {
      "application/vnd.jupyter.widget-view+json": {
       "model_id": "79adc9e1cfed4c3292e4d3d6d14f3aae",
       "version_major": 2,
       "version_minor": 0
      },
      "text/plain": [
       "interactive(children=(IntSlider(value=50, description='bins', min=1), Output(layout=Layout(height='350px'))), …"
      ]
     },
     "metadata": {},
     "output_type": "display_data"
    }
   ],
   "source": [
    "dale = fe.DALE(data=X, model=f, model_jac=f_der)\n",
    "def plot(bins):\n",
    "    dale.fit(features=[0, 1], k=bins)\n",
    "    dale.plot(s=1, block=False, gt=f_ale_x2)\n",
    "    plt.show()\n",
    "\n",
    "interactive_plot = widgets.interactive(plot, bins=(1, 100, 1))\n",
    "output = interactive_plot.children[-1]\n",
    "output.layout.height = '350px'\n",
    "interactive_plot"
   ]
  },
  {
   "cell_type": "markdown",
   "metadata": {},
   "source": [
    "#### Generic Estimator"
   ]
  },
  {
   "cell_type": "code",
   "execution_count": 11,
   "metadata": {
    "pycharm": {
     "name": "#%%\n"
    }
   },
   "outputs": [
    {
     "data": {
      "application/vnd.jupyter.widget-view+json": {
       "model_id": "f5e0e8154fa2465ba2064ac3bbf58339",
       "version_major": 2,
       "version_minor": 0
      },
      "text/plain": [
       "interactive(children=(IntSlider(value=50, description='bins', min=1), Output(layout=Layout(height='800px'))), …"
      ]
     },
     "metadata": {},
     "output_type": "display_data"
    }
   ],
   "source": [
    "est = fe.Estimator(data=X, model=f, model_jac=f_der)\n",
    "\n",
    "def plot(bins):\n",
    "    est.fit(features=[0,1], method=\"all\", nof_bins=bins)\n",
    "    est.plot(feature=0, method=\"all\", ale_gt=f_ale_x1)\n",
    "    plt.show()\n",
    "\n",
    "interactive_plot = widgets.interactive(plot, bins=(1, 100, 1))\n",
    "output = interactive_plot.children[-1]\n",
    "output.layout.height = '800px'\n",
    "interactive_plot"
   ]
  },
  {
   "cell_type": "code",
   "execution_count": null,
   "metadata": {
    "pycharm": {
     "name": "#%%\n"
    }
   },
   "outputs": [],
   "source": []
  },
  {
   "cell_type": "code",
   "execution_count": null,
   "metadata": {},
   "outputs": [],
   "source": []
  },
  {
   "cell_type": "code",
   "execution_count": null,
   "metadata": {},
   "outputs": [],
   "source": []
  }
 ],
 "metadata": {
  "kernelspec": {
   "display_name": "Python 3 (ipykernel)",
   "language": "python",
   "name": "python3"
  },
  "language_info": {
   "codemirror_mode": {
    "name": "ipython",
    "version": 3
   },
   "file_extension": ".py",
   "mimetype": "text/x-python",
   "name": "python",
   "nbconvert_exporter": "python",
   "pygments_lexer": "ipython3",
   "version": "3.9.5"
  }
 },
 "nbformat": 4,
 "nbformat_minor": 1
}