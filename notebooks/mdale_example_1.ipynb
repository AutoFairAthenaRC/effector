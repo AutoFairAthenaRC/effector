{
 "cells": [
  {
   "cell_type": "code",
   "execution_count": 1,
   "id": "b751beff",
   "metadata": {},
   "outputs": [],
   "source": [
    "%matplotlib inline\n",
    "import numpy as np\n",
    "import matplotlib.pyplot as plt\n",
    "import sys\n",
    "import os\n",
    "sys.path.insert(0, os.path.abspath('..'))\n",
    "import feature_effect as fe\n",
    "import ipywidgets as widgets\n",
    "plt.rcParams[\"figure.figsize\"] = (15,10)"
   ]
  },
  {
   "cell_type": "code",
   "execution_count": 14,
   "id": "5d8a5273",
   "metadata": {},
   "outputs": [],
   "source": [
    "def generate_samples(N):\n",
    "    x = np.random.uniform(size=N-2)\n",
    "    x = np.expand_dims(np.concatenate((np.array([0.001]), x, np.array([.999]))), axis=-1)\n",
    "    return x\n",
    "\n",
    "\n",
    "params = [{\"b\":0.3, \"from\": 0., \"to\": .1},\n",
    "          {\"b\":7. , \"from\": 0.1, \"to\": .2},\n",
    "          {\"b\":-1.5, \"from\": 0.2, \"to\": .3},\n",
    "          {\"b\":0., \"from\": 0.3, \"to\": .4},\n",
    "          {\"b\":-5., \"from\": 0.4, \"to\": .5},\n",
    "          {\"b\":0.3, \"from\": 0.5, \"to\": .6},\n",
    "          {\"b\":7. , \"from\": 0.6, \"to\": .7},\n",
    "          {\"b\":-1.5, \"from\": 0.7, \"to\": .8},\n",
    "          {\"b\":0., \"from\": 0.8, \"to\": .9},\n",
    "          {\"b\":-5., \"from\": 0.9, \"to\": 1.}]\n",
    "\n",
    "\n",
    "def f1(x):\n",
    "    \"\"\"Piece-wise linear\"\"\"\n",
    "\n",
    "    def find_a(params, x_start):\n",
    "        params[0][\"a\"] = x_start\n",
    "        for i, param in enumerate(params):\n",
    "            if i < len(params) - 1:\n",
    "                a_next = param[\"a\"] + (param[\"to\"]-param[\"from\"])*param[\"b\"]\n",
    "                params[i+1][\"a\"] = a_next\n",
    "\n",
    "    limits = [param[\"from\"] for param in params]\n",
    "    limits.append(params[-1][\"to\"])\n",
    "\n",
    "\n",
    "    x_start = -1\n",
    "    find_a(params, x_start)\n",
    "\n",
    "    ind = np.squeeze(np.digitize(x, limits))\n",
    "    breakpoint()\n",
    "    y = []\n",
    "    for i, point in enumerate(x):\n",
    "        res = params[ind[i] - 1][\"a\"] + \\\n",
    "            (point - params[ind[i] - 1][\"from\"])*params[ind[i] - 1][\"b\"]\n",
    "\n",
    "        y.append(res)\n",
    "    return np.array(y)\n",
    "\n",
    "z = np.mean(f1(np.linspace(0.0001, 0.9999, 10000)))\n",
    "\n",
    "def f1_center(x):\n",
    "    return f1(x) - z\n",
    "\n",
    "def compute_data_effect(x):\n",
    "    \"\"\"Piece-wise linear\"\"\"\n",
    "\n",
    "    def find_a(params, x_start):\n",
    "        params[0][\"a\"] = x_start\n",
    "        for i, param in enumerate(params):\n",
    "            if i < len(params) - 1:\n",
    "                a_next = param[\"a\"] + (param[\"to\"]-param[\"from\"])*param[\"b\"]\n",
    "                params[i+1][\"a\"] = a_next\n",
    "\n",
    "    limits = [param[\"from\"] for param in params]\n",
    "    limits.append(params[-1][\"to\"])\n",
    "\n",
    "\n",
    "    x_start = -1\n",
    "    find_a(params, x_start)\n",
    "    \n",
    "    x = np.squeeze(x)\n",
    "    ind = np.squeeze(np.digitize(x, limits))\n",
    "    res1 = np.array(params)[ind-1]\n",
    "    y = np.array([r['b'] for r in res1])\n",
    "\n",
    "    # add noise\n",
    "    noise_level = 10.\n",
    "    np.random.seed(26443534)\n",
    "    noise = np.random.normal(0, noise_level, y.shape[0])\n",
    "    return np.expand_dims(y+noise, -1)\n",
    "\n",
    "\n",
    "gt_bins = {}\n",
    "gt_bins[\"height\"] = [par[\"b\"] for par in params]\n",
    "gt_bins[\"limits\"] = [par[\"from\"] for par in params]\n",
    "gt_bins[\"limits\"].append(params[-1][\"to\"])"
   ]
  },
  {
   "cell_type": "code",
   "execution_count": 15,
   "id": "8a5d8745",
   "metadata": {},
   "outputs": [
    {
     "data": {
      "image/png": "[encoded data removed]",
      "text/plain": [
       "<Figure size 1080x720 with 1 Axes>"
      ]
     },
     "metadata": {
      "needs_background": "light"
     },
     "output_type": "display_data"
    }
   ],
   "source": [
    "# parameters\n",
    "N = 400\n",
    "K = 10\n",
    "\n",
    "# main part\n",
    "seed = 4837571\n",
    "np.random.seed(seed)\n",
    "\n",
    "\n",
    "x = generate_samples(N=N)\n",
    "y = f1_center(x)\n",
    "data = x\n",
    "data_effect = compute_data_effect(x)\n",
    "\n",
    "plt.figure()\n",
    "plt.plot(x, y, \"ro\")\n",
    "# plt.plot(x, data_effect, \"bo\")\n",
    "plt.show(block=False)\n",
    "\n",
    "# generic estimator\n",
    "# est = fe.Estimator(data=X, model=TestExample1.f, model_jac=TestExample1.f_der)\n",
    "# est.fit(features=[0, 1], method=\"all\", nof_bins=K)\n",
    "# est.plot(feature=0, method=\"all\")"
   ]
  },
  {
   "cell_type": "code",
   "execution_count": 17,
   "id": "81900035",
   "metadata": {},
   "outputs": [
    {
     "data": {
      "application/vnd.jupyter.widget-view+json": {
       "model_id": "f0254f727315465b917435771ddd17d1",
       "version_major": 2,
       "version_minor": 0
      },
      "text/plain": [
       "interactive(children=(IntSlider(value=250, description='bins', max=500, min=1), Output(layout=Layout(height='7…"
      ]
     },
     "metadata": {},
     "output_type": "display_data"
    }
   ],
   "source": [
    "dale = fe.DALE(data=x, model=f1, model_jac=compute_data_effect)\n",
    "def plot(bins):\n",
    "    dale.fit(features=[0], k=bins)\n",
    "    dale.plot(s=0, block=False, gt=f1_center, gt_bins=gt_bins)\n",
    "    plt.show()\n",
    "\n",
    "dale_plot = widgets.interactive(plot, bins=(1, 500, 1))\n",
    "dale_output = dale_plot.children[-1]\n",
    "dale_output.layout.height = '700px'\n",
    "dale_plot"
   ]
  },
  {
   "cell_type": "code",
   "execution_count": 5,
   "id": "e7ddffd6",
   "metadata": {},
   "outputs": [
    {
     "data": {
      "text/plain": [
       "array([  0.9071736 ,  -6.72845486,  -9.20565055,  -0.32819595,\n",
       "       -19.71960512,  16.92143755,  -0.53708002, -17.37261803,\n",
       "       -11.58808387,  -4.83777994])"
      ]
     },
     "execution_count": 5,
     "metadata": {},
     "output_type": "execute_result"
    }
   ],
   "source": [
    "np.random.normal(0, 10, 10)"
   ]
  },
  {
   "cell_type": "code",
   "execution_count": 6,
   "id": "cb003dda",
   "metadata": {},
   "outputs": [],
   "source": [
    "x = np.linspace(0.0001, 0.9999, 100000)\n",
    "y = f1(x)"
   ]
  },
  {
   "cell_type": "code",
   "execution_count": 7,
   "id": "d180335a",
   "metadata": {},
   "outputs": [
    {
     "data": {
      "text/plain": [
       "-0.567933130511789"
      ]
     },
     "execution_count": 7,
     "metadata": {},
     "output_type": "execute_result"
    }
   ],
   "source": [
    "y.mean()"
   ]
  },
  {
   "cell_type": "code",
   "execution_count": 8,
   "id": "f6be654f",
   "metadata": {},
   "outputs": [
    {
     "data": {
      "text/plain": [
       "{'height': [0.3, 7.0, -1.5, 0.0, -5.0, 0.3, 7.0, -1.5, 0.0, -5.0],\n",
       " 'limits': [0.0, 0.1, 0.2, 0.3, 0.4, 0.5, 0.6, 0.7, 0.8, 0.9, 1.0]}"
      ]
     },
     "execution_count": 8,
     "metadata": {},
     "output_type": "execute_result"
    }
   ],
   "source": [
    "gt_bins"
   ]
  },
  {
   "cell_type": "code",
   "execution_count": null,
   "id": "f876dd62",
   "metadata": {},
   "outputs": [],
   "source": []
  }
 ],
 "metadata": {
  "kernelspec": {
   "display_name": "Python 3 (ipykernel)",
   "language": "python",
   "name": "python3"
  },
  "language_info": {
   "codemirror_mode": {
    "name": "ipython",
    "version": 3
   },
   "file_extension": ".py",
   "mimetype": "text/x-python",
   "name": "python",
   "nbconvert_exporter": "python",
   "pygments_lexer": "ipython3",
   "version": "3.9.5"
  }
 },
 "nbformat": 4,
 "nbformat_minor": 5
}
