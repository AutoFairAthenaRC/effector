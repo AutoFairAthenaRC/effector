{
 "cells": [
  {
   "cell_type": "code",
   "execution_count": 1,
   "metadata": {
    "pycharm": {
     "name": "#%%\n"
    }
   },
   "outputs": [],
   "source": [
    "%matplotlib inline\n",
    "import sys\n",
    "import os\n",
    "sys.path.insert(0, os.path.abspath('..'))\n",
    "import feature_effect as fe\n",
    "import numpy as np\n",
    "import matplotlib.pyplot as plt\n",
    "import ipywidgets as widgets\n",
    "plt.rcParams[\"figure.figsize\"] = (15,10)"
   ]
  },
  {
   "cell_type": "markdown",
   "metadata": {
    "pycharm": {
     "name": "#%% md\n"
    }
   },
   "source": [
    "### Example\n",
    "\n",
    "- $f(x_1, x_2) = x_1^2 + x_1^2x_2$\n",
    "- $p(x_1, x_2) = \\mathcal{U}(x_1; 0,1)\\mathcal{N}(x_2; 0,1)$\n",
    "- $\\frac{\\partial f}{\\partial x_1} = 2x_1(1 + x_2)$\n",
    "- $\\frac{\\partial f}{\\partial x_2} = x_1^2$"
   ]
  },
  {
   "cell_type": "code",
   "execution_count": 2,
   "metadata": {
    "pycharm": {
     "name": "#%%\n"
    }
   },
   "outputs": [],
   "source": [
    "def generate_samples(N, seed):\n",
    "    if seed is not None:\n",
    "        np.random.seed(seed)\n",
    "\n",
    "    x1 = np.random.uniform(size=N)\n",
    "    x2 = np.random.normal(size=N)\n",
    "    return np.stack([x1, x2]).T\n",
    "\n",
    "\n",
    "def f(x):\n",
    "    return x[:,0]**2 + x[:,0]**2 * x[:,1]\n",
    "\n",
    "\n",
    "def f_der(x):\n",
    "    return np.stack([2*x[:,0]*(1 + x[:,1]), x[:,0]**2], axis=-1)"
   ]
  },
  {
   "cell_type": "markdown",
   "metadata": {
    "pycharm": {
     "name": "#%% md\n"
    }
   },
   "source": [
    "### Feature effects\n",
    "- $f_{ALE}(x_1) = x_1^2$\n",
    "- $f_{ALE}(x_2) = \\frac{x_2}{3}$\n",
    "\n",
    "##### Proofs\n",
    "\n",
    "- $f_{ALE}(x_1) = \\int_{0}^{x_1} \\mathbb{E}_{x_2|x_1=z} [\\frac{\\partial f}{\\partial x_1}] \\partial z = \\int_{0}^{x_1} \\mathbb{E}_{x_2} [2z(1 + x_2)] \\partial z = \\int_{0}^{x_1} 2z (1 + \\mathbb{E}_{x_2}[x_2]) \\partial z = 2 \\int_{0}^{x_1} z \\partial z = x_1^2$\n",
    "- $f_{ALE}(x_2) = \\int_{0}^{x_2} \\mathbb{E}_{x_1|x_2=z} [\\frac{\\partial f}{\\partial x_2}] \\partial z = \\int_{0}^{x_2} \\mathbb{E}_{x_1} [x_1^2] \\partial z = \\frac{1}{3}\\int_{0}^{x_2}  \\partial z = \\frac{x_2}{3}$"
   ]
  },
  {
   "cell_type": "code",
   "execution_count": 3,
   "metadata": {
    "pycharm": {
     "name": "#%%\n"
    }
   },
   "outputs": [],
   "source": [
    "def f_ale_x1(x1):\n",
    "    z = 1/3\n",
    "    return x1**2 - z\n",
    "\n",
    "def f_ale_x2(x2):\n",
    "    z = 0\n",
    "    return x2/3 - z"
   ]
  },
  {
   "cell_type": "markdown",
   "metadata": {
    "pycharm": {
     "name": "#%% md\n"
    }
   },
   "source": [
    "#### Generate samples"
   ]
  },
  {
   "cell_type": "code",
   "execution_count": 4,
   "metadata": {
    "pycharm": {
     "name": "#%%\n"
    }
   },
   "outputs": [],
   "source": [
    "seed = 21\n",
    "N = 100\n",
    "X = generate_samples(N, seed)\n",
    "y = f(X)\n",
    "dy = f_der(X)\n",
    "\n",
    "# plt.figure()\n",
    "# plt.plot(X[:,0], X[:,1], \"ro\")\n",
    "# plt.show(block=False)"
   ]
  },
  {
   "cell_type": "code",
   "execution_count": 5,
   "metadata": {
    "pycharm": {
     "name": "#%%\n"
    }
   },
   "outputs": [],
   "source": [
    "#### Define feature effect methods"
   ]
  },
  {
   "cell_type": "code",
   "execution_count": 6,
   "metadata": {
    "pycharm": {
     "name": "#%%\n"
    }
   },
   "outputs": [],
   "source": [
    "ale = fe.ALE(data=X, model=f)\n",
    "dale = fe.DALE(data=X, model=f, model_jac=f_der)"
   ]
  },
  {
   "cell_type": "markdown",
   "metadata": {
    "pycharm": {
     "name": "#%% md\n"
    }
   },
   "source": [
    "## Feature 1 - ALE"
   ]
  },
  {
   "cell_type": "code",
   "execution_count": 7,
   "metadata": {
    "pycharm": {
     "name": "#%%\n"
    }
   },
   "outputs": [
    {
     "data": {
      "application/vnd.jupyter.widget-view+json": {
       "model_id": "d9df5722bbd64449a5306bfeefcbf97c",
       "version_major": 2,
       "version_minor": 0
      },
      "text/plain": [
       "interactive(children=(IntSlider(value=50, description='bins', min=1), Output(layout=Layout(height='700px'))), …"
      ]
     },
     "metadata": {},
     "output_type": "display_data"
    }
   ],
   "source": [
    "def plot(bins):\n",
    "    ale.fit(features=[0, 1], k=bins)\n",
    "    ale.plot(s=0, block=False, gt=f_ale_x1)\n",
    "    plt.show()\n",
    "    \n",
    "interactive_plot = widgets.interactive(plot, bins=(1, 100, 1))\n",
    "output = interactive_plot.children[-1]\n",
    "output.layout.height = '700px'\n",
    "interactive_plot"
   ]
  },
  {
   "cell_type": "markdown",
   "metadata": {},
   "source": [
    "## Feature 1 - DALE"
   ]
  },
  {
   "cell_type": "code",
   "execution_count": 8,
   "metadata": {
    "pycharm": {
     "name": "#%%\n"
    }
   },
   "outputs": [
    {
     "data": {
      "application/vnd.jupyter.widget-view+json": {
       "model_id": "8dd3eaace1274ba8bc683939b5e8563d",
       "version_major": 2,
       "version_minor": 0
      },
      "text/plain": [
       "interactive(children=(IntSlider(value=50, description='bins', min=1), Output()), _dom_classes=('widget-interac…"
      ]
     },
     "metadata": {},
     "output_type": "display_data"
    }
   ],
   "source": [
    "def plot(bins):\n",
    "    dale.fit(features=[0, 1], k=bins)\n",
    "    dale.plot(s=0, block=False, gt=f_ale_x1)\n",
    "    plt.show()\n",
    "\n",
    "dale_plot = widgets.interactive(plot, bins=(1, 100, 1))\n",
    "dale_output = interactive_plot.children[-1]\n",
    "dale_output.layout.height = '350px'\n",
    "dale_plot"
   ]
  },
  {
   "cell_type": "markdown",
   "metadata": {},
   "source": [
    "## Feature 1 - DALE - variable size"
   ]
  },
  {
   "cell_type": "code",
   "execution_count": 9,
   "metadata": {},
   "outputs": [
    {
     "data": {
      "image/png": "[encoded data removed]",
      "text/plain": [
       "<Figure size 1080x720 with 2 Axes>"
      ]
     },
     "metadata": {
      "needs_background": "light"
     },
     "output_type": "display_data"
    }
   ],
   "source": [
    "max_bins = 70\n",
    "dale.fit(features=[0, 1], k=70, method=\"variable-size\")\n",
    "dale.plot(s=0, block=False, gt=f_ale_x1)\n",
    "plt.show()"
   ]
  },
  {
   "cell_type": "code",
   "execution_count": 13,
   "metadata": {},
   "outputs": [
    {
     "data": {
      "text/plain": [
       "{'feature_0': {'nof_bins': 50,\n",
       "  'limits': array([0.02161625, 0.04059363, 0.059571  , 0.07854838, 0.09752576,\n",
       "         0.11650314, 0.13548051, 0.15445789, 0.17343527, 0.19241265,\n",
       "         0.21139003, 0.2303674 , 0.24934478, 0.26832216, 0.28729954,\n",
       "         0.30627691, 0.32525429, 0.34423167, 0.36320905, 0.38218642,\n",
       "         0.4011638 , 0.42014118, 0.43911856, 0.45809593, 0.47707331,\n",
       "         0.49605069, 0.51502807, 0.53400544, 0.55298282, 0.5719602 ,\n",
       "         0.59093758, 0.60991495, 0.62889233, 0.64786971, 0.66684709,\n",
       "         0.68582446, 0.70480184, 0.72377922, 0.7427566 , 0.76173397,\n",
       "         0.78071135, 0.79968873, 0.81866611, 0.83764348, 0.85662086,\n",
       "         0.87559824, 0.89457562, 0.91355299, 0.93253037, 0.95150775,\n",
       "         0.97048515]),\n",
       "  'dx': 0.018977377508664156,\n",
       "  'points_per_bin': array([2, 3, 2, 0, 0, 1, 1, 2, 3, 3, 1, 3, 1, 2, 5, 1, 2, 0, 3, 3, 3, 1,\n",
       "         1, 3, 2, 2, 3, 1, 1, 2, 1, 1, 1, 3, 1, 2, 2, 2, 3, 0, 3, 5, 3, 3,\n",
       "         5, 2, 3, 2, 0, 1]),\n",
       "  'is_bin_empty': array([False, False, False, False, False, False, False, False, False,\n",
       "         False, False, False, False, False, False, False, False, False,\n",
       "         False, False, False, False, False, False, False, False, False,\n",
       "         False, False, False, False, False, False, False, False, False,\n",
       "         False, False, False, False, False, False, False, False, False,\n",
       "         False, False, False, False, False]),\n",
       "  'bin_effect': array([ 0.04155565,  0.04608856,  0.12957326,  0.11356894,  0.09756462,\n",
       "          0.08156031,  0.19711385,  0.40633233,  0.70769309,  0.32549165,\n",
       "          0.29918703, -0.05964493,  1.12283691,  0.05261587,  0.6580927 ,\n",
       "          0.38894501,  0.85396564,  0.82163579,  0.78930595,  0.73302647,\n",
       "          0.96244848,  2.16540142,  0.59146008,  0.7840831 ,  0.52132468,\n",
       "          1.5160873 ,  0.94954387,  0.53907464,  1.8416199 ,  2.34373607,\n",
       "          1.16405651, -1.31280815, -0.19742061,  1.40613883,  0.2837843 ,\n",
       "          3.97074134,  3.03897992, -0.11890062,  1.1305217 ,  0.80155205,\n",
       "          0.47258241,  1.10329581,  1.77261047,  2.39278425,  1.38141076,\n",
       "          1.61976207,  0.50749676,  2.10423222,  1.29417048,  0.48410874]),\n",
       "  'bin_variance': array([1.20880316e-03, 1.19649838e-02, 1.50678141e-03, 1.00452094e-03,\n",
       "         5.02260469e-04, 0.00000000e+00, 0.00000000e+00, 1.54745605e-03,\n",
       "         1.74000357e-01, 2.31825199e-01, 0.00000000e+00, 2.97931387e-02,\n",
       "         0.00000000e+00, 6.37300917e-04, 3.87059029e-01, 0.00000000e+00,\n",
       "         3.20160811e-02, 3.57170631e-01, 6.82325182e-01, 1.81652460e-01,\n",
       "         2.68524008e-01, 0.00000000e+00, 0.00000000e+00, 4.14903287e-01,\n",
       "         2.23980480e+00, 2.11455824e-01, 4.48115815e-01, 0.00000000e+00,\n",
       "         0.00000000e+00, 1.09054437e+00, 0.00000000e+00, 0.00000000e+00,\n",
       "         0.00000000e+00, 1.54739531e+00, 0.00000000e+00, 3.16575241e+00,\n",
       "         4.07465952e-01, 1.21047525e-02, 1.66772721e+00, 1.09174957e+00,\n",
       "         5.15771923e-01, 1.87694362e+00, 5.87699604e-01, 4.39078549e+00,\n",
       "         3.59238140e+00, 3.43801763e+00, 4.12187881e-01, 2.16672368e-02,\n",
       "         1.08336184e-02, 0.00000000e+00]),\n",
       "  'bin_estimator_variance': array([6.04401581e-04, 3.98832792e-03, 7.53390704e-04, 5.02260469e-04,\n",
       "         2.51130235e-04, 0.00000000e+00, 0.00000000e+00, 7.73728025e-04,\n",
       "         5.80001189e-02, 7.72750662e-02, 0.00000000e+00, 9.93104622e-03,\n",
       "         0.00000000e+00, 3.18650459e-04, 7.74118057e-02, 0.00000000e+00,\n",
       "         1.60080406e-02, 1.21724884e-01, 2.27441727e-01, 6.05508201e-02,\n",
       "         8.95080027e-02, 0.00000000e+00, 0.00000000e+00, 1.38301096e-01,\n",
       "         1.11990240e+00, 1.05727912e-01, 1.49371938e-01, 0.00000000e+00,\n",
       "         0.00000000e+00, 5.45272187e-01, 0.00000000e+00, 0.00000000e+00,\n",
       "         0.00000000e+00, 5.15798435e-01, 0.00000000e+00, 1.58287620e+00,\n",
       "         2.03732976e-01, 6.05237626e-03, 5.55909071e-01, 3.63916522e-01,\n",
       "         1.71923974e-01, 3.75388724e-01, 1.95899868e-01, 1.46359516e+00,\n",
       "         7.18476279e-01, 1.71900882e+00, 1.37395960e-01, 1.08336184e-02,\n",
       "         5.41680921e-03, 0.00000000e+00]),\n",
       "  'z': 0.32306740132529255,\n",
       "  'first_empty_bin': 3},\n",
       " 'feature_1': {'nof_bins': 50,\n",
       "  'limits': array([-2.06762800e+00, -1.96438581e+00, -1.86114362e+00, -1.75790143e+00,\n",
       "         -1.65465924e+00, -1.55141704e+00, -1.44817485e+00, -1.34493266e+00,\n",
       "         -1.24169047e+00, -1.13844828e+00, -1.03520609e+00, -9.31963898e-01,\n",
       "         -8.28721708e-01, -7.25479517e-01, -6.22237326e-01, -5.18995135e-01,\n",
       "         -4.15752944e-01, -3.12510753e-01, -2.09268562e-01, -1.06026371e-01,\n",
       "         -2.78418002e-03,  1.00458011e-01,  2.03700202e-01,  3.06942393e-01,\n",
       "          4.10184584e-01,  5.13426775e-01,  6.16668966e-01,  7.19911157e-01,\n",
       "          8.23153347e-01,  9.26395538e-01,  1.02963773e+00,  1.13287992e+00,\n",
       "          1.23612211e+00,  1.33936430e+00,  1.44260649e+00,  1.54584868e+00,\n",
       "          1.64909087e+00,  1.75233307e+00,  1.85557526e+00,  1.95881745e+00,\n",
       "          2.06205964e+00,  2.16530183e+00,  2.26854402e+00,  2.37178621e+00,\n",
       "          2.47502840e+00,  2.57827059e+00,  2.68151278e+00,  2.78475498e+00,\n",
       "          2.88799717e+00,  2.99123936e+00,  3.09448157e+00]),\n",
       "  'dx': 0.10324219093662976,\n",
       "  'points_per_bin': array([2, 0, 2, 1, 1, 0, 1, 1, 5, 6, 4, 4, 5, 3, 3, 1, 6, 3, 4, 1, 5, 1,\n",
       "         4, 6, 2, 5, 4, 3, 0, 4, 4, 0, 0, 0, 2, 1, 3, 0, 1, 0, 0, 0, 0, 0,\n",
       "         0, 1, 0, 0, 0, 1]),\n",
       "  'is_bin_empty': array([False, False, False, False, False, False, False, False, False,\n",
       "         False, False, False, False, False, False, False, False, False,\n",
       "         False, False, False, False, False, False, False, False, False,\n",
       "         False, False, False, False, False, False, False, False, False,\n",
       "         False, False, False, False, False, False, False, False, False,\n",
       "         False, False, False, False, False]),\n",
       "  'bin_effect': array([0.31197777, 0.33092524, 0.34987271, 0.00169806, 0.06079969,\n",
       "         0.07656742, 0.09233515, 0.72129811, 0.56894712, 0.40792369,\n",
       "         0.27184236, 0.3498053 , 0.54706541, 0.0819115 , 0.71097188,\n",
       "         0.29633691, 0.22336771, 0.23782405, 0.24429589, 0.36044325,\n",
       "         0.32229639, 0.14613705, 0.48915331, 0.34042217, 0.08988869,\n",
       "         0.35076805, 0.36301484, 0.29900322, 0.35739179, 0.41578037,\n",
       "         0.18930541, 0.1841948 , 0.17908418, 0.17397357, 0.16886296,\n",
       "         0.51979247, 0.52085561, 0.43071719, 0.34057878, 0.29645729,\n",
       "         0.25233581, 0.20821433, 0.16409284, 0.11997136, 0.07584988,\n",
       "         0.0317284 , 0.14705497, 0.26238154, 0.37770812, 0.49303469]),\n",
       "  'bin_variance': array([0.00436018, 0.04914587, 0.09393155, 0.        , 0.        ,\n",
       "         0.        , 0.        , 0.        , 0.02354376, 0.12060928,\n",
       "         0.02646373, 0.10183674, 0.06540949, 0.00403105, 0.00496979,\n",
       "         0.        , 0.0713387 , 0.08371933, 0.05570456, 0.        ,\n",
       "         0.08714224, 0.        , 0.10116391, 0.0783468 , 0.00333615,\n",
       "         0.04351268, 0.05074463, 0.09728518, 0.08999397, 0.08270276,\n",
       "         0.0289562 , 0.02185728, 0.01475836, 0.00765944, 0.00056051,\n",
       "         0.        , 0.09137894, 0.04568947, 0.        , 0.        ,\n",
       "         0.        , 0.        , 0.        , 0.        , 0.        ,\n",
       "         0.        , 0.        , 0.        , 0.        , 0.        ]),\n",
       "  'bin_estimator_variance': array([0.00218009, 0.02457293, 0.04696578, 0.        , 0.        ,\n",
       "         0.        , 0.        , 0.        , 0.00470875, 0.02010155,\n",
       "         0.00661593, 0.02545919, 0.0130819 , 0.00134368, 0.0016566 ,\n",
       "         0.        , 0.01188978, 0.02790644, 0.01392614, 0.        ,\n",
       "         0.01742845, 0.        , 0.02529098, 0.0130578 , 0.00166807,\n",
       "         0.00870254, 0.01268616, 0.03242839, 0.02655204, 0.02067569,\n",
       "         0.00723905, 0.00549935, 0.00375965, 0.00201996, 0.00028026,\n",
       "         0.        , 0.03045965, 0.01522982, 0.        , 0.        ,\n",
       "         0.        , 0.        , 0.        , 0.        , 0.        ,\n",
       "         0.        , 0.        , 0.        , 0.        , 0.        ]),\n",
       "  'z': 0.6080383490410404,\n",
       "  'first_empty_bin': 1}}"
      ]
     },
     "execution_count": 13,
     "metadata": {},
     "output_type": "execute_result"
    }
   ],
   "source": [
    "dale.parameters"
   ]
  },
  {
   "cell_type": "markdown",
   "metadata": {
    "pycharm": {
     "name": "#%% md\n"
    }
   },
   "source": [
    "#### Feature 2"
   ]
  },
  {
   "cell_type": "code",
   "execution_count": 10,
   "metadata": {
    "pycharm": {
     "name": "#%%\n"
    }
   },
   "outputs": [
    {
     "data": {
      "application/vnd.jupyter.widget-view+json": {
       "model_id": "2899309dcca047f2abaac21f1b8d1fd4",
       "version_major": 2,
       "version_minor": 0
      },
      "text/plain": [
       "interactive(children=(IntSlider(value=50, description='bins', min=1), Output(layout=Layout(height='700px'))), …"
      ]
     },
     "metadata": {},
     "output_type": "display_data"
    }
   ],
   "source": [
    "def plot(bins):\n",
    "    ale.fit(features=[0, 1], k=bins)\n",
    "    ale.plot(s=1, block=False, gt=f_ale_x2)\n",
    "    plt.show()\n",
    "    \n",
    "interactive_plot = widgets.interactive(plot, bins=(1, 100, 1))\n",
    "output = interactive_plot.children[-1]\n",
    "output.layout.height = '700px'\n",
    "interactive_plot"
   ]
  },
  {
   "cell_type": "code",
   "execution_count": 11,
   "metadata": {
    "pycharm": {
     "name": "#%%\n"
    }
   },
   "outputs": [
    {
     "data": {
      "application/vnd.jupyter.widget-view+json": {
       "model_id": "e5007c0783d24eb6871c84d905e5a62e",
       "version_major": 2,
       "version_minor": 0
      },
      "text/plain": [
       "interactive(children=(IntSlider(value=50, description='bins', min=1), Output(layout=Layout(height='700px'))), …"
      ]
     },
     "metadata": {},
     "output_type": "display_data"
    }
   ],
   "source": [
    "dale = fe.DALE(data=X, model=f, model_jac=f_der)\n",
    "def plot(bins):\n",
    "    dale.fit(features=[0, 1], k=bins)\n",
    "    dale.plot(s=1, block=False, gt=f_ale_x2)\n",
    "    plt.show()\n",
    "\n",
    "interactive_plot = widgets.interactive(plot, bins=(1, 100, 1))\n",
    "output = interactive_plot.children[-1]\n",
    "output.layout.height = '700px'\n",
    "interactive_plot"
   ]
  },
  {
   "cell_type": "markdown",
   "metadata": {},
   "source": [
    "#### Generic Estimator"
   ]
  },
  {
   "cell_type": "code",
   "execution_count": 12,
   "metadata": {
    "pycharm": {
     "name": "#%%\n"
    }
   },
   "outputs": [
    {
     "data": {
      "application/vnd.jupyter.widget-view+json": {
       "model_id": "1528c95d55be4ef482679dc08dd484d6",
       "version_major": 2,
       "version_minor": 0
      },
      "text/plain": [
       "interactive(children=(IntSlider(value=50, description='bins', min=1), Output(layout=Layout(height='800px'))), …"
      ]
     },
     "metadata": {},
     "output_type": "display_data"
    }
   ],
   "source": [
    "est = fe.Estimator(data=X, model=f, model_jac=f_der)\n",
    "\n",
    "def plot(bins):\n",
    "    est.fit(features=[0,1], method=\"all\", nof_bins=bins)\n",
    "    est.plot(feature=0, method=\"all\", ale_gt=f_ale_x1)\n",
    "    plt.show()\n",
    "\n",
    "interactive_plot = widgets.interactive(plot, bins=(1, 100, 1))\n",
    "output = interactive_plot.children[-1]\n",
    "output.layout.height = '800px'\n",
    "interactive_plot"
   ]
  },
  {
   "cell_type": "code",
   "execution_count": null,
   "metadata": {
    "pycharm": {
     "name": "#%%\n"
    }
   },
   "outputs": [],
   "source": []
  },
  {
   "cell_type": "code",
   "execution_count": null,
   "metadata": {},
   "outputs": [],
   "source": []
  },
  {
   "cell_type": "code",
   "execution_count": null,
   "metadata": {},
   "outputs": [],
   "source": []
  },
  {
   "cell_type": "code",
   "execution_count": null,
   "metadata": {},
   "outputs": [],
   "source": []
  }
 ],
 "metadata": {
  "kernelspec": {
   "display_name": "Python 3 (ipykernel)",
   "language": "python",
   "name": "python3"
  },
  "language_info": {
   "codemirror_mode": {
    "name": "ipython",
    "version": 3
   },
   "file_extension": ".py",
   "mimetype": "text/x-python",
   "name": "python",
   "nbconvert_exporter": "python",
   "pygments_lexer": "ipython3",
   "version": "3.9.5"
  }
 },
 "nbformat": 4,
 "nbformat_minor": 1
}
