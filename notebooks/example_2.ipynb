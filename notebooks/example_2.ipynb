{
 "cells": [
  {
   "cell_type": "markdown",
   "id": "38782cc6",
   "metadata": {},
   "source": [
    "## Feature effect with piecewise-linear parts of different size\n",
    "\n",
    "#### Goal\n",
    "* Show that if feature effect contains both high and low resolution parts, fixed-bin size approaches fail.\n",
    "  - If we choose a small K(=nof bins) => small bin size, then bin effect is very noisy (interpolation is erroneous)\n",
    "  - If we choose a big K => large bin width, then we loose all high-resolution artifacts\n",
    "* Show that variable-bin size can create the bins correctly\n",
    "\n"
   ]
  },
  {
   "cell_type": "code",
   "execution_count": 1,
   "id": "4f616a72",
   "metadata": {},
   "outputs": [],
   "source": [
    "import sys\n",
    "import os\n",
    "sys.path.insert(0, os.path.abspath('..'))\n",
    "import matplotlib.pyplot as plt\n",
    "import ipywidgets as widgets\n",
    "plt.rcParams[\"figure.figsize\"] = (10,6)"
   ]
  },
  {
   "cell_type": "code",
   "execution_count": 2,
   "id": "b4ee2b42",
   "metadata": {},
   "outputs": [],
   "source": [
    "import numpy as np\n",
    "import examples.example_utils as utils\n",
    "import feature_effect as fe"
   ]
  },
  {
   "cell_type": "code",
   "execution_count": 3,
   "id": "b8539a4a",
   "metadata": {},
   "outputs": [],
   "source": [
    "def create_model_params():\n",
    "    def find_a(params, x_start):\n",
    "        params[0][\"a\"] = x_start\n",
    "        for i, param in enumerate(params):\n",
    "            if i < len(params) - 1:\n",
    "                a_next = param[\"a\"] + (param[\"to\"] - param[\"from\"]) * param[\"b\"]\n",
    "                params[i + 1][\"a\"] = a_next\n",
    "\n",
    "    params = [{\"b\":10, \"from\": 0., \"to\": 5.},\n",
    "              {\"b\":-10, \"from\": 5., \"to\": 10.},\n",
    "              {\"b\":0. , \"from\": 10., \"to\": 100}]\n",
    "\n",
    "    x_start = -25.\n",
    "    find_a(params, x_start)\n",
    "    return params\n",
    "\n",
    "\n",
    "def generate_samples(N):\n",
    "    eps = 1e-05\n",
    "    x1 = np.random.uniform(0., 5, size=int(N / 3))\n",
    "    x2 = np.random.uniform(5, 10, size=int(N / 3))\n",
    "    x3 = np.random.uniform(10, 99, size=int(N / 3))\n",
    "    x = np.expand_dims(np.concatenate((np.array([0.0]), x1, x2, x3, np.array([100-eps]))), axis=-1)\n",
    "    return x\n"
   ]
  },
  {
   "cell_type": "code",
   "execution_count": 4,
   "id": "eb3868d3",
   "metadata": {},
   "outputs": [],
   "source": [
    "N = 5000\n",
    "noise_level = 3.\n",
    "K_max_fixed = 50\n",
    "K_max_var = 50\n",
    "min_points_per_bin = 10"
   ]
  },
  {
   "cell_type": "code",
   "execution_count": 5,
   "id": "74cafed9",
   "metadata": {},
   "outputs": [],
   "source": [
    "# set seed\n",
    "seed = 4834545\n",
    "np.random.seed(seed)\n",
    "\n",
    "# define functions\n",
    "model_params = create_model_params()\n",
    "model = utils.create_model(model_params)\n",
    "model_jac = utils.create_noisy_jacobian(model_params, noise_level, seed)\n",
    "\n",
    "# generate data and data effect\n",
    "data = generate_samples(N=N)\n",
    "y = model(data)\n",
    "data_effect = model_jac(data)"
   ]
  },
  {
   "cell_type": "markdown",
   "id": "327e4767",
   "metadata": {},
   "source": [
    "# DALE fixed-size interactive"
   ]
  },
  {
   "cell_type": "code",
   "execution_count": 6,
   "id": "75f9a981",
   "metadata": {},
   "outputs": [
    {
     "data": {
      "application/vnd.jupyter.widget-view+json": {
       "model_id": "251cf02ebe44497b8ae36d7aa29ed076",
       "version_major": 2,
       "version_minor": 0
      },
      "text/plain": [
       "interactive(children=(IntSlider(value=50, description='bins', min=1), Output(layout=Layout(height='400px'))), …"
      ]
     },
     "metadata": {},
     "output_type": "display_data"
    }
   ],
   "source": [
    "dale = fe.DALE(data=data, model=model, model_jac=model_jac)\n",
    "def plot(bins):\n",
    "    dale.fit(features=[0], alg_params={\"nof_bins\": bins})\n",
    "    dale.plot(s=0, block=False, gt=model)\n",
    "    plt.show()\n",
    "\n",
    "dale_plot = widgets.interactive(plot, bins=(1, 100, 1))\n",
    "dale_output = dale_plot.children[-1]\n",
    "dale_output.layout.height = '400px'\n",
    "dale_plot"
   ]
  },
  {
   "cell_type": "markdown",
   "id": "21a765e4",
   "metadata": {},
   "source": [
    "# DALE variable-size interactive"
   ]
  },
  {
   "cell_type": "code",
   "execution_count": 7,
   "id": "50a832f2",
   "metadata": {},
   "outputs": [
    {
     "data": {
      "application/vnd.jupyter.widget-view+json": {
       "model_id": "28a358d24fd948668603705f4b2905f1",
       "version_major": 2,
       "version_minor": 0
      },
      "text/plain": [
       "interactive(children=(IntSlider(value=33, description='bins', max=66, min=1), Output(layout=Layout(height='120…"
      ]
     },
     "metadata": {},
     "output_type": "display_data"
    }
   ],
   "source": [
    "dale = fe.DALE(data=data, model=model, model_jac=model_jac)\n",
    "gt_bins = utils.create_gt_bins(model_params)\n",
    "def plot(bins):\n",
    "    dale.fit(features=[0], alg_params={\"max_nof_bins\": bins}, method = \"variable-size\")\n",
    "    # dale.plot(s=0, block=False, gt=model)\n",
    "    \n",
    "    lims = dale.dale_params[\"feature_0\"][\"limits\"]\n",
    "    positions = [(lims[i] + (lims[i+1] - lims[i])/2) for i in range(len(lims) - 1)]\n",
    "    dx = [lims[i+1]-lims[i] for i in range(len(lims) - 1)]\n",
    "    height = dale.dale_params[\"feature_0\"][\"bin_effect\"]\n",
    "    plt.bar(x=positions, height=height, width=dx, color=(0.1, 0.1, 0.1, 0.1), edgecolor='blue', label=\"bin estimation\")\n",
    "\n",
    "    \n",
    "    lims = gt_bins[\"limits\"]\n",
    "    positions = [(lims[i] + (lims[i+1] - lims[i])/2) for i in range(len(lims) - 1)]\n",
    "    height = gt_bins[\"height\"]\n",
    "    dx = [lims[i+1]-lims[i] for i in range(len(lims) - 1)]\n",
    "    plt.bar(x=positions, height=height, width=dx, color=(0.1, 0.1, 0.1, 0.1), edgecolor='red', label=\"bin gt\")\n",
    "    \n",
    "    plt.legend()\n",
    "    plt.show()\n",
    "    \n",
    "    dale.plot(s=0, block=False, gt=model)\n",
    "\n",
    "dale_plot = widgets.interactive(plot, bins=(1, 66, 1))\n",
    "dale_output = dale_plot.children[-1]\n",
    "dale_output.layout.height = '1200px'\n",
    "dale_plot"
   ]
  },
  {
   "cell_type": "code",
   "execution_count": 8,
   "id": "4915d34f",
   "metadata": {},
   "outputs": [
    {
     "ename": "AttributeError",
     "evalue": "module 'examples.example_utils' has no attribute 'count_loss_mse'",
     "output_type": "error",
     "traceback": [
      "\u001b[0;31m---------------------------------------------------------------------------\u001b[0m",
      "\u001b[0;31mAttributeError\u001b[0m                            Traceback (most recent call last)",
      "Input \u001b[0;32mIn [8]\u001b[0m, in \u001b[0;36m<cell line: 1>\u001b[0;34m()\u001b[0m\n\u001b[0;32m----> 1\u001b[0m k_list_fixed, mse_fixed, loss_fixed, dale_fixed \u001b[38;5;241m=\u001b[39m \u001b[43mutils\u001b[49m\u001b[38;5;241;43m.\u001b[39;49m\u001b[43mcount_loss_mse\u001b[49m(K_max_fixed, model, data, model, model_jac,\n\u001b[1;32m      2\u001b[0m                                                                        min_points_per_bin, method\u001b[38;5;241m=\u001b[39m\u001b[38;5;124m\"\u001b[39m\u001b[38;5;124mfixed-size\u001b[39m\u001b[38;5;124m\"\u001b[39m)\n\u001b[1;32m      3\u001b[0m k_list_var, mse_var, loss_var, dale_var \u001b[38;5;241m=\u001b[39m utils\u001b[38;5;241m.\u001b[39mcount_loss_mse(K_max_var, model, data, model, model_jac,\n\u001b[1;32m      4\u001b[0m                                                                min_points_per_bin, method\u001b[38;5;241m=\u001b[39m\u001b[38;5;124m\"\u001b[39m\u001b[38;5;124mvariable-size\u001b[39m\u001b[38;5;124m\"\u001b[39m)\n",
      "\u001b[0;31mAttributeError\u001b[0m: module 'examples.example_utils' has no attribute 'count_loss_mse'"
     ]
    }
   ],
   "source": [
    "k_list_fixed, mse_fixed, loss_fixed, dale_fixed = utils.count_loss_mse(K_max_fixed, model, data, model, model_jac,\n",
    "                                                                       min_points_per_bin, method=\"fixed-size\")\n",
    "k_list_var, mse_var, loss_var, dale_var = utils.count_loss_mse(K_max_var, model, data, model, model_jac,\n",
    "                                                               min_points_per_bin, method=\"variable-size\")"
   ]
  },
  {
   "cell_type": "code",
   "execution_count": null,
   "id": "122dc16b",
   "metadata": {},
   "outputs": [],
   "source": [
    "# plot\n",
    "plt.figure()\n",
    "plt.title(\"Loss vs K\")\n",
    "plt.plot(k_list_fixed, loss_fixed, \"bo-\", label=\"fixed size\")\n",
    "plt.legend()\n",
    "plt.show(block=False)\n",
    "\n",
    "plt.figure()\n",
    "plt.title(\"Loss vs K\")\n",
    "plt.plot(k_list_var, loss_var, \"ro-\", label=\"variable size\")\n",
    "plt.legend()\n",
    "plt.show(block=False)\n"
   ]
  },
  {
   "cell_type": "code",
   "execution_count": null,
   "id": "215f621e",
   "metadata": {},
   "outputs": [],
   "source": [
    "# plot best fixed solution\n",
    "best_fixed = np.nanargmin(loss_fixed)\n",
    "dale_fixed[best_fixed].plot(s=0,\n",
    "                            gt=model,\n",
    "                            gt_bins=utils.create_gt_bins(f_params),\n",
    "                            block=False)\n"
   ]
  },
  {
   "cell_type": "code",
   "execution_count": null,
   "id": "df74da6a",
   "metadata": {},
   "outputs": [],
   "source": [
    "# plot best variable size solution\n",
    "best_var = np.nanargmin(loss_var)\n",
    "dale_var[best_var].plot(s=0,\n",
    "                        gt=model,\n",
    "                        gt_bins=utils.create_gt_bins(f_params),\n",
    "                        block=False)\n"
   ]
  },
  {
   "cell_type": "markdown",
   "id": "eaca04e7",
   "metadata": {},
   "source": [
    "# DALE fixed-size: best solution based on auto algorithm"
   ]
  },
  {
   "cell_type": "code",
   "execution_count": null,
   "id": "93545807",
   "metadata": {},
   "outputs": [],
   "source": [
    "best_fixed = np.nanargmin(loss_fixed)\n",
    "print(\"===========================================\")\n",
    "print(\"Best K is: %2d, with loss=%.3f\" % (best_fixed+1, loss_fixed[best_fixed]))\n",
    "\n",
    "print(\"===========================================\")\n",
    "print(\"Dx is: %.3f\" %(dale_fixed[best_fixed].dale_params[\"feature_0\"][\"dx\"]))\n",
    "\n",
    "print(\"===========================================\")\n",
    "print(\"Effect per bin is:\")\n",
    "print(dale_fixed[best_fixed].dale_params[\"feature_0\"][\"bin_effect\"])\n",
    "\n",
    "print(\"===========================================\")\n",
    "print(\"Loss per K:\")\n",
    "for i, k in enumerate(k_list_fixed):\n",
    "    print(\"Fixed-size k= %d, loss=%.3f\" % (k, loss_fixed[i]))"
   ]
  },
  {
   "cell_type": "markdown",
   "id": "7431df88",
   "metadata": {},
   "source": [
    "# DALE variable-size: best solution based on auto algorithm"
   ]
  },
  {
   "cell_type": "code",
   "execution_count": null,
   "id": "1d70908b",
   "metadata": {},
   "outputs": [],
   "source": [
    "best_var = np.nanargmin(loss_var)\n",
    "print(\"===========================================\")\n",
    "print(\"Best K is: %2d, with loss=%.3f\" % (best_var+1, loss_var[best_var]))\n",
    "\n",
    "print(\"===========================================\")\n",
    "print(\"Bin limits are:\")\n",
    "print(dale_var[best_var].dale_params[\"feature_0\"][\"limits\"])\n",
    "\n",
    "print(\"===========================================\")\n",
    "print(\"Effect per bin is:\")\n",
    "print(dale_var[best_var].dale_params[\"feature_0\"][\"bin_effect\"])\n",
    "\n",
    "print(\"===========================================\")\n",
    "print(\"Loss per K:\")\n",
    "for i, k in enumerate(k_list_var):\n",
    "    print(\"Fixed-size k= %d, loss=%.3f\" % (k, loss_var[i]))"
   ]
  },
  {
   "cell_type": "code",
   "execution_count": null,
   "id": "3d5bc41a",
   "metadata": {},
   "outputs": [],
   "source": []
  },
  {
   "cell_type": "code",
   "execution_count": null,
   "id": "5d4444a8",
   "metadata": {},
   "outputs": [],
   "source": []
  },
  {
   "cell_type": "code",
   "execution_count": null,
   "id": "d7a09c0c",
   "metadata": {},
   "outputs": [],
   "source": []
  }
 ],
 "metadata": {
  "kernelspec": {
   "display_name": "Python 3 (ipykernel)",
   "language": "python",
   "name": "python3"
  },
  "language_info": {
   "codemirror_mode": {
    "name": "ipython",
    "version": 3
   },
   "file_extension": ".py",
   "mimetype": "text/x-python",
   "name": "python",
   "nbconvert_exporter": "python",
   "pygments_lexer": "ipython3",
   "version": "3.9.5"
  }
 },
 "nbformat": 4,
 "nbformat_minor": 5
}
