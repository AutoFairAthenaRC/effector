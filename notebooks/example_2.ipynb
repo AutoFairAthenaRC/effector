{
 "cells": [
  {
   "cell_type": "markdown",
   "id": "38782cc6",
   "metadata": {},
   "source": [
    "## Feature effect with piecewise-linear parts of different size\n",
    "\n",
    "#### Goal\n",
    "* Show that if feature effect contains both high and low resolution parts, fixed-bin size approaches fail.\n",
    "  - If we choose a small K(=nof bins) => small bin size, then bin effect is very noisy (interpolation is erroneous)\n",
    "  - If we choose a big K => large bin width, then we loose all high-resolution artifacts\n",
    "* Show that variable-bin size can create the bins correctly\n",
    "\n"
   ]
  },
  {
   "cell_type": "code",
   "execution_count": 1,
   "id": "4f616a72",
   "metadata": {},
   "outputs": [],
   "source": [
    "import sys\n",
    "import os\n",
    "sys.path.insert(0, os.path.abspath('..'))\n",
    "import matplotlib.pyplot as plt\n",
    "import ipywidgets as widgets\n",
    "plt.rcParams[\"figure.figsize\"] = (10,6)"
   ]
  },
  {
   "cell_type": "code",
   "execution_count": 2,
   "id": "b4ee2b42",
   "metadata": {},
   "outputs": [],
   "source": [
    "import numpy as np\n",
    "import examples.example_utils as utils\n",
    "import feature_effect as fe"
   ]
  },
  {
   "cell_type": "code",
   "execution_count": 3,
   "id": "b8539a4a",
   "metadata": {},
   "outputs": [],
   "source": [
    "def f_params():\n",
    "    def find_a(params, x_start):\n",
    "        params[0][\"a\"] = x_start\n",
    "        for i, param in enumerate(params):\n",
    "            if i < len(params) - 1:\n",
    "                a_next = param[\"a\"] + (param[\"to\"] - param[\"from\"]) * param[\"b\"]\n",
    "                params[i + 1][\"a\"] = a_next\n",
    "\n",
    "    params = [{\"b\":10, \"from\": 0., \"to\": 5.},\n",
    "              {\"b\":-10, \"from\": 5., \"to\": 10.},\n",
    "              {\"b\":0. , \"from\": 10., \"to\": 100}]\n",
    "\n",
    "    x_start = -25.\n",
    "    find_a(params, x_start)\n",
    "    return params\n",
    "\n",
    "\n",
    "# generate samples\n",
    "def generate_samples(N):\n",
    "    eps = 1e-05\n",
    "    x1 = np.random.uniform(0., 5, size=int(N / 3))\n",
    "    x2 = np.random.uniform(5, 10, size=int(N / 3))\n",
    "    x3 = np.random.uniform(10, 99, size=int(N / 3))\n",
    "    x = np.expand_dims(np.concatenate((np.array([0.0]), x1, x2, x3, np.array([100-eps]))), axis=-1)\n",
    "    return x"
   ]
  },
  {
   "cell_type": "code",
   "execution_count": 4,
   "id": "eb3868d3",
   "metadata": {},
   "outputs": [],
   "source": [
    "N = 5000\n",
    "noise_level = 3.\n",
    "K_max_fixed = 50\n",
    "K_max_var = 50\n",
    "min_points_per_bin = 10"
   ]
  },
  {
   "cell_type": "code",
   "execution_count": 5,
   "id": "74cafed9",
   "metadata": {},
   "outputs": [],
   "source": [
    "# init functions\n",
    "seed = 4834545\n",
    "np.random.seed(seed)\n",
    "\n",
    "model = utils.create_f1_center(f_params)\n",
    "model_jac = utils.create_data_effect(f_params, noise_level, seed)\n",
    "data = generate_samples(N=N)\n",
    "y = model(data)\n",
    "data_effect = model_jac(data)"
   ]
  },
  {
   "cell_type": "markdown",
   "id": "327e4767",
   "metadata": {},
   "source": [
    "# DALE fixed-size interactive"
   ]
  },
  {
   "cell_type": "code",
   "execution_count": 6,
   "id": "75f9a981",
   "metadata": {},
   "outputs": [
    {
     "data": {
      "application/vnd.jupyter.widget-view+json": {
       "model_id": "b22a06514cce4ec2b1b983ccafd1568e",
       "version_major": 2,
       "version_minor": 0
      },
      "text/plain": [
       "interactive(children=(IntSlider(value=50, description='bins', min=1), Output(layout=Layout(height='400px'))), …"
      ]
     },
     "metadata": {},
     "output_type": "display_data"
    }
   ],
   "source": [
    "dale = fe.DALE(data=data, model=model, model_jac=model_jac)\n",
    "def plot(bins):\n",
    "    dale.fit(features=[0], alg_params={\"nof_bins\": bins})\n",
    "    dale.plot(s=0, block=False, gt=model)\n",
    "    plt.show()\n",
    "\n",
    "dale_plot = widgets.interactive(plot, bins=(1, 100, 1))\n",
    "dale_output = dale_plot.children[-1]\n",
    "dale_output.layout.height = '400px'\n",
    "dale_plot"
   ]
  },
  {
   "cell_type": "markdown",
   "id": "21a765e4",
   "metadata": {},
   "source": [
    "# DALE variable-size interactive"
   ]
  },
  {
   "cell_type": "code",
   "execution_count": 7,
   "id": "50a832f2",
   "metadata": {},
   "outputs": [
    {
     "data": {
      "application/vnd.jupyter.widget-view+json": {
       "model_id": "8775565d442b452586667fdff23d7702",
       "version_major": 2,
       "version_minor": 0
      },
      "text/plain": [
       "interactive(children=(IntSlider(value=33, description='bins', max=66, min=1), Output(layout=Layout(height='400…"
      ]
     },
     "metadata": {},
     "output_type": "display_data"
    }
   ],
   "source": [
    "dale = fe.DALE(data=data, model=model, model_jac=model_jac)\n",
    "gt_bins = utils.create_gt_bins(f_params)\n",
    "def plot(bins):\n",
    "    dale.fit(features=[0], alg_params={\"max_nof_bins\": bins}, method = \"variable-size\")\n",
    "    # dale.plot(s=0, block=False, gt=model)\n",
    "    \n",
    "    lims = dale.dale_params[\"feature_0\"][\"limits\"]\n",
    "    positions = [(lims[i] + (lims[i+1] - lims[i])/2) for i in range(len(lims) - 1)]\n",
    "    dx = [lims[i+1]-lims[i] for i in range(len(lims) - 1)]\n",
    "    height = dale.dale_params[\"feature_0\"][\"bin_effect\"]\n",
    "    plt.bar(x=positions, height=height, width=dx, color=(0.1, 0.1, 0.1, 0.1), edgecolor='blue', label=\"bin estimation\")\n",
    "\n",
    "    \n",
    "    lims = gt_bins[\"limits\"]\n",
    "    positions = [(lims[i] + (lims[i+1] - lims[i])/2) for i in range(len(lims) - 1)]\n",
    "    height = gt_bins[\"height\"]\n",
    "    dx = [lims[i+1]-lims[i] for i in range(len(lims) - 1)]\n",
    "    plt.bar(x=positions, height=height, width=dx, color=(0.1, 0.1, 0.1, 0.1), edgecolor='red', label=\"bin gt\")\n",
    "    \n",
    "    plt.legend()\n",
    "    plt.show()\n",
    "\n",
    "dale_plot = widgets.interactive(plot, bins=(1, 66, 1))\n",
    "dale_output = dale_plot.children[-1]\n",
    "dale_output.layout.height = '400px'\n",
    "dale_plot"
   ]
  },
  {
   "cell_type": "code",
   "execution_count": 8,
   "id": "4915d34f",
   "metadata": {},
   "outputs": [],
   "source": [
    "k_list_fixed, mse_fixed, loss_fixed, dale_fixed = utils.count_loss_mse(K_max_fixed, model, data, model, model_jac,\n",
    "                                                                       min_points_per_bin, method=\"fixed-size\")\n",
    "k_list_var, mse_var, loss_var, dale_var = utils.count_loss_mse(K_max_var, model, data, model, model_jac,\n",
    "                                                               min_points_per_bin, method=\"variable-size\")"
   ]
  },
  {
   "cell_type": "code",
   "execution_count": 9,
   "id": "122dc16b",
   "metadata": {},
   "outputs": [
    {
     "data": {
      "image/png": "[encoded data removed]",
      "text/plain": [
       "<Figure size 720x432 with 1 Axes>"
      ]
     },
     "metadata": {
      "needs_background": "light"
     },
     "output_type": "display_data"
    },
    {
     "data": {
      "image/png": "[encoded data removed]",
      "text/plain": [
       "<Figure size 720x432 with 1 Axes>"
      ]
     },
     "metadata": {
      "needs_background": "light"
     },
     "output_type": "display_data"
    }
   ],
   "source": [
    "# plot\n",
    "plt.figure()\n",
    "plt.title(\"Loss vs K\")\n",
    "plt.plot(k_list_fixed, loss_fixed, \"bo-\", label=\"fixed size\")\n",
    "plt.legend()\n",
    "plt.show(block=False)\n",
    "\n",
    "plt.figure()\n",
    "plt.title(\"Loss vs K\")\n",
    "plt.plot(k_list_var, loss_var, \"ro-\", label=\"variable size\")\n",
    "plt.legend()\n",
    "plt.show(block=False)\n"
   ]
  },
  {
   "cell_type": "code",
   "execution_count": 10,
   "id": "215f621e",
   "metadata": {},
   "outputs": [
    {
     "data": {
      "image/png": "[encoded data removed]",
      "text/plain": [
       "<Figure size 720x432 with 2 Axes>"
      ]
     },
     "metadata": {
      "needs_background": "light"
     },
     "output_type": "display_data"
    }
   ],
   "source": [
    "# plot best fixed solution\n",
    "best_fixed = np.nanargmin(loss_fixed)\n",
    "dale_fixed[best_fixed].plot(s=0,\n",
    "                            gt=model,\n",
    "                            gt_bins=utils.create_gt_bins(f_params),\n",
    "                            block=False)\n"
   ]
  },
  {
   "cell_type": "code",
   "execution_count": 11,
   "id": "df74da6a",
   "metadata": {},
   "outputs": [
    {
     "data": {
      "image/png": "[encoded data removed]",
      "text/plain": [
       "<Figure size 720x432 with 2 Axes>"
      ]
     },
     "metadata": {
      "needs_background": "light"
     },
     "output_type": "display_data"
    }
   ],
   "source": [
    "# plot best variable size solution\n",
    "best_var = np.nanargmin(loss_var)\n",
    "dale_var[best_var].plot(s=0,\n",
    "                        gt=model,\n",
    "                        gt_bins=utils.create_gt_bins(f_params),\n",
    "                        block=False)\n"
   ]
  },
  {
   "cell_type": "markdown",
   "id": "eaca04e7",
   "metadata": {},
   "source": [
    "# DALE fixed-size: best solution based on auto algorithm"
   ]
  },
  {
   "cell_type": "code",
   "execution_count": 12,
   "id": "93545807",
   "metadata": {},
   "outputs": [
    {
     "name": "stdout",
     "output_type": "stream",
     "text": [
      "===========================================\n",
      "Best K is:  1, with loss=12.367\n",
      "===========================================\n",
      "Dx is: 100.000\n",
      "===========================================\n",
      "Effect per bin is:\n",
      "[0.02569916]\n",
      "===========================================\n",
      "Loss per K:\n",
      "Fixed-size k= 1, loss=12.367\n",
      "Fixed-size k= 2, loss=12.374\n",
      "Fixed-size k= 3, loss=13.453\n",
      "Fixed-size k= 4, loss=14.634\n",
      "Fixed-size k= 5, loss=15.857\n",
      "Fixed-size k= 6, loss=17.125\n",
      "Fixed-size k= 7, loss=18.289\n",
      "Fixed-size k= 8, loss=19.443\n",
      "Fixed-size k= 9, loss=20.588\n",
      "Fixed-size k= 10, loss=21.724\n",
      "Fixed-size k= 11, loss=22.921\n",
      "Fixed-size k= 12, loss=23.214\n",
      "Fixed-size k= 13, loss=23.805\n",
      "Fixed-size k= 14, loss=24.615\n",
      "Fixed-size k= 15, loss=25.389\n",
      "Fixed-size k= 16, loss=26.122\n",
      "Fixed-size k= 17, loss=26.940\n",
      "Fixed-size k= 18, loss=27.634\n",
      "Fixed-size k= 19, loss=28.274\n",
      "Fixed-size k= 20, loss=28.966\n",
      "Fixed-size k= 21, loss=29.892\n",
      "Fixed-size k= 22, loss=30.300\n",
      "Fixed-size k= 23, loss=31.198\n",
      "Fixed-size k= 24, loss=31.606\n",
      "Fixed-size k= 25, loss=32.465\n",
      "Fixed-size k= 26, loss=33.255\n",
      "Fixed-size k= 27, loss=33.815\n",
      "Fixed-size k= 28, loss=34.654\n",
      "Fixed-size k= 29, loss=35.107\n",
      "Fixed-size k= 30, loss=36.227\n",
      "Fixed-size k= 31, loss=36.568\n",
      "Fixed-size k= 32, loss=36.681\n",
      "Fixed-size k= 33, loss=37.177\n",
      "Fixed-size k= 34, loss=37.680\n",
      "Fixed-size k= 35, loss=38.039\n",
      "Fixed-size k= 36, loss=38.827\n",
      "Fixed-size k= 37, loss=38.981\n",
      "Fixed-size k= 38, loss=39.835\n",
      "Fixed-size k= 39, loss=40.200\n",
      "Fixed-size k= 40, loss=40.765\n",
      "Fixed-size k= 41, loss=41.252\n",
      "Fixed-size k= 42, loss=41.624\n",
      "Fixed-size k= 43, loss=41.815\n",
      "Fixed-size k= 44, loss=42.670\n",
      "Fixed-size k= 45, loss=43.145\n",
      "Fixed-size k= 46, loss=43.737\n",
      "Fixed-size k= 47, loss=44.382\n",
      "Fixed-size k= 48, loss=44.770\n",
      "Fixed-size k= 49, loss=45.145\n",
      "Fixed-size k= 50, loss=46.059\n"
     ]
    }
   ],
   "source": [
    "best_fixed = np.nanargmin(loss_fixed)\n",
    "print(\"===========================================\")\n",
    "print(\"Best K is: %2d, with loss=%.3f\" % (best_fixed+1, loss_fixed[best_fixed]))\n",
    "\n",
    "print(\"===========================================\")\n",
    "print(\"Dx is: %.3f\" %(dale_fixed[best_fixed].dale_params[\"feature_0\"][\"dx\"]))\n",
    "\n",
    "print(\"===========================================\")\n",
    "print(\"Effect per bin is:\")\n",
    "print(dale_fixed[best_fixed].dale_params[\"feature_0\"][\"bin_effect\"])\n",
    "\n",
    "print(\"===========================================\")\n",
    "print(\"Loss per K:\")\n",
    "for i, k in enumerate(k_list_fixed):\n",
    "    print(\"Fixed-size k= %d, loss=%.3f\" % (k, loss_fixed[i]))"
   ]
  },
  {
   "cell_type": "markdown",
   "id": "7431df88",
   "metadata": {},
   "source": [
    "# DALE variable-size: best solution based on auto algorithm"
   ]
  },
  {
   "cell_type": "code",
   "execution_count": 13,
   "id": "1d70908b",
   "metadata": {},
   "outputs": [
    {
     "name": "stdout",
     "output_type": "stream",
     "text": [
      "===========================================\n",
      "Best K is: 20, with loss=7.387\n",
      "===========================================\n",
      "Bin limits are:\n",
      "[ 0.          4.9999995   9.999999   99.99999002]\n",
      "===========================================\n",
      "Effect per bin is:\n",
      "[10.14005531 -9.96226015 -0.10668924]\n",
      "===========================================\n",
      "Loss per K:\n",
      "Fixed-size k= 1, loss=12.367\n",
      "Fixed-size k= 2, loss=12.367\n",
      "Fixed-size k= 3, loss=11.103\n",
      "Fixed-size k= 4, loss=10.237\n",
      "Fixed-size k= 5, loss=9.667\n",
      "Fixed-size k= 6, loss=9.291\n",
      "Fixed-size k= 7, loss=8.980\n",
      "Fixed-size k= 8, loss=8.753\n",
      "Fixed-size k= 9, loss=8.594\n",
      "Fixed-size k= 10, loss=8.465\n",
      "Fixed-size k= 11, loss=9.486\n",
      "Fixed-size k= 12, loss=9.291\n",
      "Fixed-size k= 13, loss=9.021\n",
      "Fixed-size k= 14, loss=8.715\n",
      "Fixed-size k= 15, loss=8.475\n",
      "Fixed-size k= 16, loss=8.266\n",
      "Fixed-size k= 17, loss=8.081\n",
      "Fixed-size k= 18, loss=7.890\n",
      "Fixed-size k= 19, loss=7.682\n",
      "Fixed-size k= 20, loss=7.387\n",
      "Fixed-size k= 21, loss=7.983\n",
      "Fixed-size k= 22, loss=8.131\n",
      "Fixed-size k= 23, loss=8.263\n",
      "Fixed-size k= 24, loss=8.291\n",
      "Fixed-size k= 25, loss=8.317\n",
      "Fixed-size k= 26, loss=8.319\n",
      "Fixed-size k= 27, loss=8.307\n",
      "Fixed-size k= 28, loss=8.283\n",
      "Fixed-size k= 29, loss=8.259\n",
      "Fixed-size k= 30, loss=8.239\n",
      "Fixed-size k= 31, loss=8.389\n",
      "Fixed-size k= 32, loss=8.266\n",
      "Fixed-size k= 33, loss=8.172\n",
      "Fixed-size k= 34, loss=8.081\n",
      "Fixed-size k= 35, loss=7.995\n",
      "Fixed-size k= 36, loss=7.890\n",
      "Fixed-size k= 37, loss=7.772\n",
      "Fixed-size k= 38, loss=7.682\n",
      "Fixed-size k= 39, loss=7.581\n",
      "Fixed-size k= 40, loss=7.387\n",
      "Fixed-size k= 41, loss=7.687\n",
      "Fixed-size k= 42, loss=7.775\n",
      "Fixed-size k= 43, loss=7.843\n",
      "Fixed-size k= 44, loss=7.919\n",
      "Fixed-size k= 45, loss=7.968\n",
      "Fixed-size k= 46, loss=8.005\n",
      "Fixed-size k= 47, loss=8.027\n",
      "Fixed-size k= 48, loss=8.043\n",
      "Fixed-size k= 49, loss=8.047\n",
      "Fixed-size k= 50, loss=8.042\n"
     ]
    }
   ],
   "source": [
    "best_var = np.nanargmin(loss_var)\n",
    "print(\"===========================================\")\n",
    "print(\"Best K is: %2d, with loss=%.3f\" % (best_var+1, loss_var[best_var]))\n",
    "\n",
    "print(\"===========================================\")\n",
    "print(\"Bin limits are:\")\n",
    "print(dale_var[best_var].dale_params[\"feature_0\"][\"limits\"])\n",
    "\n",
    "print(\"===========================================\")\n",
    "print(\"Effect per bin is:\")\n",
    "print(dale_var[best_var].dale_params[\"feature_0\"][\"bin_effect\"])\n",
    "\n",
    "print(\"===========================================\")\n",
    "print(\"Loss per K:\")\n",
    "for i, k in enumerate(k_list_var):\n",
    "    print(\"Fixed-size k= %d, loss=%.3f\" % (k, loss_var[i]))"
   ]
  },
  {
   "cell_type": "code",
   "execution_count": null,
   "id": "3d5bc41a",
   "metadata": {},
   "outputs": [],
   "source": []
  },
  {
   "cell_type": "code",
   "execution_count": null,
   "id": "5d4444a8",
   "metadata": {},
   "outputs": [],
   "source": []
  },
  {
   "cell_type": "code",
   "execution_count": null,
   "id": "d7a09c0c",
   "metadata": {},
   "outputs": [],
   "source": []
  }
 ],
 "metadata": {
  "kernelspec": {
   "display_name": "Python 3 (ipykernel)",
   "language": "python",
   "name": "python3"
  },
  "language_info": {
   "codemirror_mode": {
    "name": "ipython",
    "version": 3
   },
   "file_extension": ".py",
   "mimetype": "text/x-python",
   "name": "python",
   "nbconvert_exporter": "python",
   "pygments_lexer": "ipython3",
   "version": "3.9.5"
  }
 },
 "nbformat": 4,
 "nbformat_minor": 5
}
