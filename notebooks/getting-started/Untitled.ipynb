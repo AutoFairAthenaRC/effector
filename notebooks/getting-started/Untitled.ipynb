{
 "cells": [
  {
   "cell_type": "markdown",
   "id": "ac8ef43f-c75d-484b-9fee-b8cf0ced5c07",
   "metadata": {},
   "source": [
    "# A short introduction to effector's API"
   ]
  },
  {
   "cell_type": "markdown",
   "id": "dd551d77-2073-4c65-8de4-d0912b4162d3",
   "metadata": {},
   "source": [
    "Effector is based on the idea of progressive disclosure of complexity; it starts simple but if you need more flexibility you can ask it.\n",
    "In this way all methods can run as single line commands:\n",
    "\n",
    "\n"
   ]
  },
  {
   "cell_type": "code",
   "execution_count": null,
   "id": "fb09db80-9c00-4f4b-8765-1a64e82eb0bd",
   "metadata": {},
   "outputs": [],
   "source": []
  }
 ],
 "metadata": {
  "kernelspec": {
   "display_name": "Python 3 (ipykernel)",
   "language": "python",
   "name": "python3"
  },
  "language_info": {
   "codemirror_mode": {
    "name": "ipython",
    "version": 3
   },
   "file_extension": ".py",
   "mimetype": "text/x-python",
   "name": "python",
   "nbconvert_exporter": "python",
   "pygments_lexer": "ipython3",
   "version": "3.10.15"
  }
 },
 "nbformat": 4,
 "nbformat_minor": 5
}
