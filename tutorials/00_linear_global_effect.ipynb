{
 "cells": [
  {
   "cell_type": "markdown",
   "id": "3ddadee84253ec1e",
   "metadata": {},
   "source": [
    "# Explaining a Linear model\n",
    "\n",
    "Wait, wait! The linear model is explainably by design, why do we need to explain it? \n",
    "Well, although there is a debate on whether linear models are explainable or not, for the sake of this tutorial, we will assume they really are.\n",
    "Therefore, we will employ a linear model to demonstrate the various feature effect methods contained within the 'Effector' package, with the goal of gaining an intuitive understanding of the results."
   ]
  },
  {
   "cell_type": "code",
   "execution_count": 1,
   "id": "ba1580e1d0b82881",
   "metadata": {
    "ExecuteTime": {
     "end_time": "2023-10-11T15:14:06.380558945Z",
     "start_time": "2023-10-11T15:14:05.427280346Z"
    }
   },
   "outputs": [],
   "source": [
    "import numpy as np\n",
    "import effector\n",
    "import importlib"
   ]
  },
  {
   "cell_type": "markdown",
   "id": "ab6d992838f9fae1",
   "metadata": {},
   "source": [
    "## Generate a toy dataset\n",
    "\n",
    "We will generate $N=1000$ examples with 3 features each. The features are defined as follows:\n",
    "\n",
    "- $x_1$: a linearly spaced feature between $0$ and $1$, i.e., $x_1 \\sim \\mathcal{U}(0,1)$\n",
    "- $x_2$: a normally distributed feature with mean $x_1$ and standard deviation of $0.01$, i.e., $x_2 \\sim \\mathcal{N}(x_1, 0.01)$\n",
    "- $x_3$: a normally distributed feature with mean $0$ and standard deviation of $1$, i.e., $x_3 \\sim \\mathcal{N}(0, 1)$\n"
   ]
  },
  {
   "cell_type": "code",
   "execution_count": 2,
   "id": "cfa30ffd282cfc58",
   "metadata": {
    "ExecuteTime": {
     "end_time": "2023-10-11T15:14:06.421545717Z",
     "start_time": "2023-10-11T15:14:06.421185264Z"
    }
   },
   "outputs": [],
   "source": [
    "def generate_dataset(N, x1_min, x1_max, x2_sigma, x3_sigma):\n",
    "    x1 = np.concatenate((np.array([x1_min]),\n",
    "                         np.random.uniform(x1_min, x1_max, size=int(N - 2)),\n",
    "                         np.array([x1_max])))\n",
    "    x2 = np.random.normal(loc=x1, scale=x2_sigma)\n",
    "    x3 = np.random.normal(loc=np.zeros_like(x1), scale=x3_sigma)\n",
    "    return np.stack((x1, x2, x3), axis=-1)\n"
   ]
  },
  {
   "cell_type": "code",
   "execution_count": 3,
   "id": "4e1342a6c2ef0853",
   "metadata": {
    "ExecuteTime": {
     "end_time": "2023-10-11T15:14:06.421721358Z",
     "start_time": "2023-10-11T15:14:06.421407008Z"
    }
   },
   "outputs": [],
   "source": [
    "np.random.seed(21)\n",
    "\n",
    "N = 1000\n",
    "x1_min = 0\n",
    "x1_max = 1\n",
    "x2_sigma = .01\n",
    "x3_sigma = 1.\n",
    "\n",
    "X = generate_dataset(N, x1_min, x1_max, x2_sigma, x3_sigma)"
   ]
  },
  {
   "cell_type": "markdown",
   "id": "cfe9cb6f78eafb76",
   "metadata": {},
   "source": [
    "## Define the model\n",
    "\n",
    "As mentioned above, we will use a linear model to demonstrate the various feature effect methods:\n",
    "\n",
    "$$\n",
    "y = 7x_1 - 3x_2 + 4x_3\n",
    "$$\n",
    "\n",
    "In linear models, it is trivial to compute the (ground-truth) effect of each feature; the effect of $x_i$ is simply $\\alpha_i x_i$; the effect of $x_1$ is $7x_1$, of $x_2$ is $-3x_2$, and of $x_3$ is $4x_3$.\n",
    "\n",
    "Therefore, we can cross-check that the feature effect methods are working correctly by comparing the results to the above values.\n",
    "\n",
    "Since some methods require the gradient of the model, we will also define the gradient of the model."
   ]
  },
  {
   "cell_type": "code",
   "execution_count": 4,
   "id": "32d26b443186ec90",
   "metadata": {
    "ExecuteTime": {
     "end_time": "2023-10-11T15:14:06.421809684Z",
     "start_time": "2023-10-11T15:14:06.421481790Z"
    }
   },
   "outputs": [],
   "source": [
    "def predict(x):\n",
    "    y = 7*x[:, 0] - 3*x[:, 1] + 4*x[:, 2]\n",
    "    return y\n",
    "\n",
    "def predict_grad(x):\n",
    "    df_dx1 = 7 * np.ones([x.shape[0]])\n",
    "    df_dx2 = -3 * np.ones([x.shape[0]])\n",
    "    df_dx3 = 4 * np.ones([x.shape[0]])\n",
    "    return np.stack([df_dx1, df_dx2, df_dx3], axis=-1)"
   ]
  },
  {
   "cell_type": "markdown",
   "id": "ad74aaabfe4be343",
   "metadata": {},
   "source": [
    "## Partial Dependence Plot (PDP)\n",
    "\n",
    "The partial dependence plot (PDP) is a method for visualizing the effect of a feature on the model's prediction.\n",
    "The PDP is defined as the average of the model's prediction over the entire dataset, while varying the feature of interest:\n",
    "\n",
    "$$\n",
    "\\text{PDP}(x_i) = \\frac{1}{N} \\sum_{j=1}^N \\hat{y}(x^{(j)}_1, \\dots, x_i, \\dots, x^{(j)}_D)\n",
    "$$\n",
    "\n",
    "where $\\hat{y}$ is the model's prediction, $x_{j,i}$ is the $i$-th feature of the $j$-th example, and $D$ is the number of features."
   ]
  },
  {
   "cell_type": "code",
   "execution_count": 11,
   "id": "79a97be7901aaed0",
   "metadata": {
    "ExecuteTime": {
     "end_time": "2023-10-11T15:18:05.061770228Z",
     "start_time": "2023-10-11T15:18:04.959307458Z"
    }
   },
   "outputs": [
    {
     "data": {
      "text/plain": "<Figure size 432x288 with 1 Axes>",
      "image/png": "[encoded data removed]"
     },
     "metadata": {
      "needs_background": "light"
     },
     "output_type": "display_data"
    }
   ],
   "source": [
    "fig, ax = effector.PDP(data=X, model=predict).plot(feature=0)"
   ]
  },
  {
   "cell_type": "markdown",
   "source": [
    "We can also centerize the PDP plot around the mean of the model's prediction, i.e., $\\text{PDP}(x_i) - \\frac{1}{N} \\sum_{j=1}^N \\hat{y}(x^{(j)}_1, \\dots, x^{(j)}_D)$."
   ],
   "metadata": {
    "collapsed": false
   },
   "id": "a78aecf54f67c51c"
  },
  {
   "cell_type": "code",
   "execution_count": 6,
   "id": "223c9aad7e1e3a8a",
   "metadata": {
    "ExecuteTime": {
     "end_time": "2023-10-11T15:14:07.630942749Z",
     "start_time": "2023-10-11T15:14:06.662772232Z"
    }
   },
   "outputs": [
    {
     "data": {
      "text/plain": "<Figure size 432x288 with 2 Axes>",
      "image/png": "[encoded data removed]"
     },
     "metadata": {
      "needs_background": "light"
     },
     "output_type": "display_data"
    }
   ],
   "source": [
    "effector.RHALE(data=X, model=predict, model_jac=predict_grad).plot(feature=0)"
   ]
  },
  {
   "cell_type": "markdown",
   "id": "2cf86234d0d45a83",
   "metadata": {},
   "source": [
    "### Let's take a further step into effector API\n",
    "\n",
    "As you can see, above the two plots are not identical; PDP plot starts from $y=-1$ and stop at $y=6$, whereas RHALE starts goes from $y=0$ to $y=7$.\n",
    "With a more carefull view, we can see that this is only a mater of shift at the y axis and both lines have the same slope.\n",
    "\n",
    "`Effector` provides a set of parameters to configure such details. For example, setting `centering=True` will make both plots look identical"
   ]
  },
  {
   "cell_type": "code",
   "execution_count": 7,
   "id": "ce0f70651f5d10e1",
   "metadata": {
    "ExecuteTime": {
     "end_time": "2023-10-11T15:14:07.808422608Z",
     "start_time": "2023-10-11T15:14:07.651755730Z"
    }
   },
   "outputs": [
    {
     "data": {
      "text/plain": "<Figure size 432x288 with 1 Axes>",
      "image/png": "[encoded data removed]"
     },
     "metadata": {
      "needs_background": "light"
     },
     "output_type": "display_data"
    },
    {
     "data": {
      "text/plain": "(<Figure size 432x288 with 1 Axes>,\n <AxesSubplot:title={'center':'PDP: feature 1'}, xlabel='x_1', ylabel='y'>)"
     },
     "execution_count": 7,
     "metadata": {},
     "output_type": "execute_result"
    }
   ],
   "source": [
    "effector.PDP(data=X, model=predict).plot(feature=0, centering=True)"
   ]
  },
  {
   "cell_type": "code",
   "execution_count": 8,
   "id": "38590294249ae90b",
   "metadata": {
    "ExecuteTime": {
     "end_time": "2023-10-11T15:14:08.095719010Z",
     "start_time": "2023-10-11T15:14:07.809962805Z"
    }
   },
   "outputs": [
    {
     "data": {
      "text/plain": "<Figure size 432x288 with 2 Axes>",
      "image/png": "[encoded data removed]"
     },
     "metadata": {
      "needs_background": "light"
     },
     "output_type": "display_data"
    }
   ],
   "source": [
    "effector.RHALE(data=X, model=predict, model_jac=predict_grad).plot(feature=0, centering=True)"
   ]
  },
  {
   "cell_type": "markdown",
   "id": "ddc4ba72212ebbbf",
   "metadata": {},
   "source": [
    "# Define a model with interactions"
   ]
  },
  {
   "cell_type": "code",
   "execution_count": 9,
   "id": "2f21097a959eaf26",
   "metadata": {
    "ExecuteTime": {
     "end_time": "2023-10-11T15:14:08.159258086Z",
     "start_time": "2023-10-11T15:14:08.096100505Z"
    }
   },
   "outputs": [],
   "source": [
    "def predict(x):\n",
    "    y = 7*x[:, 0] - 3*x[:, 1] + 4*x[:, 2] + 2*x[:, 0]*x[:, 2]\n",
    "    return y\n",
    "\n",
    "def predict_grad(x):\n",
    "    df_dx1 = 7 + 2*x[:, 2]\n",
    "    df_dx2 = -3 * np.ones([x.shape[0]])\n",
    "    df_dx3 = 4 * np.ones([x.shape[0]]) + 2*x[:, 0]\n",
    "    return np.stack([df_dx1, df_dx2, df_dx3], axis=-1)"
   ]
  },
  {
   "cell_type": "markdown",
   "id": "ba3fd53017056fb6",
   "metadata": {},
   "source": [
    "### PDP and ICE"
   ]
  },
  {
   "cell_type": "code",
   "execution_count": 10,
   "id": "276b7a2d1247a244",
   "metadata": {
    "ExecuteTime": {
     "end_time": "2023-10-11T15:14:08.678923258Z",
     "start_time": "2023-10-11T15:14:08.137398458Z"
    }
   },
   "outputs": [
    {
     "ename": "TypeError",
     "evalue": "plot() got an unexpected keyword argument 'uncertainty'",
     "output_type": "error",
     "traceback": [
      "\u001B[0;31m---------------------------------------------------------------------------\u001B[0m",
      "\u001B[0;31mTypeError\u001B[0m                                 Traceback (most recent call last)",
      "Input \u001B[0;32mIn [10]\u001B[0m, in \u001B[0;36m<cell line: 1>\u001B[0;34m()\u001B[0m\n\u001B[0;32m----> 1\u001B[0m \u001B[43meffector\u001B[49m\u001B[38;5;241;43m.\u001B[39;49m\u001B[43mPDP\u001B[49m\u001B[43m(\u001B[49m\u001B[43mdata\u001B[49m\u001B[38;5;241;43m=\u001B[39;49m\u001B[43mX\u001B[49m\u001B[43m,\u001B[49m\u001B[43m \u001B[49m\u001B[43mmodel\u001B[49m\u001B[38;5;241;43m=\u001B[39;49m\u001B[43mpredict\u001B[49m\u001B[43m)\u001B[49m\u001B[38;5;241;43m.\u001B[39;49m\u001B[43mplot\u001B[49m\u001B[43m(\u001B[49m\u001B[43mfeature\u001B[49m\u001B[38;5;241;43m=\u001B[39;49m\u001B[38;5;241;43m0\u001B[39;49m\u001B[43m,\u001B[49m\u001B[43m \u001B[49m\u001B[43mcentering\u001B[49m\u001B[38;5;241;43m=\u001B[39;49m\u001B[38;5;28;43;01mTrue\u001B[39;49;00m\u001B[43m,\u001B[49m\u001B[43m \u001B[49m\u001B[43muncertainty\u001B[49m\u001B[38;5;241;43m=\u001B[39;49m\u001B[38;5;28;43;01mTrue\u001B[39;49;00m\u001B[43m)\u001B[49m\n",
      "\u001B[0;31mTypeError\u001B[0m: plot() got an unexpected keyword argument 'uncertainty'"
     ]
    }
   ],
   "source": [
    "effector.PDP(data=X, model=predict).plot(feature=0, centering=True, uncertainty=True)"
   ]
  },
  {
   "cell_type": "code",
   "execution_count": null,
   "id": "bb56e1576c7d0fa8",
   "metadata": {
    "ExecuteTime": {
     "start_time": "2023-10-11T15:14:08.681074307Z"
    }
   },
   "outputs": [],
   "source": [
    "effector.RHALE(data=X, model=predict, model_jac=predict_grad).plot(feature=0, uncertainty=True)"
   ]
  },
  {
   "cell_type": "code",
   "execution_count": null,
   "id": "af2d7e1deb98493a",
   "metadata": {
    "ExecuteTime": {
     "start_time": "2023-10-11T15:14:08.682576271Z"
    }
   },
   "outputs": [],
   "source": [
    "rhale = effector.RHALE(data=X, model=predict, model_jac=predict_grad)\n",
    "rhale.fit(features=\"all\")\n",
    "rhale.plot(feature=2, centering=True, uncertainty=True)"
   ]
  },
  {
   "cell_type": "code",
   "execution_count": null,
   "id": "92dae74abed0d640",
   "metadata": {
    "ExecuteTime": {
     "start_time": "2023-10-11T15:14:08.725387026Z"
    }
   },
   "outputs": [],
   "source": [
    "### ICE\n",
    "effector = importlib.reload(effector)\n",
    "pdp_ice = effector.PDPwithICE(data=X, model=predict)\n",
    "pdp_ice.fit(features=\"all\")\n",
    "# pdp_ice.eval(x=np.array([[0.5, 0.5, 0.5]]))\n",
    "pdp_ice.plot(feature=0, centering=True)"
   ]
  },
  {
   "cell_type": "code",
   "execution_count": null,
   "id": "1bbe3abc6187efc9",
   "metadata": {
    "ExecuteTime": {
     "start_time": "2023-10-11T15:14:08.725633791Z"
    }
   },
   "outputs": [],
   "source": [
    "pdp_ice.data[:, 0].max()"
   ]
  },
  {
   "cell_type": "code",
   "execution_count": null,
   "id": "e1f76a6a78307cf",
   "metadata": {
    "ExecuteTime": {
     "start_time": "2023-10-11T15:14:08.725737804Z"
    }
   },
   "outputs": [],
   "source": [
    "pdp_ice.axis_limits"
   ]
  },
  {
   "cell_type": "code",
   "execution_count": null,
   "id": "84470bb50ed80a90",
   "metadata": {
    "ExecuteTime": {
     "end_time": "2023-10-11T15:14:08.738613412Z",
     "start_time": "2023-10-11T15:14:08.725795490Z"
    }
   },
   "outputs": [],
   "source": [
    "pdp_ice.y_ice[2].plot(feature=0, centering=True)"
   ]
  },
  {
   "cell_type": "code",
   "execution_count": null,
   "id": "a7a6c33a7e51946",
   "metadata": {
    "ExecuteTime": {
     "start_time": "2023-10-11T15:14:08.725839879Z"
    }
   },
   "outputs": [],
   "source": [
    "pdp_ice.y_ice[2].data"
   ]
  },
  {
   "cell_type": "code",
   "execution_count": null,
   "id": "a049a3da2ae30537",
   "metadata": {
    "ExecuteTime": {
     "start_time": "2023-10-11T15:14:08.725881911Z"
    }
   },
   "outputs": [],
   "source": [
    "pdp_ice.y_ice[2].eval(feature=0, xs=np.array([0.0, 0.1, 0.2, 0.3]))"
   ]
  },
  {
   "cell_type": "code",
   "execution_count": null,
   "id": "61534e420786a41c",
   "metadata": {
    "ExecuteTime": {
     "start_time": "2023-10-11T15:14:08.725922142Z"
    }
   },
   "outputs": [],
   "source": []
  },
  {
   "cell_type": "code",
   "execution_count": null,
   "id": "244063449d57ecab",
   "metadata": {
    "ExecuteTime": {
     "start_time": "2023-10-11T15:14:08.725963782Z"
    }
   },
   "outputs": [],
   "source": []
  }
 ],
 "metadata": {
  "kernelspec": {
   "display_name": "Python 3 (ipykernel)",
   "language": "python",
   "name": "python3"
  },
  "language_info": {
   "codemirror_mode": {
    "name": "ipython",
    "version": 3
   },
   "file_extension": ".py",
   "mimetype": "text/x-python",
   "name": "python",
   "nbconvert_exporter": "python",
   "pygments_lexer": "ipython3",
   "version": "3.9.18"
  }
 },
 "nbformat": 4,
 "nbformat_minor": 5
}
