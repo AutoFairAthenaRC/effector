{
 "cells": [
  {
   "cell_type": "markdown",
   "source": [
    "# Global Feature Effect"
   ],
   "metadata": {
    "collapsed": false
   },
   "id": "3ddadee84253ec1e"
  },
  {
   "cell_type": "code",
   "execution_count": 1,
   "outputs": [],
   "source": [
    "import numpy as np\n",
    "import effector"
   ],
   "metadata": {
    "collapsed": false,
    "ExecuteTime": {
     "end_time": "2023-09-14T12:44:41.786480340Z",
     "start_time": "2023-09-14T12:44:40.847251532Z"
    }
   },
   "id": "ba1580e1d0b82881"
  },
  {
   "cell_type": "markdown",
   "source": [
    "## Generate a toy dataset"
   ],
   "metadata": {
    "collapsed": false
   },
   "id": "ab6d992838f9fae1"
  },
  {
   "cell_type": "code",
   "execution_count": 2,
   "outputs": [],
   "source": [
    "def generate_dataset(N, x1_min, x1_max, x2_sigma, x3_sigma):\n",
    "    x1 = np.concatenate((np.array([x1_min]),\n",
    "                         np.random.uniform(x1_min, x1_max, size=int(N - 2)),\n",
    "                         np.array([x1_max])))\n",
    "    x2 = np.random.normal(loc=x1, scale=x2_sigma)\n",
    "    x3 = np.random.normal(loc=np.zeros_like(x1), scale=x3_sigma)\n",
    "    return np.stack((x1, x2, x3), axis=-1)\n"
   ],
   "metadata": {
    "collapsed": false,
    "ExecuteTime": {
     "end_time": "2023-09-14T12:44:42.930891634Z",
     "start_time": "2023-09-14T12:44:42.928183036Z"
    }
   },
   "id": "cfa30ffd282cfc58"
  },
  {
   "cell_type": "code",
   "execution_count": 3,
   "outputs": [],
   "source": [
    "np.random.seed(21)\n",
    "\n",
    "N = 1000\n",
    "x1_min = 0\n",
    "x1_max = 1\n",
    "x2_sigma = .01\n",
    "x3_sigma = 1.\n",
    "\n",
    "X = generate_dataset(N, x1_min, x1_max, x2_sigma, x3_sigma)"
   ],
   "metadata": {
    "collapsed": false,
    "ExecuteTime": {
     "end_time": "2023-09-14T12:44:43.645523882Z",
     "start_time": "2023-09-14T12:44:43.634023678Z"
    }
   },
   "id": "4e1342a6c2ef0853"
  },
  {
   "cell_type": "markdown",
   "source": [
    "## Define the model"
   ],
   "metadata": {
    "collapsed": false
   },
   "id": "cfe9cb6f78eafb76"
  },
  {
   "cell_type": "code",
   "execution_count": 4,
   "outputs": [],
   "source": [
    "def predict(x):\n",
    "    y = 7*x[:, 0] - 3*x[:, 1] + 4*x[:, 2]\n",
    "    return y\n",
    "\n",
    "def predict_grad(x):\n",
    "    df_dx1 = 7 * np.ones([x.shape[0]])\n",
    "    df_dx2 = -3 * np.ones([x.shape[0]])\n",
    "    df_dx3 = 4 * np.ones([x.shape[0]])\n",
    "    return np.stack([df_dx1, df_dx2, df_dx3], axis=-1)"
   ],
   "metadata": {
    "collapsed": false,
    "ExecuteTime": {
     "end_time": "2023-09-14T12:44:44.205184699Z",
     "start_time": "2023-09-14T12:44:44.202446859Z"
    }
   },
   "id": "32d26b443186ec90"
  },
  {
   "cell_type": "markdown",
   "source": [
    "## Feature effect plot"
   ],
   "metadata": {
    "collapsed": false
   },
   "id": "ad74aaabfe4be343"
  },
  {
   "cell_type": "code",
   "execution_count": 5,
   "outputs": [
    {
     "data": {
      "text/plain": "<Figure size 432x288 with 1 Axes>",
      "image/png": "[encoded data removed]"
     },
     "metadata": {
      "needs_background": "light"
     },
     "output_type": "display_data"
    }
   ],
   "source": [
    "effector.PDP(data=X, model=predict).plot(feature=0)"
   ],
   "metadata": {
    "collapsed": false,
    "ExecuteTime": {
     "end_time": "2023-09-14T12:44:50.449571328Z",
     "start_time": "2023-09-14T12:44:50.201518217Z"
    }
   },
   "id": "79a97be7901aaed0"
  },
  {
   "cell_type": "code",
   "execution_count": 6,
   "outputs": [
    {
     "data": {
      "text/plain": "<Figure size 432x288 with 2 Axes>",
      "image/png": "[encoded data removed]"
     },
     "metadata": {
      "needs_background": "light"
     },
     "output_type": "display_data"
    }
   ],
   "source": [
    "effector.RHALE(data=X, model=predict, model_jac=predict_grad).plot(feature=0)"
   ],
   "metadata": {
    "collapsed": false,
    "ExecuteTime": {
     "end_time": "2023-09-14T12:44:56.384368760Z",
     "start_time": "2023-09-14T12:44:55.544283785Z"
    }
   },
   "id": "223c9aad7e1e3a8a"
  },
  {
   "cell_type": "markdown",
   "source": [
    "### Let's take a step inside"
   ],
   "metadata": {
    "collapsed": false
   },
   "id": "2cf86234d0d45a83"
  },
  {
   "cell_type": "code",
   "execution_count": null,
   "outputs": [],
   "source": [],
   "metadata": {
    "collapsed": false
   },
   "id": "ce0f70651f5d10e1"
  }
 ],
 "metadata": {
  "kernelspec": {
   "display_name": "Python 3",
   "language": "python",
   "name": "python3"
  },
  "language_info": {
   "codemirror_mode": {
    "name": "ipython",
    "version": 2
   },
   "file_extension": ".py",
   "mimetype": "text/x-python",
   "name": "python",
   "nbconvert_exporter": "python",
   "pygments_lexer": "ipython2",
   "version": "2.7.6"
  }
 },
 "nbformat": 4,
 "nbformat_minor": 5
}
