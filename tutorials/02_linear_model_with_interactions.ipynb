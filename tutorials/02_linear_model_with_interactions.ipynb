{
 "cells": [
  {
   "cell_type": "code",
   "execution_count": null,
   "id": "initial_id",
   "metadata": {
    "collapsed": true
   },
   "outputs": [],
   "source": [
    "# Define a model with interactions\n",
    "def predict(x):\n",
    "    y = 7 * x[:, 0] - 3 * x[:, 1] + 4 * x[:, 2] + 2 * x[:, 0] * x[:, 2]\n",
    "    return y\n",
    "\n",
    "\n",
    "def predict_grad(x):\n",
    "    df_dx1 = 7 + 2 * x[:, 2]\n",
    "    df_dx2 = -3 * np.ones([x.shape[0]])\n",
    "    df_dx3 = 4 * np.ones([x.shape[0]]) + 2 * x[:, 0]\n",
    "    return np.stack([df_dx1, df_dx2, df_dx3], axis=-1)\n",
    "\n",
    "\n",
    "### PDP and ICE\n",
    "effector.PDP(data=X, model=predict).plot(feature=0, centering=True, uncertainty=True)\n",
    "effector.RHALE(data=X, model=predict, model_jac=predict_grad).plot(feature=0, uncertainty=True)\n",
    "rhale = effector.RHALE(data=X, model=predict, model_jac=predict_grad)\n",
    "rhale.fit(features=\"all\")\n",
    "rhale.plot(feature=2, centering=True, uncertainty=True)\n",
    "### ICE\n",
    "effector = importlib.reload(effector)\n",
    "pdp_ice = effector.PDPwithICE(data=X, model=predict)\n",
    "pdp_ice.fit(features=\"all\")\n",
    "# pdp_ice.eval(x=np.array([[0.5, 0.5, 0.5]]))\n",
    "pdp_ice.plot(feature=0, centering=True)\n",
    "pdp_ice.data[:, 0].max()\n",
    "pdp_ice.axis_limits\n",
    "pdp_ice.y_ice[2].plot(feature=0, centering=True)\n",
    "pdp_ice.y_ice[2].data\n",
    "pdp_ice.y_ice[2].eval(feature=0, xs=np.array([0.0, 0.1, 0.2, 0.3]))"
   ]
  }
 ],
 "metadata": {
  "kernelspec": {
   "display_name": "Python 3",
   "language": "python",
   "name": "python3"
  },
  "language_info": {
   "codemirror_mode": {
    "name": "ipython",
    "version": 2
   },
   "file_extension": ".py",
   "mimetype": "text/x-python",
   "name": "python",
   "nbconvert_exporter": "python",
   "pygments_lexer": "ipython2",
   "version": "2.7.6"
  }
 },
 "nbformat": 4,
 "nbformat_minor": 5
}
