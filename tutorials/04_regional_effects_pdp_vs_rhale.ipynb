{
 "cells": [
  {
   "cell_type": "markdown",
   "id": "afe597f9",
   "metadata": {},
   "source": [
    "# Regional Effects Introduction\n",
    "\n",
    "This guide provides a gentle overview of Regional Effect methods and introduces the `Effector` package. Regional Effects serve as a bridge between local and global feature effects. Recently, [REPID](https://proceedings.mlr.press/v151/herbinger22a/herbinger22a.pdf) introduced a method to identify regions within the feature space that minimize feature interactions. Their approach focused on minimizing the interaction-related heterogeneity using ICE curves for a singular feature of interest. This methodology has been expanded to encompass ALE and SHAP Dependence Plots for multiple features of interest through [GADGET](https://arxiv.org/pdf/2306.00541.pdf).\n",
    "\n",
    "In this tutorial, we demonstrate how to leverage `Effector` to pinpoint regions that minimize feature interactions. First, we show how to identify these regions based on ICE curves, as in [REPID](https://proceedings.mlr.press/v151/herbinger22a/herbinger22a.pdf). Then, we illustrate the same procedure based on the heterogeneity of (RH)ALE plots. The former is achieved using the `RegionalPDP` class, while the latter with the `RegionalRHALE` class.\n",
    "\n",
    "Future releases of `Effector` will include support for `RegionalSHAP` and expand the algorithms for multiple features of interest, as demonstrated in [GADGET](https://arxiv.org/pdf/2306.00541.pdf).\n",
    "\n",
    "The tutorial is organized as follows:\n",
    "\n",
    "- Introduction of the simulation example: We explore a simple linear scenario with subgroup-specific feature interactions, defined with both independent and dependent features.\n",
    "- Modeling: We train a neural network on two datasets, one uncorrelated and the other correlated.\n",
    "- PDP: Examining the influence of feature interactions and correlations.\n",
    "- RHALE: Analyzing the impact of feature interactions and correlations.\n",
    "- Regional Effects: Delving into RegionalPDP and RegionalALE.\n",
    "\n"
   ]
  },
  {
   "cell_type": "code",
   "execution_count": 1,
   "id": "dd6ad6c7",
   "metadata": {
    "ExecuteTime": {
     "end_time": "2023-12-13T11:53:24.562812397Z",
     "start_time": "2023-12-13T11:53:21.796364294Z"
    }
   },
   "outputs": [
    {
     "name": "stderr",
     "output_type": "stream",
     "text": [
      "2023-12-18 21:47:32.227454: I external/local_tsl/tsl/cuda/cudart_stub.cc:31] Could not find cuda drivers on your machine, GPU will not be used.\n",
      "2023-12-18 21:47:32.279756: E external/local_xla/xla/stream_executor/cuda/cuda_dnn.cc:9261] Unable to register cuDNN factory: Attempting to register factory for plugin cuDNN when one has already been registered\n",
      "2023-12-18 21:47:32.279817: E external/local_xla/xla/stream_executor/cuda/cuda_fft.cc:607] Unable to register cuFFT factory: Attempting to register factory for plugin cuFFT when one has already been registered\n",
      "2023-12-18 21:47:32.281290: E external/local_xla/xla/stream_executor/cuda/cuda_blas.cc:1515] Unable to register cuBLAS factory: Attempting to register factory for plugin cuBLAS when one has already been registered\n",
      "2023-12-18 21:47:32.290763: I external/local_tsl/tsl/cuda/cudart_stub.cc:31] Could not find cuda drivers on your machine, GPU will not be used.\n",
      "2023-12-18 21:47:32.292741: I tensorflow/core/platform/cpu_feature_guard.cc:182] This TensorFlow binary is optimized to use available CPU instructions in performance-critical operations.\n",
      "To enable the following instructions: AVX2 FMA, in other operations, rebuild TensorFlow with the appropriate compiler flags.\n",
      "2023-12-18 21:47:33.488039: W tensorflow/compiler/tf2tensorrt/utils/py_utils.cc:38] TF-TRT Warning: Could not find TensorRT\n"
     ]
    }
   ],
   "source": [
    "import numpy as np\n",
    "import effector\n",
    "import keras\n",
    "import tensorflow as tf\n",
    "\n",
    "np.random.seed(12345)\n",
    "tf.random.set_seed(12345)"
   ]
  },
  {
   "cell_type": "markdown",
   "id": "ee19cd9c",
   "metadata": {},
   "source": [
    "## Simulation example\n",
    "\n",
    "We will generate $N=500$ examples with $D=3$ features, which are in the uncorrelated setting all uniformly distributed as follows:\n",
    "\n",
    "<center>\n",
    "\n",
    "| Feature | Description                                | Distribution                 |\n",
    "|-------|------------------------------------------|------------------------------|\n",
    "| $x_1$   | Uniformly distributed between $-1$ and $1$ | $x_1 \\sim \\mathcal{U}(-1,1)$ |\n",
    "| $x_2$   | Uniformly distributed between $-1$ and $1$ | $x_2 \\sim \\mathcal{U}(-1,1)$ |\n",
    "| $x_3$   | Uniformly distributed between $-1$ and $1$ | $x_3 \\sim \\mathcal{U}(-1,1)$ |\n",
    "\n",
    "</center>\n",
    "\n",
    "For the correlated setting we keep the distributional assumptions for $x_2$ and $x_3$ but define $x_1$ such that it is highly correlated with $x_3$ by: $x_1 = x_3 + \\delta$ with $\\delta \\sim \\mathcal{N}(0,0.0625)$."
   ]
  },
  {
   "cell_type": "code",
   "execution_count": 2,
   "id": "8e255fbc",
   "metadata": {
    "ExecuteTime": {
     "end_time": "2023-12-13T11:53:24.576114645Z",
     "start_time": "2023-12-13T11:53:24.567358803Z"
    }
   },
   "outputs": [],
   "source": [
    "def generate_dataset_uncorrelated(N):\n",
    "    x1 = np.random.uniform(-1, 1, size=N)\n",
    "    x2 = np.random.uniform(-1, 1, size=N)\n",
    "    x3 = np.random.uniform(-1, 1, size=N)\n",
    "    return np.stack((x1, x2, x3), axis=-1)\n",
    "\n",
    "def generate_dataset_correlated(N):\n",
    "    x3 = np.random.uniform(-1, 1, size=N)\n",
    "    x2 = np.random.uniform(-1, 1, size=N)\n",
    "    x1 = x3 + np.random.normal(loc = np.zeros_like(x3), scale = 0.25)\n",
    "    return np.stack((x1, x2, x3), axis=-1)\n",
    "\n",
    "# generate the dataset for the uncorrelated and correlated setting\n",
    "N = 500\n",
    "X_uncor_train = generate_dataset_uncorrelated(N)\n",
    "X_uncor_test = generate_dataset_uncorrelated(10000)\n",
    "X_cor_train = generate_dataset_correlated(N)\n",
    "X_cor_test = generate_dataset_correlated(10000)"
   ]
  },
  {
   "cell_type": "markdown",
   "id": "83240f12",
   "metadata": {},
   "source": [
    "We will use the following linear model with a subgroup-specific interaction term, $y = 3x_1I_{x_3>0} - 3x_1I_{x_3\\leq0} + x_3 + \\epsilon$ with $\\epsilon \\sim \\mathcal{N}(0, 0.09)$. On a global level, there is a high heterogeneity for the features $x_1$ and $x_3$ due to their interaction with each other. However, this heterogeneity vanishes to 0 if the feature space is separated into two regions with respect to $x_3 = 0$. In this case only main effects remain in the two regions: \n",
    "\n",
    "<center>\n",
    "\n",
    "| Feature |Region | Average Effect | Heterogeneity |\n",
    "| --- | --- | --- |--- |\n",
    "| $x_1$ | $x_3>0$| $3x_1$ | 0 |\n",
    "| $x_1$ | $x_3\\leq 0$| $-3x_1$ | 0 |\n",
    "| $x_3$ | $x_3>0$| $x_3$ | 0 |\n",
    "| $x_3$ | $x_3\\leq 0$| $x_3$ | 0 |\n",
    "\n",
    "</center>\n",
    "\n",
    "Since $x_2$ does not have any influence (neither main nor interaction effect) on the target, the average effect and the heterogeneity of this feature are $0$ (globally and regionally).\n",
    "Note that the average effect of $x_1$ cancels out on a global level and thus only considering the average global effect would suggest no influence of the feature on the target."
   ]
  },
  {
   "cell_type": "code",
   "execution_count": 3,
   "id": "c2311cec-5e58-406c-a50e-4591694caf24",
   "metadata": {
    "ExecuteTime": {
     "end_time": "2023-12-13T11:53:24.579575434Z",
     "start_time": "2023-12-13T11:53:24.575412911Z"
    }
   },
   "outputs": [],
   "source": [
    "def generate_target(X):\n",
    "    f = np.where(X[:,2] > 0, 3*X[:,0] + X[:,2], -3*X[:,0] + X[:,2])\n",
    "    epsilon = np.random.normal(loc = np.zeros_like(X[:,0]), scale = 0.3)\n",
    "    Y = f + epsilon\n",
    "    return(Y)\n",
    "\n",
    "# generate target for uncorrelated and correlated setting\n",
    "Y_uncor_train = generate_target(X_uncor_train)\n",
    "Y_uncor_test = generate_target(X_uncor_test)\n",
    "Y_cor_train = generate_target(X_cor_train)\n",
    "Y_cor_test = generate_target(X_cor_test)      "
   ]
  },
  {
   "cell_type": "markdown",
   "id": "23f48494-f082-4835-867c-c7f6abb55922",
   "metadata": {},
   "source": [
    "## Fit a Neural Network\n",
    "\n",
    "We create a two-layer feedforward Neural Network, a weight decay of 0.01 for 100 epochs. We train two instances of this NN, one on the uncorrelated and one on the correlated setting. In both cases, the NN achieves a Mean Squared Error of about $0.17$ units."
   ]
  },
  {
   "cell_type": "code",
   "execution_count": 4,
   "id": "326d71cfe503784c",
   "metadata": {
    "ExecuteTime": {
     "end_time": "2023-12-13T11:53:29.178194946Z",
     "start_time": "2023-12-13T11:53:24.578652876Z"
    }
   },
   "outputs": [
    {
     "name": "stdout",
     "output_type": "stream",
     "text": [
      "Epoch 1/100\n"
     ]
    },
    {
     "name": "stderr",
     "output_type": "stream",
     "text": [
      "2023-12-18 21:47:34.507540: E external/local_xla/xla/stream_executor/cuda/cuda_driver.cc:274] failed call to cuInit: CUDA_ERROR_NO_DEVICE: no CUDA-capable device is detected\n"
     ]
    },
    {
     "name": "stdout",
     "output_type": "stream",
     "text": [
      "16/16 [==============================] - 1s 4ms/step - loss: 3.0765\n",
      "Epoch 2/100\n",
      "16/16 [==============================] - 0s 1ms/step - loss: 2.3938\n",
      "Epoch 3/100\n",
      "16/16 [==============================] - 0s 2ms/step - loss: 1.8531\n",
      "Epoch 4/100\n",
      "16/16 [==============================] - 0s 1ms/step - loss: 1.5445\n",
      "Epoch 5/100\n",
      "16/16 [==============================] - 0s 4ms/step - loss: 1.1807\n",
      "Epoch 6/100\n",
      "16/16 [==============================] - 0s 1ms/step - loss: 0.8460\n",
      "Epoch 7/100\n",
      "16/16 [==============================] - 0s 1ms/step - loss: 0.5632\n",
      "Epoch 8/100\n",
      "16/16 [==============================] - 0s 2ms/step - loss: 0.4551\n",
      "Epoch 9/100\n",
      "16/16 [==============================] - 0s 1ms/step - loss: 0.4002\n",
      "Epoch 10/100\n",
      "16/16 [==============================] - 0s 3ms/step - loss: 0.3639\n",
      "Epoch 11/100\n",
      "16/16 [==============================] - 0s 998us/step - loss: 0.3397\n",
      "Epoch 12/100\n",
      "16/16 [==============================] - 0s 1ms/step - loss: 0.3221\n",
      "Epoch 13/100\n",
      "16/16 [==============================] - 0s 2ms/step - loss: 0.2901\n",
      "Epoch 14/100\n",
      "16/16 [==============================] - 0s 1ms/step - loss: 0.2887\n",
      "Epoch 15/100\n",
      "16/16 [==============================] - 0s 2ms/step - loss: 0.2869\n",
      "Epoch 16/100\n",
      "16/16 [==============================] - 0s 2ms/step - loss: 0.2675\n",
      "Epoch 17/100\n",
      "16/16 [==============================] - 0s 1ms/step - loss: 0.2680\n",
      "Epoch 18/100\n",
      "16/16 [==============================] - 0s 2ms/step - loss: 0.2626\n",
      "Epoch 19/100\n",
      "16/16 [==============================] - 0s 2ms/step - loss: 0.2624\n",
      "Epoch 20/100\n",
      "16/16 [==============================] - 0s 3ms/step - loss: 0.2483\n",
      "Epoch 21/100\n",
      "16/16 [==============================] - 0s 2ms/step - loss: 0.2471\n",
      "Epoch 22/100\n",
      "16/16 [==============================] - 0s 2ms/step - loss: 0.2544\n",
      "Epoch 23/100\n",
      "16/16 [==============================] - 0s 3ms/step - loss: 0.2524\n",
      "Epoch 24/100\n",
      "16/16 [==============================] - 0s 1ms/step - loss: 0.2421\n",
      "Epoch 25/100\n",
      "16/16 [==============================] - 0s 4ms/step - loss: 0.2375\n",
      "Epoch 26/100\n",
      "16/16 [==============================] - 0s 1ms/step - loss: 0.2241\n",
      "Epoch 27/100\n",
      "16/16 [==============================] - 0s 1ms/step - loss: 0.2164\n",
      "Epoch 28/100\n",
      "16/16 [==============================] - 0s 1ms/step - loss: 0.2284\n",
      "Epoch 29/100\n",
      "16/16 [==============================] - 0s 1ms/step - loss: 0.2231\n",
      "Epoch 30/100\n",
      "16/16 [==============================] - 0s 938us/step - loss: 0.2134\n",
      "Epoch 31/100\n",
      "16/16 [==============================] - 0s 4ms/step - loss: 0.2050\n",
      "Epoch 32/100\n",
      "16/16 [==============================] - 0s 1ms/step - loss: 0.2087\n",
      "Epoch 33/100\n",
      "16/16 [==============================] - 0s 1ms/step - loss: 0.2267\n",
      "Epoch 34/100\n",
      "16/16 [==============================] - 0s 2ms/step - loss: 0.2135\n",
      "Epoch 35/100\n",
      "16/16 [==============================] - 0s 2ms/step - loss: 0.2033\n",
      "Epoch 36/100\n",
      "16/16 [==============================] - 0s 3ms/step - loss: 0.1998\n",
      "Epoch 37/100\n",
      "16/16 [==============================] - 0s 1ms/step - loss: 0.1990\n",
      "Epoch 38/100\n",
      "16/16 [==============================] - 0s 1ms/step - loss: 0.1853\n",
      "Epoch 39/100\n",
      "16/16 [==============================] - 0s 2ms/step - loss: 0.1995\n",
      "Epoch 40/100\n",
      "16/16 [==============================] - 0s 1ms/step - loss: 0.2043\n",
      "Epoch 41/100\n",
      "16/16 [==============================] - 0s 4ms/step - loss: 0.2077\n",
      "Epoch 42/100\n",
      "16/16 [==============================] - 0s 1ms/step - loss: 0.1999\n",
      "Epoch 43/100\n",
      "16/16 [==============================] - 0s 1ms/step - loss: 0.1875\n",
      "Epoch 44/100\n",
      "16/16 [==============================] - 0s 2ms/step - loss: 0.1994\n",
      "Epoch 45/100\n",
      "16/16 [==============================] - 0s 2ms/step - loss: 0.1817\n",
      "Epoch 46/100\n",
      "16/16 [==============================] - 0s 2ms/step - loss: 0.1879\n",
      "Epoch 47/100\n",
      "16/16 [==============================] - 0s 2ms/step - loss: 0.1813\n",
      "Epoch 48/100\n",
      "16/16 [==============================] - 0s 2ms/step - loss: 0.1913\n",
      "Epoch 49/100\n",
      "16/16 [==============================] - 0s 1ms/step - loss: 0.1828\n",
      "Epoch 50/100\n",
      "16/16 [==============================] - 0s 2ms/step - loss: 0.1875\n",
      "Epoch 51/100\n",
      "16/16 [==============================] - 0s 1ms/step - loss: 0.1728\n",
      "Epoch 52/100\n",
      "16/16 [==============================] - 0s 3ms/step - loss: 0.1715\n",
      "Epoch 53/100\n",
      "16/16 [==============================] - 0s 2ms/step - loss: 0.1708\n",
      "Epoch 54/100\n",
      "16/16 [==============================] - 0s 1ms/step - loss: 0.1651\n",
      "Epoch 55/100\n",
      "16/16 [==============================] - 0s 2ms/step - loss: 0.1634\n",
      "Epoch 56/100\n",
      "16/16 [==============================] - 0s 1ms/step - loss: 0.1904\n",
      "Epoch 57/100\n",
      "16/16 [==============================] - 0s 3ms/step - loss: 0.1770\n",
      "Epoch 58/100\n",
      "16/16 [==============================] - 0s 1ms/step - loss: 0.1797\n",
      "Epoch 59/100\n",
      "16/16 [==============================] - 0s 2ms/step - loss: 0.1713\n",
      "Epoch 60/100\n",
      "16/16 [==============================] - 0s 2ms/step - loss: 0.1885\n",
      "Epoch 61/100\n",
      "16/16 [==============================] - 0s 1ms/step - loss: 0.1773\n",
      "Epoch 62/100\n",
      "16/16 [==============================] - 0s 1ms/step - loss: 0.1661\n",
      "Epoch 63/100\n",
      "16/16 [==============================] - 0s 4ms/step - loss: 0.1679\n",
      "Epoch 64/100\n",
      "16/16 [==============================] - 0s 2ms/step - loss: 0.1636\n",
      "Epoch 65/100\n",
      "16/16 [==============================] - 0s 2ms/step - loss: 0.1523\n",
      "Epoch 66/100\n",
      "16/16 [==============================] - 0s 2ms/step - loss: 0.1658\n",
      "Epoch 67/100\n",
      "16/16 [==============================] - 0s 4ms/step - loss: 0.1569\n",
      "Epoch 68/100\n",
      "16/16 [==============================] - 0s 1ms/step - loss: 0.1544\n",
      "Epoch 69/100\n",
      "16/16 [==============================] - 0s 2ms/step - loss: 0.1576\n",
      "Epoch 70/100\n",
      "16/16 [==============================] - 0s 3ms/step - loss: 0.1452\n",
      "Epoch 71/100\n",
      "16/16 [==============================] - 0s 1ms/step - loss: 0.1489\n",
      "Epoch 72/100\n",
      "16/16 [==============================] - 0s 3ms/step - loss: 0.1482\n",
      "Epoch 73/100\n",
      "16/16 [==============================] - 0s 2ms/step - loss: 0.1448\n",
      "Epoch 74/100\n",
      "16/16 [==============================] - 0s 1ms/step - loss: 0.1520\n",
      "Epoch 75/100\n",
      "16/16 [==============================] - 0s 2ms/step - loss: 0.1685\n",
      "Epoch 76/100\n",
      "16/16 [==============================] - 0s 2ms/step - loss: 0.1548\n",
      "Epoch 77/100\n",
      "16/16 [==============================] - 0s 3ms/step - loss: 0.1424\n",
      "Epoch 78/100\n",
      "16/16 [==============================] - 0s 2ms/step - loss: 0.1420\n",
      "Epoch 79/100\n",
      "16/16 [==============================] - 0s 1ms/step - loss: 0.1415\n",
      "Epoch 80/100\n",
      "16/16 [==============================] - 0s 3ms/step - loss: 0.1476\n",
      "Epoch 81/100\n",
      "16/16 [==============================] - 0s 4ms/step - loss: 0.1573\n",
      "Epoch 82/100\n",
      "16/16 [==============================] - 0s 2ms/step - loss: 0.1494\n",
      "Epoch 83/100\n",
      "16/16 [==============================] - 0s 1ms/step - loss: 0.1470\n",
      "Epoch 84/100\n",
      "16/16 [==============================] - 0s 1ms/step - loss: 0.1406\n",
      "Epoch 85/100\n",
      "16/16 [==============================] - 0s 1ms/step - loss: 0.1507\n",
      "Epoch 86/100\n",
      "16/16 [==============================] - 0s 3ms/step - loss: 0.1444\n",
      "Epoch 87/100\n",
      "16/16 [==============================] - 0s 2ms/step - loss: 0.1359\n",
      "Epoch 88/100\n",
      "16/16 [==============================] - 0s 1ms/step - loss: 0.1403\n",
      "Epoch 89/100\n",
      "16/16 [==============================] - 0s 1ms/step - loss: 0.1432\n",
      "Epoch 90/100\n",
      "16/16 [==============================] - 0s 1ms/step - loss: 0.1516\n",
      "Epoch 91/100\n",
      "16/16 [==============================] - 0s 2ms/step - loss: 0.1416\n",
      "Epoch 92/100\n",
      "16/16 [==============================] - 0s 3ms/step - loss: 0.1383\n",
      "Epoch 93/100\n",
      "16/16 [==============================] - 0s 1ms/step - loss: 0.1510\n",
      "Epoch 94/100\n",
      "16/16 [==============================] - 0s 1ms/step - loss: 0.1323\n",
      "Epoch 95/100\n",
      "16/16 [==============================] - 0s 1ms/step - loss: 0.1499\n",
      "Epoch 96/100\n",
      "16/16 [==============================] - 0s 1ms/step - loss: 0.1580\n",
      "Epoch 97/100\n",
      "16/16 [==============================] - 0s 1ms/step - loss: 0.1468\n",
      "Epoch 98/100\n",
      "16/16 [==============================] - 0s 1ms/step - loss: 0.1377\n",
      "Epoch 99/100\n",
      "16/16 [==============================] - 0s 1ms/step - loss: 0.1467\n",
      "Epoch 100/100\n",
      "16/16 [==============================] - 0s 1ms/step - loss: 0.1440\n",
      "313/313 [==============================] - 0s 756us/step - loss: 0.1834\n"
     ]
    },
    {
     "data": {
      "text/plain": [
       "0.18341386318206787"
      ]
     },
     "execution_count": 4,
     "metadata": {},
     "output_type": "execute_result"
    }
   ],
   "source": [
    "# Train - Evaluate - Explain a neural network\n",
    "model_uncor = keras.Sequential([\n",
    "    keras.layers.Dense(10, activation=\"relu\", input_shape=(3,)),\n",
    "    keras.layers.Dense(10, activation=\"relu\", input_shape=(3,)),\n",
    "    keras.layers.Dense(1)\n",
    "])\n",
    "\n",
    "optimizer = keras.optimizers.Adam(learning_rate=0.01)\n",
    "model_uncor.compile(optimizer=optimizer, loss=\"mse\")\n",
    "model_uncor.fit(X_uncor_train, Y_uncor_train, epochs=100)\n",
    "model_uncor.evaluate(X_uncor_test, Y_uncor_test)"
   ]
  },
  {
   "cell_type": "code",
   "execution_count": 5,
   "id": "997c4021",
   "metadata": {
    "ExecuteTime": {
     "end_time": "2023-12-13T11:53:33.528500774Z",
     "start_time": "2023-12-13T11:53:29.172624201Z"
    }
   },
   "outputs": [
    {
     "name": "stdout",
     "output_type": "stream",
     "text": [
      "Epoch 1/100\n",
      "16/16 [==============================] - 1s 4ms/step - loss: 1.8677\n",
      "Epoch 2/100\n",
      "16/16 [==============================] - 0s 3ms/step - loss: 0.6703\n",
      "Epoch 3/100\n",
      "16/16 [==============================] - 0s 4ms/step - loss: 0.3194\n",
      "Epoch 4/100\n",
      "16/16 [==============================] - 0s 5ms/step - loss: 0.2389\n",
      "Epoch 5/100\n",
      "16/16 [==============================] - 0s 2ms/step - loss: 0.2072\n",
      "Epoch 6/100\n",
      "16/16 [==============================] - 0s 4ms/step - loss: 0.2013\n",
      "Epoch 7/100\n",
      "16/16 [==============================] - 0s 3ms/step - loss: 0.1865\n",
      "Epoch 8/100\n",
      "16/16 [==============================] - 0s 3ms/step - loss: 0.1749\n",
      "Epoch 9/100\n",
      "16/16 [==============================] - 0s 2ms/step - loss: 0.1720\n",
      "Epoch 10/100\n",
      "16/16 [==============================] - 0s 3ms/step - loss: 0.1685\n",
      "Epoch 11/100\n",
      "16/16 [==============================] - 0s 4ms/step - loss: 0.1656\n",
      "Epoch 12/100\n",
      "16/16 [==============================] - 0s 2ms/step - loss: 0.1608\n",
      "Epoch 13/100\n",
      "16/16 [==============================] - 0s 3ms/step - loss: 0.1575\n",
      "Epoch 14/100\n",
      "16/16 [==============================] - 0s 3ms/step - loss: 0.1549\n",
      "Epoch 15/100\n",
      "16/16 [==============================] - 0s 4ms/step - loss: 0.1604\n",
      "Epoch 16/100\n",
      "16/16 [==============================] - 0s 3ms/step - loss: 0.1533\n",
      "Epoch 17/100\n",
      "16/16 [==============================] - 0s 5ms/step - loss: 0.1567\n",
      "Epoch 18/100\n",
      "16/16 [==============================] - 0s 5ms/step - loss: 0.1504\n",
      "Epoch 19/100\n",
      "16/16 [==============================] - 0s 3ms/step - loss: 0.1583\n",
      "Epoch 20/100\n",
      "16/16 [==============================] - 0s 3ms/step - loss: 0.1501\n",
      "Epoch 21/100\n",
      "16/16 [==============================] - 0s 5ms/step - loss: 0.1502\n",
      "Epoch 22/100\n",
      "16/16 [==============================] - 0s 3ms/step - loss: 0.1445\n",
      "Epoch 23/100\n",
      "16/16 [==============================] - 0s 3ms/step - loss: 0.1514\n",
      "Epoch 24/100\n",
      "16/16 [==============================] - 0s 4ms/step - loss: 0.1575\n",
      "Epoch 25/100\n",
      "16/16 [==============================] - 0s 2ms/step - loss: 0.1473\n",
      "Epoch 26/100\n",
      "16/16 [==============================] - 0s 3ms/step - loss: 0.1424\n",
      "Epoch 27/100\n",
      "16/16 [==============================] - 0s 2ms/step - loss: 0.1641\n",
      "Epoch 28/100\n",
      "16/16 [==============================] - 0s 4ms/step - loss: 0.1510\n",
      "Epoch 29/100\n",
      "16/16 [==============================] - 0s 3ms/step - loss: 0.1385\n",
      "Epoch 30/100\n",
      "16/16 [==============================] - 0s 3ms/step - loss: 0.1371\n",
      "Epoch 31/100\n",
      "16/16 [==============================] - 0s 3ms/step - loss: 0.1394\n",
      "Epoch 32/100\n",
      "16/16 [==============================] - 0s 4ms/step - loss: 0.1398\n",
      "Epoch 33/100\n",
      "16/16 [==============================] - 0s 5ms/step - loss: 0.1355\n",
      "Epoch 34/100\n",
      "16/16 [==============================] - 0s 3ms/step - loss: 0.1358\n",
      "Epoch 35/100\n",
      "16/16 [==============================] - 0s 4ms/step - loss: 0.1382\n",
      "Epoch 36/100\n",
      "16/16 [==============================] - 0s 4ms/step - loss: 0.1362\n",
      "Epoch 37/100\n",
      "16/16 [==============================] - 0s 3ms/step - loss: 0.1354\n",
      "Epoch 38/100\n",
      "16/16 [==============================] - 0s 4ms/step - loss: 0.1351\n",
      "Epoch 39/100\n",
      "16/16 [==============================] - 0s 2ms/step - loss: 0.1324\n",
      "Epoch 40/100\n",
      "16/16 [==============================] - 0s 4ms/step - loss: 0.1313\n",
      "Epoch 41/100\n",
      "16/16 [==============================] - 0s 2ms/step - loss: 0.1297\n",
      "Epoch 42/100\n",
      "16/16 [==============================] - 0s 3ms/step - loss: 0.1239\n",
      "Epoch 43/100\n",
      "16/16 [==============================] - 0s 3ms/step - loss: 0.1316\n",
      "Epoch 44/100\n",
      "16/16 [==============================] - 0s 3ms/step - loss: 0.1308\n",
      "Epoch 45/100\n",
      "16/16 [==============================] - 0s 3ms/step - loss: 0.1284\n",
      "Epoch 46/100\n",
      "16/16 [==============================] - 0s 2ms/step - loss: 0.1318\n",
      "Epoch 47/100\n",
      "16/16 [==============================] - 0s 3ms/step - loss: 0.1319\n",
      "Epoch 48/100\n",
      "16/16 [==============================] - 0s 2ms/step - loss: 0.1295\n",
      "Epoch 49/100\n",
      "16/16 [==============================] - 0s 5ms/step - loss: 0.1352\n",
      "Epoch 50/100\n",
      "16/16 [==============================] - 0s 2ms/step - loss: 0.1303\n",
      "Epoch 51/100\n",
      "16/16 [==============================] - 0s 3ms/step - loss: 0.1223\n",
      "Epoch 52/100\n",
      "16/16 [==============================] - 0s 4ms/step - loss: 0.1268\n",
      "Epoch 53/100\n",
      "16/16 [==============================] - 0s 3ms/step - loss: 0.1237\n",
      "Epoch 54/100\n",
      "16/16 [==============================] - 0s 5ms/step - loss: 0.1219\n",
      "Epoch 55/100\n",
      "16/16 [==============================] - 0s 3ms/step - loss: 0.1198\n",
      "Epoch 56/100\n",
      "16/16 [==============================] - 0s 3ms/step - loss: 0.1207\n",
      "Epoch 57/100\n",
      "16/16 [==============================] - 0s 3ms/step - loss: 0.1261\n",
      "Epoch 58/100\n",
      "16/16 [==============================] - 0s 4ms/step - loss: 0.1216\n",
      "Epoch 59/100\n",
      "16/16 [==============================] - 0s 4ms/step - loss: 0.1291\n",
      "Epoch 60/100\n",
      "16/16 [==============================] - 0s 2ms/step - loss: 0.1194\n",
      "Epoch 61/100\n",
      "16/16 [==============================] - 0s 4ms/step - loss: 0.1182\n",
      "Epoch 62/100\n",
      "16/16 [==============================] - 0s 3ms/step - loss: 0.1172\n",
      "Epoch 63/100\n",
      "16/16 [==============================] - 0s 2ms/step - loss: 0.1186\n",
      "Epoch 64/100\n",
      "16/16 [==============================] - 0s 2ms/step - loss: 0.1182\n",
      "Epoch 65/100\n",
      "16/16 [==============================] - 0s 3ms/step - loss: 0.1194\n",
      "Epoch 66/100\n",
      "16/16 [==============================] - 0s 3ms/step - loss: 0.1210\n",
      "Epoch 67/100\n",
      "16/16 [==============================] - 0s 3ms/step - loss: 0.1118\n",
      "Epoch 68/100\n",
      "16/16 [==============================] - 0s 4ms/step - loss: 0.1219\n",
      "Epoch 69/100\n",
      "16/16 [==============================] - 0s 2ms/step - loss: 0.1180\n",
      "Epoch 70/100\n",
      "16/16 [==============================] - 0s 4ms/step - loss: 0.1197\n",
      "Epoch 71/100\n",
      "16/16 [==============================] - 0s 3ms/step - loss: 0.1131\n",
      "Epoch 72/100\n",
      "16/16 [==============================] - 0s 3ms/step - loss: 0.1217\n",
      "Epoch 73/100\n",
      "16/16 [==============================] - 0s 4ms/step - loss: 0.1190\n",
      "Epoch 74/100\n",
      "16/16 [==============================] - 0s 3ms/step - loss: 0.1232\n",
      "Epoch 75/100\n",
      "16/16 [==============================] - 0s 5ms/step - loss: 0.1196\n",
      "Epoch 76/100\n",
      "16/16 [==============================] - 0s 2ms/step - loss: 0.1113\n",
      "Epoch 77/100\n",
      "16/16 [==============================] - 0s 4ms/step - loss: 0.1123\n",
      "Epoch 78/100\n",
      "16/16 [==============================] - 0s 2ms/step - loss: 0.1183\n",
      "Epoch 79/100\n",
      "16/16 [==============================] - 0s 3ms/step - loss: 0.1235\n",
      "Epoch 80/100\n",
      "16/16 [==============================] - 0s 2ms/step - loss: 0.1159\n",
      "Epoch 81/100\n",
      "16/16 [==============================] - 0s 3ms/step - loss: 0.1160\n",
      "Epoch 82/100\n",
      "16/16 [==============================] - 0s 2ms/step - loss: 0.1133\n",
      "Epoch 83/100\n",
      "16/16 [==============================] - 0s 2ms/step - loss: 0.1106\n",
      "Epoch 84/100\n",
      "16/16 [==============================] - 0s 2ms/step - loss: 0.1222\n",
      "Epoch 85/100\n",
      "16/16 [==============================] - 0s 2ms/step - loss: 0.1256\n",
      "Epoch 86/100\n",
      "16/16 [==============================] - 0s 2ms/step - loss: 0.1308\n",
      "Epoch 87/100\n",
      "16/16 [==============================] - 0s 3ms/step - loss: 0.1174\n",
      "Epoch 88/100\n",
      "16/16 [==============================] - 0s 3ms/step - loss: 0.1206\n",
      "Epoch 89/100\n",
      "16/16 [==============================] - 0s 3ms/step - loss: 0.1141\n",
      "Epoch 90/100\n",
      "16/16 [==============================] - 0s 3ms/step - loss: 0.1098\n",
      "Epoch 91/100\n",
      "16/16 [==============================] - 0s 2ms/step - loss: 0.1081\n",
      "Epoch 92/100\n",
      "16/16 [==============================] - 0s 4ms/step - loss: 0.1113\n",
      "Epoch 93/100\n",
      "16/16 [==============================] - 0s 2ms/step - loss: 0.1082\n",
      "Epoch 94/100\n",
      "16/16 [==============================] - 0s 3ms/step - loss: 0.1076\n",
      "Epoch 95/100\n",
      "16/16 [==============================] - 0s 3ms/step - loss: 0.1172\n",
      "Epoch 96/100\n",
      "16/16 [==============================] - 0s 3ms/step - loss: 0.1109\n",
      "Epoch 97/100\n",
      "16/16 [==============================] - 0s 3ms/step - loss: 0.1141\n",
      "Epoch 98/100\n",
      "16/16 [==============================] - 0s 3ms/step - loss: 0.1051\n",
      "Epoch 99/100\n",
      "16/16 [==============================] - 0s 2ms/step - loss: 0.1137\n",
      "Epoch 100/100\n",
      "16/16 [==============================] - 0s 2ms/step - loss: 0.1125\n",
      "313/313 [==============================] - 1s 2ms/step - loss: 0.1460\n"
     ]
    },
    {
     "data": {
      "text/plain": [
       "0.146001935005188"
      ]
     },
     "execution_count": 5,
     "metadata": {},
     "output_type": "execute_result"
    }
   ],
   "source": [
    "model_cor = keras.Sequential([\n",
    "    keras.layers.Dense(10, activation=\"relu\", input_shape=(3,)),\n",
    "    keras.layers.Dense(10, activation=\"relu\", input_shape=(3,)),\n",
    "    keras.layers.Dense(1)\n",
    "])\n",
    "\n",
    "optimizer = keras.optimizers.Adam(learning_rate=0.01)\n",
    "model_cor.compile(optimizer=optimizer, loss=\"mse\")\n",
    "model_cor.fit(X_cor_train, Y_cor_train, epochs=100)\n",
    "model_cor.evaluate(X_cor_test, Y_cor_test)"
   ]
  },
  {
   "cell_type": "markdown",
   "id": "f6b0a851",
   "metadata": {},
   "source": [
    "---\n",
    "## PDP - Influence of feature interactions and feature correlations\n",
    "\n",
    "\n",
    "\n",
    "Let' s estimate some notation for the rest of the tutorial:\n",
    "\n",
    "<center>\n",
    "\n",
    "| Symbol                                                     | Description                                             |\n",
    "|------------------------------------------------------------|---------------------------------------------------------|\n",
    "| $f(\\mathbf{x})$                                            | The black box model                                     |\n",
    "| $x_s$                                                      | The feature of interest                                 |\n",
    "| $x_c$                                                      | The remaining features, i.e., $\\mathbf{x} = (x_s, x_c)$ |\n",
    "| $\\mathbf{x} = (x_s, x_c) = (x_1, x_2, ..., x_s, ..., x_D)$ | The input features                                      |\n",
    "| $\\mathbf{x}^{(i)} = (x_s^{(i)}, x_c^{(i)})$                | The $i$-th instance of the dataset                      |\n",
    "\n",
    "The PDP is defined as **_the average of the model's prediction over the entire dataset, while varying the feature of interest._**\n",
    "PDP is defined as \n",
    "\n",
    "$$ \\text{PDP}(x_s) = \\mathbb{E}_{x_c}[f(x_s, x_c)] $$ \n",
    "\n",
    "and is approximated by \n",
    "\n",
    "$$ \\hat{\\text{PDP}}(x_s) = \\frac{1}{N} \\sum_{j=1}^N f(x_s, x^{(i)}_c) $$\n",
    "\n",
    "Therfore, the PDP is an verage over the underlying ICE curves (local effects) which visualize how the feature of interest influences the prediction of the ML model for each single instance. Heterogeneous ICE curves indicate feature interactions. Therefore, we are expecting heterogeneous ICE curves for $x_1$ and $x_3$ for our uncorrelated simulation example, which can be explained by the underlying feature interactions.\n",
    "\n",
    "Let's check it out the PDP effect using `effector`."
   ]
  },
  {
   "cell_type": "markdown",
   "id": "8fe27b3e2d1bb5f9",
   "metadata": {},
   "source": [
    "### Uncorrelated setting"
   ]
  },
  {
   "cell_type": "markdown",
   "id": "42eb5123",
   "metadata": {},
   "source": [
    "#### Global PDP"
   ]
  },
  {
   "cell_type": "code",
   "execution_count": 6,
   "id": "02c6a5f0",
   "metadata": {
    "ExecuteTime": {
     "end_time": "2023-12-13T11:53:34.762536511Z",
     "start_time": "2023-12-13T11:53:33.500609182Z"
    }
   },
   "outputs": [
    {
     "data": {
      "image/png": "[encoded data removed]",
      "text/plain": [
       "<Figure size 640x480 with 1 Axes>"
      ]
     },
     "metadata": {},
     "output_type": "display_data"
    },
    {
     "ename": "TypeError",
     "evalue": "cannot unpack non-iterable NoneType object",
     "output_type": "error",
     "traceback": [
      "\u001b[0;31m---------------------------------------------------------------------------\u001b[0m",
      "\u001b[0;31mTypeError\u001b[0m                                 Traceback (most recent call last)",
      "Cell \u001b[0;32mIn[6], line 2\u001b[0m\n\u001b[1;32m      1\u001b[0m pdp \u001b[38;5;241m=\u001b[39m effector\u001b[38;5;241m.\u001b[39mPDP(data\u001b[38;5;241m=\u001b[39mX_uncor_train, model\u001b[38;5;241m=\u001b[39mmodel_uncor, feature_names\u001b[38;5;241m=\u001b[39m[\u001b[38;5;124m'\u001b[39m\u001b[38;5;124mx1\u001b[39m\u001b[38;5;124m'\u001b[39m,\u001b[38;5;124m'\u001b[39m\u001b[38;5;124mx2\u001b[39m\u001b[38;5;124m'\u001b[39m,\u001b[38;5;124m'\u001b[39m\u001b[38;5;124mx3\u001b[39m\u001b[38;5;124m'\u001b[39m], target_name\u001b[38;5;241m=\u001b[39m\u001b[38;5;124m\"\u001b[39m\u001b[38;5;124mY\u001b[39m\u001b[38;5;124m\"\u001b[39m)\n\u001b[0;32m----> 2\u001b[0m fig, ax \u001b[38;5;241m=\u001b[39m pdp\u001b[38;5;241m.\u001b[39mplot(feature\u001b[38;5;241m=\u001b[39m\u001b[38;5;241m0\u001b[39m, centering\u001b[38;5;241m=\u001b[39m\u001b[38;5;28;01mTrue\u001b[39;00m, show_avg_output\u001b[38;5;241m=\u001b[39m\u001b[38;5;28;01mFalse\u001b[39;00m, heterogeneity\u001b[38;5;241m=\u001b[39m\u001b[38;5;124m\"\u001b[39m\u001b[38;5;124mice\u001b[39m\u001b[38;5;124m\"\u001b[39m)\n\u001b[1;32m      3\u001b[0m fig, ax \u001b[38;5;241m=\u001b[39m pdp\u001b[38;5;241m.\u001b[39mplot(feature\u001b[38;5;241m=\u001b[39m\u001b[38;5;241m1\u001b[39m, centering\u001b[38;5;241m=\u001b[39m\u001b[38;5;28;01mTrue\u001b[39;00m, show_avg_output\u001b[38;5;241m=\u001b[39m\u001b[38;5;28;01mFalse\u001b[39;00m, heterogeneity\u001b[38;5;241m=\u001b[39m\u001b[38;5;124m\"\u001b[39m\u001b[38;5;124mice\u001b[39m\u001b[38;5;124m\"\u001b[39m)\n\u001b[1;32m      4\u001b[0m fig, ax \u001b[38;5;241m=\u001b[39m pdp\u001b[38;5;241m.\u001b[39mplot(feature\u001b[38;5;241m=\u001b[39m\u001b[38;5;241m2\u001b[39m, centering\u001b[38;5;241m=\u001b[39m\u001b[38;5;28;01mTrue\u001b[39;00m, show_avg_output\u001b[38;5;241m=\u001b[39m\u001b[38;5;28;01mFalse\u001b[39;00m, heterogeneity\u001b[38;5;241m=\u001b[39m\u001b[38;5;124m\"\u001b[39m\u001b[38;5;124mice\u001b[39m\u001b[38;5;124m\"\u001b[39m)\n",
      "\u001b[0;31mTypeError\u001b[0m: cannot unpack non-iterable NoneType object"
     ]
    }
   ],
   "source": [
    "pdp = effector.PDP(data=X_uncor_train, model=model_uncor, feature_names=['x1','x2','x3'], target_name=\"Y\")\n",
    "pdp.plot(feature=0, centering=True, show_avg_output=False, heterogeneity=\"ice\")\n",
    "pdp.plot(feature=1, centering=True, show_avg_output=False, heterogeneity=\"ice\")\n",
    "fig, ax = pdp.plot(feature=2, centering=True, show_avg_output=False, heterogeneity=\"ice\")"
   ]
  },
  {
   "cell_type": "markdown",
   "id": "66505828-acb3-491c-abff-b4227a564451",
   "metadata": {},
   "source": [
    "In the uncorrelated setting $x_1$ has - as expected - an average global feature effect of $0$ while the heteroeneous ICE curves indicate the underlying feature interactions with $x_3$. Also $x_3$ demonstrates a high heterogeneity of local effects due to the interactions with $x_1$ while the average global effect is $x_3$. $x_2$ varies as expected around $0$ with almost zero heterogeneity (note the difference in the scale of the y-axis).\n",
    "\n",
    "The above are as expected:\n",
    "\n",
    "* For $x_1$, we have two opposite linear effects that cancel out\n",
    "  * when $x_3>0$ it is $3x_1$ \n",
    "  * when $x_3 \\leq 0$, it is $-3x_1$\n",
    "* For $x_2$ the effect is zero with almost zero heterogeneity (ice curves that deviate are due to bad fitting of the NN)\n",
    "* For $x_3$, there is a change in the offset:\n",
    "  * when $x_1>0$ the line is $x_3 - 3x_1^i$ when $x_3 \\leq 0$ and $x_3 + 3x_1^i$ when $x_3 > 0$\n",
    "  * when $x_1<0$ the line is $x_3 + 3x_1^i$ when $x_3 \\leq 0$ and $x_3 - 3x_1^i$ when $x_3 > 0$"
   ]
  },
  {
   "cell_type": "markdown",
   "id": "e7c5d3e05af4b993",
   "metadata": {},
   "source": [
    "#### RegionalPDP\n",
    "\n",
    "Regional PDP will search for interpretable and distinct regions within the feature space such that the interaction-related heterogeneity is minimized within the regions. In the case of PDPs and ICE this means, that we minimize the heterogeneity of mean-centered ICE curves. This means that we group ICE curves with a similar shape, i.e., we find regions in which the instances within this regions show a similar influence on the prediction for the feature of interests, while this influence differs for other regions."
   ]
  },
  {
   "cell_type": "code",
   "execution_count": null,
   "id": "fa77cdca-e516-4274-8928-e2225c935b3e",
   "metadata": {
    "ExecuteTime": {
     "end_time": "2023-12-13T11:53:36.328970911Z",
     "start_time": "2023-12-13T11:53:34.763592769Z"
    }
   },
   "outputs": [],
   "source": [
    "regional_pdp = effector.RegionalPDP(data=X_uncor_train, model=model_uncor, feature_names=['x1','x2','x3'], axis_limits=np.array([[-1,1],[-1,1],[-1,1]]).T)\n",
    "\n",
    "regional_pdp.fit(\n",
    "    features=\"all\",\n",
    "    heter_small_enough=0.1,\n",
    "    heter_pcg_drop_thres=0.3,\n",
    "    max_split_levels=2,\n",
    "    nof_candidate_splits_for_numerical=5,\n",
    "    min_points_per_subregion=10,\n",
    "    candidate_conditioning_features=\"all\",\n",
    "    split_categorical_features=True,\n",
    ")"
   ]
  },
  {
   "cell_type": "code",
   "execution_count": null,
   "id": "dbf00ef5",
   "metadata": {
    "ExecuteTime": {
     "end_time": "2023-12-13T11:53:36.383779396Z",
     "start_time": "2023-12-13T11:53:36.364394741Z"
    }
   },
   "outputs": [],
   "source": [
    "regional_pdp.describe_subregions(features=0, only_important=True)"
   ]
  },
  {
   "cell_type": "code",
   "execution_count": null,
   "id": "c3c12d04159fd146",
   "metadata": {
    "ExecuteTime": {
     "end_time": "2023-12-13T11:53:36.949840222Z",
     "start_time": "2023-12-13T11:53:36.364671085Z"
    }
   },
   "outputs": [],
   "source": [
    "regional_pdp.plot_first_level(feature=0, heterogeneity=\"ice\")"
   ]
  },
  {
   "cell_type": "code",
   "execution_count": null,
   "id": "504dd45889f8a999",
   "metadata": {
    "ExecuteTime": {
     "end_time": "2023-12-13T11:53:37.017973828Z",
     "start_time": "2023-12-13T11:53:36.946362048Z"
    }
   },
   "outputs": [],
   "source": [
    "regional_pdp.describe_subregions(features=1, only_important=True)"
   ]
  },
  {
   "cell_type": "code",
   "execution_count": null,
   "id": "e8b6a8f24698bf6",
   "metadata": {
    "ExecuteTime": {
     "end_time": "2023-12-13T11:53:37.018551523Z",
     "start_time": "2023-12-13T11:53:36.988862958Z"
    }
   },
   "outputs": [],
   "source": [
    "regional_pdp.describe_subregions(features=2, only_important=True)"
   ]
  },
  {
   "cell_type": "code",
   "execution_count": null,
   "id": "2e7680c5474df691",
   "metadata": {
    "ExecuteTime": {
     "end_time": "2023-12-13T11:53:37.551064760Z",
     "start_time": "2023-12-13T11:53:36.989415280Z"
    }
   },
   "outputs": [],
   "source": [
    "regional_pdp.plot_first_level(feature=2, heterogeneity=\"ice\", centering=True)"
   ]
  },
  {
   "cell_type": "markdown",
   "id": "94c4d0ef",
   "metadata": {},
   "source": [
    "As expected:\n",
    "\n",
    "* The subregions of both $x_1$ and $x_3$ are meaningful and $x_2$ should not be split.\n",
    "* For $x_1$, we have two opposite gradients ($3x_1$ vs $-3x_1$)\n",
    "* For $x_3$, there is a change in the offset:\n",
    "  * when $x_1>0$ the line is $x_3 - 3x_1^i$ in the first half and $x_3 + 3x_1^i$ later\n",
    "  * when $x_1<0$ the line is $x_3 + 3x_1^i$ in the first half and $x_3 - 3x_1^i$ later"
   ]
  },
  {
   "cell_type": "markdown",
   "id": "f6ec4f96113da9df",
   "metadata": {},
   "source": [
    "### Correlated setting\n",
    "\n",
    "Since the PDP assumes feature independence, we can observe in the highly correlated setting the following artifact: $x_1$ and $x_3$ are highly positively correlated, therefore, the combination of small (high) $x_1$ and high (small) $x_3$ feature values is not avaiable and thus has not been seen by the model during the training process. However, ICE curves and PDPs are visualized for the entire feature range of the feature of interest (e.g., $x_1$). Thus, we extrapolate with our model (here NN) into unseen or sparse regions of the feature space. This might lead to an osciliating behavior depending on the underlying chosen ML model. Therefore, we might receive heterogeneity of local effects (ICE curves) which are not caused by feature interactions but by extrapolation due to feature correlations. This behavior is especially visible for feature $x_1$ in our example."
   ]
  },
  {
   "cell_type": "markdown",
   "id": "6be50388",
   "metadata": {},
   "source": [
    "In this setup, due to $x_3$ being close to $x_1$, we expect:\n",
    "\n",
    "   * the effect of $x_1$ will be $-3x_1$ when $x_1 \\leq 0$ and $3x_1$ when $x_1 >0$\n",
    "   * the effect of $x_2$ remains zero\n",
    "   * the effect of $x_3$ will be $x_3$\n",
    "   \n",
    "However, we should mention that this is just a hypothesis. Since the NN learns everything from the data and given that $x_3 \\approx x_1$, the NN can learn the mapping $y = 3x_1I_{x_3>0} - 3x_1I_{x_3\\leq 0} + x_3 + \\epsilon = 3x_1I_{x_1>0} - 3x_1I_{x_1\\leq 0} + x_1 + \\epsilon$, which attributes all the effect of the mapping to $x_1$."
   ]
  },
  {
   "cell_type": "markdown",
   "id": "44ad0779",
   "metadata": {},
   "source": [
    "#### Global PDP"
   ]
  },
  {
   "cell_type": "code",
   "execution_count": null,
   "id": "a6e372da8949f873",
   "metadata": {
    "ExecuteTime": {
     "end_time": "2023-12-13T11:53:38.764830113Z",
     "start_time": "2023-12-13T11:53:37.553446095Z"
    }
   },
   "outputs": [],
   "source": [
    "pdp = effector.PDP(data=X_cor_train, model=model_cor, feature_names=['x1','x2','x3'], target_name=\"Y\")\n",
    "fig, ax = pdp.plot(feature=0, centering=True, show_avg_output=False, heterogeneity=\"ice\")\n",
    "fig, ax = pdp.plot(feature=1, centering=True, show_avg_output=False, heterogeneity=\"ice\")\n",
    "fig, ax = pdp.plot(feature=2, centering=True, show_avg_output=False, heterogeneity=\"ice\")"
   ]
  },
  {
   "cell_type": "markdown",
   "id": "9a6a0644",
   "metadata": {},
   "source": [
    "We observed that the global effects are as expected:\n",
    "\n",
    "   * the effect of $x_1$ will be $-3x_1$ when $x_1 \\leq 0$ and $3x_1$ when $x_1 >0$\n",
    "   * the effect of $x_2$ remains zero\n",
    "   * the effect of $x_3$ will be $x_3$\n",
    "   \n",
    "However, we should notice that there is some heterogeneity, erroneously introduced by extrapolation to unobserved regions:\n",
    "\n",
    "   * the ICE effects of $x_1$ have different offsets ($\\pm$ in the $y$ axis) and different changing points between $-3x_1$ and $3x_1$ (the change does not always happens at $x_1=0$)\n",
    "   * the ICE effects of $x_3$ create two different groups; one with positive and one with negative gradient"
   ]
  },
  {
   "cell_type": "markdown",
   "id": "d2d0e2811f51ec7b",
   "metadata": {},
   "source": [
    "#### Regional-PDP"
   ]
  },
  {
   "cell_type": "code",
   "execution_count": null,
   "id": "54ee23c232715073",
   "metadata": {
    "ExecuteTime": {
     "end_time": "2023-12-13T11:53:40.108144758Z",
     "start_time": "2023-12-13T11:53:38.767287418Z"
    }
   },
   "outputs": [],
   "source": [
    "regional_pdp = effector.RegionalPDP(\n",
    "    data=X_cor_train, \n",
    "    model=model_cor, \n",
    "    feature_names=['x1', 'x2', 'x3'],\n",
    "    axis_limits=np.array([[-1, 1], [-1, 1], [-1, 1]]).T)\n",
    "\n",
    "regional_pdp.fit(\n",
    "    features=\"all\",\n",
    "    heter_small_enough=0.1,\n",
    "    heter_pcg_drop_thres=0.5,\n",
    "    max_split_levels=2,\n",
    "    nof_candidate_splits_for_numerical=5,\n",
    "    min_points_per_subregion=10,\n",
    "    candidate_conditioning_features=\"all\",\n",
    "    split_categorical_features=True,\n",
    ")"
   ]
  },
  {
   "cell_type": "code",
   "execution_count": null,
   "id": "2606e6bef23106ac",
   "metadata": {
    "ExecuteTime": {
     "end_time": "2023-12-13T11:53:40.153264206Z",
     "start_time": "2023-12-13T11:53:40.152389742Z"
    }
   },
   "outputs": [],
   "source": [
    "regional_pdp.describe_subregions(features=0, only_important=True)"
   ]
  },
  {
   "cell_type": "code",
   "execution_count": null,
   "id": "8473115660bacb9b",
   "metadata": {
    "ExecuteTime": {
     "end_time": "2023-12-13T11:53:40.618341281Z",
     "start_time": "2023-12-13T11:53:40.152737566Z"
    }
   },
   "outputs": [],
   "source": [
    "regional_pdp.plot_first_level(feature=0, heterogeneity=\"ice\")"
   ]
  },
  {
   "cell_type": "code",
   "execution_count": null,
   "id": "4f26343f355b38b2",
   "metadata": {
    "ExecuteTime": {
     "end_time": "2023-12-13T11:53:40.665707234Z",
     "start_time": "2023-12-13T11:53:40.619058881Z"
    }
   },
   "outputs": [],
   "source": [
    "regional_pdp.describe_subregions(features=1, only_important=True)"
   ]
  },
  {
   "cell_type": "code",
   "execution_count": null,
   "id": "d48491ce1f0d7b8e",
   "metadata": {
    "ExecuteTime": {
     "end_time": "2023-12-13T11:53:40.665979378Z",
     "start_time": "2023-12-13T11:53:40.660408229Z"
    }
   },
   "outputs": [],
   "source": [
    "regional_pdp.describe_subregions(features=2, only_important=True)"
   ]
  },
  {
   "cell_type": "markdown",
   "id": "8782e743",
   "metadata": {},
   "source": [
    "Add some comments"
   ]
  },
  {
   "cell_type": "markdown",
   "id": "71b92f798478930a",
   "metadata": {},
   "source": [
    "## ALE - Influence of feature interactions and feature correlations\n",
    "\n",
    "\n"
   ]
  },
  {
   "cell_type": "code",
   "execution_count": null,
   "id": "11923b0d48415498",
   "metadata": {
    "ExecuteTime": {
     "end_time": "2023-12-13T11:53:40.666093840Z",
     "start_time": "2023-12-13T11:53:40.660533368Z"
    }
   },
   "outputs": [],
   "source": [
    "def model_uncor_jac(x):\n",
    "    x_tensor = tf.convert_to_tensor(x, dtype=tf.float32)\n",
    "    with tf.GradientTape() as t:\n",
    "        t.watch(x_tensor)\n",
    "        pred = model_uncor(x_tensor)\n",
    "        grads = t.gradient(pred, x_tensor)\n",
    "    return grads.numpy()\n",
    "\n",
    "def model_cor_jac(x):\n",
    "    x_tensor = tf.convert_to_tensor(x, dtype=tf.float32)\n",
    "    with tf.GradientTape() as t:\n",
    "        t.watch(x_tensor)\n",
    "        pred = model_cor(x_tensor)\n",
    "        grads = t.gradient(pred, x_tensor)\n",
    "    return grads.numpy()"
   ]
  },
  {
   "cell_type": "code",
   "execution_count": null,
   "id": "5e34c1935d672fc4",
   "metadata": {
    "ExecuteTime": {
     "end_time": "2023-12-13T11:53:41.354370150Z",
     "start_time": "2023-12-13T11:53:40.660617367Z"
    }
   },
   "outputs": [],
   "source": [
    "rhale = effector.RHALE(data=X_uncor_train, model=model_uncor, model_jac=model_uncor_jac, feature_names=['x1','x2','x3'], target_name=\"Y\")\n",
    "\n",
    "binning_method = effector.binning_methods.Fixed(15, min_points_per_bin=0)\n",
    "rhale.fit(features=\"all\", binning_method=binning_method, centering=True)\n",
    "\n",
    "rhale.plot(feature=0, centering=True, heterogeneity=\"std\", show_avg_output=False)\n",
    "rhale.plot(feature=1, centering=True, heterogeneity=\"std\", show_avg_output=False)\n",
    "rhale.plot(feature=2, centering=True, heterogeneity=\"std\", show_avg_output=False)"
   ]
  },
  {
   "cell_type": "markdown",
   "id": "d034fb05",
   "metadata": {},
   "source": [
    "Add some comments"
   ]
  },
  {
   "cell_type": "code",
   "execution_count": null,
   "id": "f2f5a2bc60c6ace3",
   "metadata": {
    "ExecuteTime": {
     "end_time": "2023-12-13T11:53:42.024882410Z",
     "start_time": "2023-12-13T11:53:41.356868686Z"
    }
   },
   "outputs": [],
   "source": [
    "regional_rhale = effector.RegionalRHALE(\n",
    "    data=X_uncor_train, \n",
    "    model=model_uncor, \n",
    "    model_jac= model_uncor_jac, \n",
    "    feature_names=['x1', 'x2', 'x3'],\n",
    "    axis_limits=np.array([[-1, 1], [-1, 1], [-1, 1]]).T) \n",
    "\n",
    "binning_method = effector.binning_methods.Fixed(10, min_points_per_bin=0)\n",
    "regional_rhale.fit(\n",
    "    features=\"all\",\n",
    "    heter_small_enough=0.1,\n",
    "    heter_pcg_drop_thres=0.3,\n",
    "    max_split_levels=2,\n",
    "    nof_candidate_splits_for_numerical=5,\n",
    "    binning_method=binning_method,\n",
    "    min_points_per_subregion=10,\n",
    "    candidate_conditioning_features=\"all\",\n",
    "    split_categorical_features=True,\n",
    ")\n"
   ]
  },
  {
   "cell_type": "code",
   "execution_count": null,
   "id": "32319c7907f5a58d",
   "metadata": {
    "ExecuteTime": {
     "end_time": "2023-12-13T11:53:42.025178227Z",
     "start_time": "2023-12-13T11:53:42.024494905Z"
    }
   },
   "outputs": [],
   "source": [
    "regional_rhale.describe_subregions(features=0, only_important=True)"
   ]
  },
  {
   "cell_type": "code",
   "execution_count": null,
   "id": "c0640e76aad499bc",
   "metadata": {
    "ExecuteTime": {
     "end_time": "2023-12-13T11:53:42.461094220Z",
     "start_time": "2023-12-13T11:53:42.024699369Z"
    }
   },
   "outputs": [],
   "source": [
    "regional_rhale.plot_first_level(\n",
    "    feature=0, \n",
    "    heterogeneity=True, \n",
    "    binning_method=binning_method)"
   ]
  },
  {
   "cell_type": "code",
   "execution_count": null,
   "id": "807b34adeba9bb05",
   "metadata": {
    "ExecuteTime": {
     "end_time": "2023-12-13T11:53:42.461709873Z",
     "start_time": "2023-12-13T11:53:42.458709596Z"
    }
   },
   "outputs": [],
   "source": [
    "regional_rhale.describe_subregions(features=1, only_important=True)"
   ]
  },
  {
   "cell_type": "code",
   "execution_count": null,
   "id": "1095d0b5613322ef",
   "metadata": {
    "ExecuteTime": {
     "end_time": "2023-12-13T11:53:42.529513838Z",
     "start_time": "2023-12-13T11:53:42.463134341Z"
    }
   },
   "outputs": [],
   "source": [
    "regional_rhale.describe_subregions(features=2, only_important=True)"
   ]
  },
  {
   "cell_type": "markdown",
   "id": "bfad7a0a",
   "metadata": {},
   "source": [
    "add comments: Eveything makes sense! "
   ]
  },
  {
   "cell_type": "markdown",
   "id": "9691fcd354d97cf4",
   "metadata": {},
   "source": [
    "## Correlated setting"
   ]
  },
  {
   "cell_type": "code",
   "execution_count": null,
   "id": "7764f1699577c587",
   "metadata": {
    "ExecuteTime": {
     "end_time": "2023-12-13T11:53:42.529848131Z",
     "start_time": "2023-12-13T11:53:42.504936876Z"
    }
   },
   "outputs": [],
   "source": [
    "rhale = effector.RHALE(data=X_cor_train, model=model_cor, model_jac=model_cor_jac, feature_names=['x1','x2','x3'], target_name=\"Y\")\n",
    "\n",
    "binning_method = effector.binning_methods.Fixed(20, min_points_per_bin=0)\n",
    "rhale.fit(features=\"all\", binning_method=binning_method, centering=True)"
   ]
  },
  {
   "cell_type": "code",
   "execution_count": null,
   "id": "45f07375bc48be1b",
   "metadata": {
    "ExecuteTime": {
     "end_time": "2023-12-13T11:53:42.806465825Z",
     "start_time": "2023-12-13T11:53:42.505373238Z"
    }
   },
   "outputs": [],
   "source": [
    "rhale.plot(feature=0, centering=True, show_avg_output=False, heterogeneity=\"std\")"
   ]
  },
  {
   "cell_type": "code",
   "execution_count": null,
   "id": "20bd19e65944a77b",
   "metadata": {
    "ExecuteTime": {
     "end_time": "2023-12-13T11:53:43.077103877Z",
     "start_time": "2023-12-13T11:53:42.801735365Z"
    }
   },
   "outputs": [],
   "source": [
    "rhale.plot(feature=1, centering=True, show_avg_output=False, heterogeneity=\"std\")"
   ]
  },
  {
   "cell_type": "code",
   "execution_count": null,
   "id": "b31aeba0cb8302da",
   "metadata": {
    "ExecuteTime": {
     "end_time": "2023-12-13T11:53:43.307162552Z",
     "start_time": "2023-12-13T11:53:43.075939968Z"
    }
   },
   "outputs": [],
   "source": [
    "rhale.plot(feature=2, centering=True, show_avg_output=False, heterogeneity=\"std\")"
   ]
  },
  {
   "cell_type": "code",
   "execution_count": null,
   "id": "9c46c93abb628de",
   "metadata": {
    "ExecuteTime": {
     "end_time": "2023-12-13T11:53:43.355362700Z",
     "start_time": "2023-12-13T11:53:43.310682862Z"
    }
   },
   "outputs": [],
   "source": [
    "regional_rhale = effector.RegionalRHALE(\n",
    "    data=X_cor_train, \n",
    "    model=model_cor, \n",
    "    model_jac= model_cor_jac, \n",
    "    feature_names=['x1', 'x2', 'x3'],\n",
    "    axis_limits=np.array([[-1, 1], [-1, 1], [-1, 1]]).T)"
   ]
  },
  {
   "cell_type": "code",
   "execution_count": null,
   "id": "54fd4292630f6ffb",
   "metadata": {
    "ExecuteTime": {
     "end_time": "2023-12-13T11:53:44.833821597Z",
     "start_time": "2023-12-13T11:53:43.353036200Z"
    }
   },
   "outputs": [],
   "source": [
    "binning_method = effector.binning_methods.Greedy(100, min_points_per_bin=10)\n",
    "regional_rhale.fit(\n",
    "    features=\"all\",\n",
    "    heter_small_enough=0.1,\n",
    "    heter_pcg_drop_thres=0.3,\n",
    "    max_split_levels=2,\n",
    "    nof_candidate_splits_for_numerical=5,\n",
    "    binning_method=binning_method,\n",
    "    min_points_per_subregion=10,\n",
    "    candidate_conditioning_features=\"all\",\n",
    "    split_categorical_features=True,\n",
    ")"
   ]
  },
  {
   "cell_type": "code",
   "execution_count": null,
   "id": "91fc02c2b251473b",
   "metadata": {
    "ExecuteTime": {
     "end_time": "2023-12-13T11:53:44.900944602Z",
     "start_time": "2023-12-13T11:53:44.833573452Z"
    }
   },
   "outputs": [],
   "source": [
    "regional_rhale.describe_subregions(features=0, only_important=True)"
   ]
  },
  {
   "cell_type": "code",
   "execution_count": null,
   "id": "ea9aaeb10c834eb7",
   "metadata": {
    "ExecuteTime": {
     "end_time": "2023-12-13T11:53:44.920237519Z",
     "start_time": "2023-12-13T11:53:44.876630336Z"
    }
   },
   "outputs": [],
   "source": [
    "regional_rhale.describe_subregions(features=1, only_important=True)"
   ]
  },
  {
   "cell_type": "code",
   "execution_count": null,
   "id": "6cbc99d328556e06",
   "metadata": {
    "ExecuteTime": {
     "end_time": "2023-12-13T11:53:44.920958674Z",
     "start_time": "2023-12-13T11:53:44.876996136Z"
    }
   },
   "outputs": [],
   "source": [
    "regional_rhale.describe_subregions(features=2, only_important=True)"
   ]
  },
  {
   "cell_type": "markdown",
   "id": "f9b280bc",
   "metadata": {
    "ExecuteTime": {
     "end_time": "2023-12-04T14:55:19.451085858Z",
     "start_time": "2023-12-04T14:55:19.448860207Z"
    }
   },
   "source": [
    "add comment, I think the absence of subregions is meaningful "
   ]
  },
  {
   "cell_type": "code",
   "execution_count": null,
   "id": "5b174eec",
   "metadata": {
    "ExecuteTime": {
     "end_time": "2023-12-13T11:53:44.921183909Z",
     "start_time": "2023-12-13T11:53:44.877125815Z"
    }
   },
   "outputs": [],
   "source": []
  }
 ],
 "metadata": {
  "kernelspec": {
   "display_name": "Python 3 (ipykernel)",
   "language": "python",
   "name": "python3"
  },
  "language_info": {
   "codemirror_mode": {
    "name": "ipython",
    "version": 3
   },
   "file_extension": ".py",
   "mimetype": "text/x-python",
   "name": "python",
   "nbconvert_exporter": "python",
   "pygments_lexer": "ipython3",
   "version": "3.11.5"
  }
 },
 "nbformat": 4,
 "nbformat_minor": 5
}
